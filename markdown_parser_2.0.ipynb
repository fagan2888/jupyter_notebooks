{
 "cells": [
  {
   "cell_type": "code",
   "execution_count": 8,
   "metadata": {},
   "outputs": [],
   "source": [
    "# Notes on Version 2 (From General Hanley):\n",
    "\n",
    "# Advocates transcending the \"line-by-line approach\":\n",
    "# If you give re.sub the flags=re.MULTILINE option, then ^ and $ will match the\n",
    "# beginning and end of lines, rather than the whole string. That way you\n",
    "# can do it for the whole file at once. This should in principle be faster too."
   ]
  },
  {
   "cell_type": "code",
   "execution_count": 9,
   "metadata": {},
   "outputs": [],
   "source": [
    "import re"
   ]
  },
  {
   "cell_type": "code",
   "execution_count": 10,
   "metadata": {},
   "outputs": [
    {
     "name": "stdout",
     "output_type": "stream",
     "text": [
      "596\n"
     ]
    }
   ],
   "source": [
    "input_file = 'ser596.md'\n",
    "ret = re.match(r'[^0-9]*([0-9]+)\\.md', input_file)\n",
    "doc_serial, = ret.groups()\n",
    "print(doc_serial)"
   ]
  },
  {
   "cell_type": "code",
   "execution_count": 11,
   "metadata": {},
   "outputs": [],
   "source": [
    "with open(input_file) as fin:\n",
    "    text = fin.read()"
   ]
  },
  {
   "cell_type": "code",
   "execution_count": 12,
   "metadata": {},
   "outputs": [],
   "source": [
    "# General Hanley on F-strings: I made a few other changes too, the major one is useing f-strings,\n",
    "# which is a great new feature. (You need to have python version >=3.6)\n",
    "\n",
    "\n",
    "conv = text\n",
    "conv = re.sub(r'^ *\\- (.*)$', r'<lb>\\1</lb>', conv, flags=re.MULTILINE)\n",
    "conv = re.sub(r'\\----', r'</div>\\n<div>', conv, flags=re.MULTILINE)\n",
    "conv = re.sub(r'(\\*[^\\*\\n]+\\*)', r'<flag>\\1</flag>', conv)\n",
    "conv = re.sub(r'\\*', r'', conv)\n",
    "conv = re.sub(r'^> (.*)$', r'<!-- \\1 -->', conv, flags=re.MULTILINE)\n",
    "# print(conv)"
   ]
  },
  {
   "cell_type": "code",
   "execution_count": 17,
   "metadata": {},
   "outputs": [],
   "source": [
    "body = '\\n'.join([f'\\t\\t{s}' for s in conv.split('\\n')])\n",
    "final = f\"\"\"\n",
    "<?xml-model href=\"../../../../Documents/digital_humanities/digital_eurasia/schemas/schema_coding_primary_texts_2.0.rnc\" type=\"application/relax-ng-compact-syntax\"?>\n",
    "<document>\n",
    "    <metadata>\n",
    "        <unique_id>{doc_serial}</unique_id>\n",
    "    </metadata>\n",
    "    <body>\n",
    "{body}\n",
    "    </body>\n",
    "</document>\n",
    "\"\"\".strip()\n",
    "\n",
    "final = re.sub(r'</div>', '', final, count=1)\n",
    "\n",
    "# print(final)"
   ]
  },
  {
   "cell_type": "code",
   "execution_count": 19,
   "metadata": {},
   "outputs": [],
   "source": [
    "output_file = 'parser_output.xml'\n",
    "with open(output_file, 'w+') as fout:\n",
    "    fout.write(final)"
   ]
  },
  {
   "cell_type": "code",
   "execution_count": null,
   "metadata": {},
   "outputs": [],
   "source": []
  }
 ],
 "metadata": {
  "kernelspec": {
   "display_name": "Python 3",
   "language": "python",
   "name": "python3"
  },
  "language_info": {
   "codemirror_mode": {
    "name": "ipython",
    "version": 3
   },
   "file_extension": ".py",
   "mimetype": "text/x-python",
   "name": "python",
   "nbconvert_exporter": "python",
   "pygments_lexer": "ipython3",
   "version": "3.6.5"
  }
 },
 "nbformat": 4,
 "nbformat_minor": 2
}

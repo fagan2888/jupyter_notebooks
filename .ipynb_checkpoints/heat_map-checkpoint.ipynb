{
 "cells": [
  {
   "cell_type": "code",
   "execution_count": 99,
   "metadata": {},
   "outputs": [],
   "source": [
    "%matplotlib inline"
   ]
  },
  {
   "cell_type": "code",
   "execution_count": 100,
   "metadata": {},
   "outputs": [],
   "source": [
    "import geopandas\n",
    "import pandas as pd\n",
    "\n",
    "from pandas import DataFrame, Series\n",
    "\n",
    "from shapely.geometry import Point\n",
    "import matplotlib.pyplot as plt"
   ]
  },
  {
   "cell_type": "code",
   "execution_count": 101,
   "metadata": {},
   "outputs": [],
   "source": [
    "itineraries = pd.read_csv('itineraries.csv', names=['trip_id', 'ind_id', 'loc_id'])"
   ]
  },
  {
   "cell_type": "code",
   "execution_count": 102,
   "metadata": {},
   "outputs": [
    {
     "data": {
      "text/html": [
       "<div>\n",
       "<style scoped>\n",
       "    .dataframe tbody tr th:only-of-type {\n",
       "        vertical-align: middle;\n",
       "    }\n",
       "\n",
       "    .dataframe tbody tr th {\n",
       "        vertical-align: top;\n",
       "    }\n",
       "\n",
       "    .dataframe thead th {\n",
       "        text-align: right;\n",
       "    }\n",
       "</style>\n",
       "<table border=\"1\" class=\"dataframe\">\n",
       "  <thead>\n",
       "    <tr style=\"text-align: right;\">\n",
       "      <th></th>\n",
       "      <th>trip_id</th>\n",
       "      <th>ind_id</th>\n",
       "      <th>loc_id</th>\n",
       "    </tr>\n",
       "  </thead>\n",
       "  <tbody>\n",
       "    <tr>\n",
       "      <th>0</th>\n",
       "      <td>1</td>\n",
       "      <td>6</td>\n",
       "      <td>4.0</td>\n",
       "    </tr>\n",
       "    <tr>\n",
       "      <th>1</th>\n",
       "      <td>2</td>\n",
       "      <td>7</td>\n",
       "      <td>6.0</td>\n",
       "    </tr>\n",
       "    <tr>\n",
       "      <th>2</th>\n",
       "      <td>3</td>\n",
       "      <td>7</td>\n",
       "      <td>3.0</td>\n",
       "    </tr>\n",
       "    <tr>\n",
       "      <th>3</th>\n",
       "      <td>4</td>\n",
       "      <td>13</td>\n",
       "      <td>3.0</td>\n",
       "    </tr>\n",
       "    <tr>\n",
       "      <th>4</th>\n",
       "      <td>5</td>\n",
       "      <td>12</td>\n",
       "      <td>3.0</td>\n",
       "    </tr>\n",
       "  </tbody>\n",
       "</table>\n",
       "</div>"
      ],
      "text/plain": [
       "   trip_id  ind_id  loc_id\n",
       "0        1       6     4.0\n",
       "1        2       7     6.0\n",
       "2        3       7     3.0\n",
       "3        4      13     3.0\n",
       "4        5      12     3.0"
      ]
     },
     "execution_count": 102,
     "metadata": {},
     "output_type": "execute_result"
    }
   ],
   "source": [
    "itineraries.head()"
   ]
  },
  {
   "cell_type": "code",
   "execution_count": 103,
   "metadata": {},
   "outputs": [],
   "source": [
    "coords = pd.read_csv('coord.csv', names = ['att_id', 'loc_id', 'loc_name', 'lat', 'long', 'long_name'])"
   ]
  },
  {
   "cell_type": "code",
   "execution_count": 104,
   "metadata": {},
   "outputs": [
    {
     "data": {
      "text/html": [
       "<div>\n",
       "<style scoped>\n",
       "    .dataframe tbody tr th:only-of-type {\n",
       "        vertical-align: middle;\n",
       "    }\n",
       "\n",
       "    .dataframe tbody tr th {\n",
       "        vertical-align: top;\n",
       "    }\n",
       "\n",
       "    .dataframe thead th {\n",
       "        text-align: right;\n",
       "    }\n",
       "</style>\n",
       "<table border=\"1\" class=\"dataframe\">\n",
       "  <thead>\n",
       "    <tr style=\"text-align: right;\">\n",
       "      <th></th>\n",
       "      <th>att_id</th>\n",
       "      <th>loc_id</th>\n",
       "      <th>loc_name</th>\n",
       "      <th>lat</th>\n",
       "      <th>long</th>\n",
       "      <th>long_name</th>\n",
       "    </tr>\n",
       "  </thead>\n",
       "  <tbody>\n",
       "    <tr>\n",
       "      <th>0</th>\n",
       "      <td>9000</td>\n",
       "      <td>1</td>\n",
       "      <td>Hisar</td>\n",
       "      <td>68.538100</td>\n",
       "      <td>38.526400</td>\n",
       "      <td>���i��__�r\u000b",
       "Hisor</td>\n",
       "    </tr>\n",
       "    <tr>\n",
       "      <th>1</th>\n",
       "      <td>9001</td>\n",
       "      <td>3</td>\n",
       "      <td>Bukhara</td>\n",
       "      <td>64.413150</td>\n",
       "      <td>39.776910</td>\n",
       "      <td>Bukh_�ra (city)</td>\n",
       "    </tr>\n",
       "    <tr>\n",
       "      <th>2</th>\n",
       "      <td>9002</td>\n",
       "      <td>9</td>\n",
       "      <td>Tashkent</td>\n",
       "      <td>69.216667</td>\n",
       "      <td>41.266667</td>\n",
       "      <td>Tashkent</td>\n",
       "    </tr>\n",
       "    <tr>\n",
       "      <th>3</th>\n",
       "      <td>9003</td>\n",
       "      <td>61</td>\n",
       "      <td>Bakharz</td>\n",
       "      <td>60.302222</td>\n",
       "      <td>34.837500</td>\n",
       "      <td>B_�kharz</td>\n",
       "    </tr>\n",
       "    <tr>\n",
       "      <th>4</th>\n",
       "      <td>9004</td>\n",
       "      <td>62</td>\n",
       "      <td>Khiva</td>\n",
       "      <td>60.366667</td>\n",
       "      <td>41.383333</td>\n",
       "      <td>Kh_�va</td>\n",
       "    </tr>\n",
       "  </tbody>\n",
       "</table>\n",
       "</div>"
      ],
      "text/plain": [
       "   att_id  loc_id  loc_name        lat       long         long_name\n",
       "0    9000       1     Hisar  68.538100  38.526400  ���i��__�r\n",
       "Hisor\n",
       "1    9001       3   Bukhara  64.413150  39.776910   Bukh_�ra (city)\n",
       "2    9002       9  Tashkent  69.216667  41.266667          Tashkent\n",
       "3    9003      61   Bakharz  60.302222  34.837500          B_�kharz\n",
       "4    9004      62     Khiva  60.366667  41.383333            Kh_�va"
      ]
     },
     "execution_count": 104,
     "metadata": {},
     "output_type": "execute_result"
    }
   ],
   "source": [
    "coords.head()"
   ]
  },
  {
   "cell_type": "code",
   "execution_count": 105,
   "metadata": {},
   "outputs": [],
   "source": [
    "merge = pd.merge(itineraries, coords, left_on=\"loc_id\", right_on=\"loc_id\")"
   ]
  },
  {
   "cell_type": "code",
   "execution_count": 106,
   "metadata": {},
   "outputs": [
    {
     "data": {
      "text/html": [
       "<div>\n",
       "<style scoped>\n",
       "    .dataframe tbody tr th:only-of-type {\n",
       "        vertical-align: middle;\n",
       "    }\n",
       "\n",
       "    .dataframe tbody tr th {\n",
       "        vertical-align: top;\n",
       "    }\n",
       "\n",
       "    .dataframe thead th {\n",
       "        text-align: right;\n",
       "    }\n",
       "</style>\n",
       "<table border=\"1\" class=\"dataframe\">\n",
       "  <thead>\n",
       "    <tr style=\"text-align: right;\">\n",
       "      <th></th>\n",
       "      <th>trip_id</th>\n",
       "      <th>ind_id</th>\n",
       "      <th>loc_id</th>\n",
       "      <th>att_id</th>\n",
       "      <th>loc_name</th>\n",
       "      <th>lat</th>\n",
       "      <th>long</th>\n",
       "      <th>long_name</th>\n",
       "    </tr>\n",
       "  </thead>\n",
       "  <tbody>\n",
       "    <tr>\n",
       "      <th>1066</th>\n",
       "      <td>1177</td>\n",
       "      <td>914</td>\n",
       "      <td>71.0</td>\n",
       "      <td>903</td>\n",
       "      <td>Kerki</td>\n",
       "      <td>65.236944</td>\n",
       "      <td>37.853056</td>\n",
       "      <td>Kerki (Province)\u000b",
       "Kark_�\u000b",
       "�_���_����</td>\n",
       "    </tr>\n",
       "    <tr>\n",
       "      <th>648</th>\n",
       "      <td>1034</td>\n",
       "      <td>825</td>\n",
       "      <td>5.0</td>\n",
       "      <td>234</td>\n",
       "      <td>Samarqand</td>\n",
       "      <td>66.983333</td>\n",
       "      <td>39.700000</td>\n",
       "      <td>Samarqand (city)\u000b",
       "Samarkand</td>\n",
       "    </tr>\n",
       "    <tr>\n",
       "      <th>1108</th>\n",
       "      <td>300</td>\n",
       "      <td>377</td>\n",
       "      <td>106.0</td>\n",
       "      <td>233</td>\n",
       "      <td>Delhi</td>\n",
       "      <td>77.230000</td>\n",
       "      <td>28.610000</td>\n",
       "      <td>Delhi</td>\n",
       "    </tr>\n",
       "    <tr>\n",
       "      <th>435</th>\n",
       "      <td>1593</td>\n",
       "      <td>725</td>\n",
       "      <td>3.0</td>\n",
       "      <td>9001</td>\n",
       "      <td>Bukhara</td>\n",
       "      <td>64.413150</td>\n",
       "      <td>39.776910</td>\n",
       "      <td>Bukh_�ra (city)</td>\n",
       "    </tr>\n",
       "    <tr>\n",
       "      <th>1190</th>\n",
       "      <td>747</td>\n",
       "      <td>749</td>\n",
       "      <td>113.0</td>\n",
       "      <td>332</td>\n",
       "      <td>Katta-Qurghan</td>\n",
       "      <td>66.256111</td>\n",
       "      <td>39.898889</td>\n",
       "      <td>Katta Qurghan\u000b",
       "Katta-Kurgan</td>\n",
       "    </tr>\n",
       "  </tbody>\n",
       "</table>\n",
       "</div>"
      ],
      "text/plain": [
       "      trip_id  ind_id  loc_id  att_id       loc_name        lat       long  \\\n",
       "1066     1177     914    71.0     903          Kerki  65.236944  37.853056   \n",
       "648      1034     825     5.0     234      Samarqand  66.983333  39.700000   \n",
       "1108      300     377   106.0     233          Delhi  77.230000  28.610000   \n",
       "435      1593     725     3.0    9001        Bukhara  64.413150  39.776910   \n",
       "1190      747     749   113.0     332  Katta-Qurghan  66.256111  39.898889   \n",
       "\n",
       "                               long_name  \n",
       "1066  Kerki (Province)\n",
       "Kark_�\n",
       "�_���_����  \n",
       "648           Samarqand (city)\n",
       "Samarkand  \n",
       "1108                               Delhi  \n",
       "435                      Bukh_�ra (city)  \n",
       "1190          Katta Qurghan\n",
       "Katta-Kurgan  "
      ]
     },
     "execution_count": 106,
     "metadata": {},
     "output_type": "execute_result"
    }
   ],
   "source": [
    "merge.sample(5)"
   ]
  },
  {
   "cell_type": "markdown",
   "metadata": {},
   "source": [
    "This part from [Geopandas walkthrough](http://geopandas.org/gallery/create_geopandas_from_pandas.html#sphx-glr-gallery-create-geopandas-from-pandas-py):"
   ]
  },
  {
   "cell_type": "code",
   "execution_count": 107,
   "metadata": {},
   "outputs": [],
   "source": [
    "merge['coordinates'] = list(zip(merge.lat, merge.long))"
   ]
  },
  {
   "cell_type": "code",
   "execution_count": 108,
   "metadata": {},
   "outputs": [],
   "source": [
    "merge['coordinates'] = merge['coordinates'].apply(Point)"
   ]
  },
  {
   "cell_type": "code",
   "execution_count": 109,
   "metadata": {},
   "outputs": [
    {
     "data": {
      "text/html": [
       "<div>\n",
       "<style scoped>\n",
       "    .dataframe tbody tr th:only-of-type {\n",
       "        vertical-align: middle;\n",
       "    }\n",
       "\n",
       "    .dataframe tbody tr th {\n",
       "        vertical-align: top;\n",
       "    }\n",
       "\n",
       "    .dataframe thead th {\n",
       "        text-align: right;\n",
       "    }\n",
       "</style>\n",
       "<table border=\"1\" class=\"dataframe\">\n",
       "  <thead>\n",
       "    <tr style=\"text-align: right;\">\n",
       "      <th></th>\n",
       "      <th>trip_id</th>\n",
       "      <th>ind_id</th>\n",
       "      <th>loc_id</th>\n",
       "      <th>att_id</th>\n",
       "      <th>loc_name</th>\n",
       "      <th>lat</th>\n",
       "      <th>long</th>\n",
       "      <th>long_name</th>\n",
       "      <th>coordinates</th>\n",
       "    </tr>\n",
       "  </thead>\n",
       "  <tbody>\n",
       "    <tr>\n",
       "      <th>0</th>\n",
       "      <td>2</td>\n",
       "      <td>7</td>\n",
       "      <td>6.0</td>\n",
       "      <td>254</td>\n",
       "      <td>Khoqand</td>\n",
       "      <td>70.9425</td>\n",
       "      <td>40.528611</td>\n",
       "      <td>Khoqand (city)\u000b",
       "Kokand</td>\n",
       "      <td>POINT (70.9425 40.528611)</td>\n",
       "    </tr>\n",
       "    <tr>\n",
       "      <th>1</th>\n",
       "      <td>36</td>\n",
       "      <td>13</td>\n",
       "      <td>6.0</td>\n",
       "      <td>254</td>\n",
       "      <td>Khoqand</td>\n",
       "      <td>70.9425</td>\n",
       "      <td>40.528611</td>\n",
       "      <td>Khoqand (city)\u000b",
       "Kokand</td>\n",
       "      <td>POINT (70.9425 40.528611)</td>\n",
       "    </tr>\n",
       "    <tr>\n",
       "      <th>2</th>\n",
       "      <td>48</td>\n",
       "      <td>37</td>\n",
       "      <td>6.0</td>\n",
       "      <td>254</td>\n",
       "      <td>Khoqand</td>\n",
       "      <td>70.9425</td>\n",
       "      <td>40.528611</td>\n",
       "      <td>Khoqand (city)\u000b",
       "Kokand</td>\n",
       "      <td>POINT (70.9425 40.528611)</td>\n",
       "    </tr>\n",
       "    <tr>\n",
       "      <th>3</th>\n",
       "      <td>49</td>\n",
       "      <td>38</td>\n",
       "      <td>6.0</td>\n",
       "      <td>254</td>\n",
       "      <td>Khoqand</td>\n",
       "      <td>70.9425</td>\n",
       "      <td>40.528611</td>\n",
       "      <td>Khoqand (city)\u000b",
       "Kokand</td>\n",
       "      <td>POINT (70.9425 40.528611)</td>\n",
       "    </tr>\n",
       "    <tr>\n",
       "      <th>4</th>\n",
       "      <td>62</td>\n",
       "      <td>51</td>\n",
       "      <td>6.0</td>\n",
       "      <td>254</td>\n",
       "      <td>Khoqand</td>\n",
       "      <td>70.9425</td>\n",
       "      <td>40.528611</td>\n",
       "      <td>Khoqand (city)\u000b",
       "Kokand</td>\n",
       "      <td>POINT (70.9425 40.528611)</td>\n",
       "    </tr>\n",
       "  </tbody>\n",
       "</table>\n",
       "</div>"
      ],
      "text/plain": [
       "   trip_id  ind_id  loc_id  att_id loc_name      lat       long  \\\n",
       "0        2       7     6.0     254  Khoqand  70.9425  40.528611   \n",
       "1       36      13     6.0     254  Khoqand  70.9425  40.528611   \n",
       "2       48      37     6.0     254  Khoqand  70.9425  40.528611   \n",
       "3       49      38     6.0     254  Khoqand  70.9425  40.528611   \n",
       "4       62      51     6.0     254  Khoqand  70.9425  40.528611   \n",
       "\n",
       "               long_name                coordinates  \n",
       "0  Khoqand (city)\n",
       "Kokand  POINT (70.9425 40.528611)  \n",
       "1  Khoqand (city)\n",
       "Kokand  POINT (70.9425 40.528611)  \n",
       "2  Khoqand (city)\n",
       "Kokand  POINT (70.9425 40.528611)  \n",
       "3  Khoqand (city)\n",
       "Kokand  POINT (70.9425 40.528611)  \n",
       "4  Khoqand (city)\n",
       "Kokand  POINT (70.9425 40.528611)  "
      ]
     },
     "execution_count": 109,
     "metadata": {},
     "output_type": "execute_result"
    }
   ],
   "source": [
    "merge.head()"
   ]
  },
  {
   "cell_type": "code",
   "execution_count": 110,
   "metadata": {},
   "outputs": [],
   "source": [
    "gdf = geopandas.GeoDataFrame(merge, geometry='coordinates')"
   ]
  },
  {
   "cell_type": "code",
   "execution_count": 111,
   "metadata": {},
   "outputs": [
    {
     "name": "stdout",
     "output_type": "stream",
     "text": [
      "   trip_id  ind_id  loc_id  att_id loc_name      lat       long  \\\n",
      "0        2       7     6.0     254  Khoqand  70.9425  40.528611   \n",
      "1       36      13     6.0     254  Khoqand  70.9425  40.528611   \n",
      "2       48      37     6.0     254  Khoqand  70.9425  40.528611   \n",
      "3       49      38     6.0     254  Khoqand  70.9425  40.528611   \n",
      "4       62      51     6.0     254  Khoqand  70.9425  40.528611   \n",
      "\n",
      "               long_name                coordinates  \n",
      "0  Khoqand (city)\u000b",
      "Kokand  POINT (70.9425 40.528611)  \n",
      "1  Khoqand (city)\u000b",
      "Kokand  POINT (70.9425 40.528611)  \n",
      "2  Khoqand (city)\u000b",
      "Kokand  POINT (70.9425 40.528611)  \n",
      "3  Khoqand (city)\u000b",
      "Kokand  POINT (70.9425 40.528611)  \n",
      "4  Khoqand (city)\u000b",
      "Kokand  POINT (70.9425 40.528611)  \n"
     ]
    }
   ],
   "source": [
    "print(gdf.head())"
   ]
  },
  {
   "cell_type": "code",
   "execution_count": 115,
   "metadata": {},
   "outputs": [
    {
     "data": {
      "image/png": "[encoded data removed]",
      "text/plain": [
       "<Figure size 432x288 with 1 Axes>"
      ]
     },
     "metadata": {
      "needs_background": "light"
     },
     "output_type": "display_data"
    }
   ],
   "source": [
    "world = geopandas.read_file(\"../gulshani_gazetteer_project/vector-files/bukhar_protectorate.json.geojson\")\n",
    "\n",
    "# We restrict to South America.\n",
    "ax = world.plot(\n",
    "    color='white', edgecolor='black')\n",
    "\n",
    "# We can now plot our GeoDataFrame.\n",
    "gdf.plot(ax=ax, color='blue')\n",
    "\n",
    "plt.show()"
   ]
  },
  {
   "cell_type": "code",
   "execution_count": 113,
   "metadata": {},
   "outputs": [
    {
     "data": {
      "text/plain": [
       "<matplotlib.axes._subplots.AxesSubplot at 0x123172390>"
      ]
     },
     "execution_count": 113,
     "metadata": {},
     "output_type": "execute_result"
    },
    {
     "data": {
      "image/png": "[encoded data removed]",
      "text/plain": [
       "<Figure size 432x288 with 1 Axes>"
      ]
     },
     "metadata": {
      "needs_background": "light"
     },
     "output_type": "display_data"
    }
   ],
   "source": [
    "df_bukh = geopandas.read_file(\"../gulshani_gazetteer_project/vector-files/bukhar_protectorate.json.geojson\")\n",
    "df_bukh.plot(cmap='OrRd')"
   ]
  },
  {
   "cell_type": "code",
   "execution_count": null,
   "metadata": {},
   "outputs": [],
   "source": []
  }
 ],
 "metadata": {
  "kernelspec": {
   "display_name": "Python 3",
   "language": "python",
   "name": "python3"
  },
  "language_info": {
   "codemirror_mode": {
    "name": "ipython",
    "version": 3
   },
   "file_extension": ".py",
   "mimetype": "text/x-python",
   "name": "python",
   "nbconvert_exporter": "python",
   "pygments_lexer": "ipython3",
   "version": "3.7.2"
  }
 },
 "nbformat": 4,
 "nbformat_minor": 2
}

{
 "cells": [
  {
   "cell_type": "code",
   "execution_count": 49,
   "metadata": {},
   "outputs": [],
   "source": [
    "%matplotlib inline"
   ]
  },
  {
   "cell_type": "code",
   "execution_count": 62,
   "metadata": {},
   "outputs": [],
   "source": [
    "import geopandas\n",
    "import geoplot\n",
    "\n",
    "from shapely.geometry import Point\n",
    "import matplotlib.pyplot as plt\n",
    "\n",
    "import numpy as np\n",
    "import pandas as pd\n",
    "\n",
    "from pandas import DataFrame, Series"
   ]
  },
  {
   "cell_type": "code",
   "execution_count": 51,
   "metadata": {},
   "outputs": [],
   "source": [
    "# Set some pandas options\n",
    "pd.set_option('display.notebook_repr_html', True)\n",
    "pd.set_option('display.max_columns', 1000)\n",
    "pd.set_option('display.max_rows', 1000)"
   ]
  },
  {
   "cell_type": "code",
   "execution_count": 52,
   "metadata": {},
   "outputs": [],
   "source": [
    "coords_df = pd.read_csv('data/coordinates.csv', names=['ID', 'Loc_ID', \\\n",
    "                                                'Type', 'Long', 'Lat', 'Name'])\n",
    "\n",
    "mosque_df = pd.read_csv('data/mosques_data.csv', names =['ID', 'Loc_ID', 'Type', 'Value', 'Name', 'Nickname'])\n",
    "\n",
    "\n",
    "merge = pd.merge(mosque_df, coords_df, left_on=\"Loc_ID\", right_on=\"Loc_ID\")"
   ]
  },
  {
   "cell_type": "code",
   "execution_count": 53,
   "metadata": {},
   "outputs": [
    {
     "data": {
      "text/html": [
       "<div>\n",
       "<style scoped>\n",
       "    .dataframe tbody tr th:only-of-type {\n",
       "        vertical-align: middle;\n",
       "    }\n",
       "\n",
       "    .dataframe tbody tr th {\n",
       "        vertical-align: top;\n",
       "    }\n",
       "\n",
       "    .dataframe thead th {\n",
       "        text-align: right;\n",
       "    }\n",
       "</style>\n",
       "<table border=\"1\" class=\"dataframe\">\n",
       "  <thead>\n",
       "    <tr style=\"text-align: right;\">\n",
       "      <th></th>\n",
       "      <th>ID_x</th>\n",
       "      <th>Loc_ID</th>\n",
       "      <th>Type_x</th>\n",
       "      <th>Value</th>\n",
       "      <th>Name_x</th>\n",
       "      <th>Nickname</th>\n",
       "      <th>ID_y</th>\n",
       "      <th>Type_y</th>\n",
       "      <th>Long</th>\n",
       "      <th>Lat</th>\n",
       "      <th>Name_y</th>\n",
       "    </tr>\n",
       "  </thead>\n",
       "  <tbody>\n",
       "    <tr>\n",
       "      <th>0</th>\n",
       "      <td>5000</td>\n",
       "      <td>3</td>\n",
       "      <td>mosques</td>\n",
       "      <td>391</td>\n",
       "      <td>Bukhāra (city)</td>\n",
       "      <td>Bukhara</td>\n",
       "      <td>9001</td>\n",
       "      <td>coordinates</td>\n",
       "      <td>39.77691</td>\n",
       "      <td>64.41315</td>\n",
       "      <td>Bukhara</td>\n",
       "    </tr>\n",
       "  </tbody>\n",
       "</table>\n",
       "</div>"
      ],
      "text/plain": [
       "   ID_x  Loc_ID   Type_x  Value          Name_x Nickname  ID_y       Type_y  \\\n",
       "0  5000       3  mosques    391  Bukhāra (city)  Bukhara  9001  coordinates   \n",
       "\n",
       "       Long       Lat   Name_y  \n",
       "0  39.77691  64.41315  Bukhara  "
      ]
     },
     "execution_count": 53,
     "metadata": {},
     "output_type": "execute_result"
    }
   ],
   "source": [
    "merge.sample()"
   ]
  },
  {
   "cell_type": "code",
   "execution_count": 54,
   "metadata": {},
   "outputs": [],
   "source": [
    "merge['Coordinates'] = list(zip(merge.Lat, merge.Long))"
   ]
  },
  {
   "cell_type": "code",
   "execution_count": 55,
   "metadata": {},
   "outputs": [
    {
     "data": {
      "text/html": [
       "<div>\n",
       "<style scoped>\n",
       "    .dataframe tbody tr th:only-of-type {\n",
       "        vertical-align: middle;\n",
       "    }\n",
       "\n",
       "    .dataframe tbody tr th {\n",
       "        vertical-align: top;\n",
       "    }\n",
       "\n",
       "    .dataframe thead th {\n",
       "        text-align: right;\n",
       "    }\n",
       "</style>\n",
       "<table border=\"1\" class=\"dataframe\">\n",
       "  <thead>\n",
       "    <tr style=\"text-align: right;\">\n",
       "      <th></th>\n",
       "      <th>ID_x</th>\n",
       "      <th>Loc_ID</th>\n",
       "      <th>Type_x</th>\n",
       "      <th>Value</th>\n",
       "      <th>Name_x</th>\n",
       "      <th>Nickname</th>\n",
       "      <th>ID_y</th>\n",
       "      <th>Type_y</th>\n",
       "      <th>Long</th>\n",
       "      <th>Lat</th>\n",
       "      <th>Name_y</th>\n",
       "      <th>Coordinates</th>\n",
       "    </tr>\n",
       "  </thead>\n",
       "  <tbody>\n",
       "    <tr>\n",
       "      <th>0</th>\n",
       "      <td>5000</td>\n",
       "      <td>3</td>\n",
       "      <td>mosques</td>\n",
       "      <td>391</td>\n",
       "      <td>Bukhāra (city)</td>\n",
       "      <td>Bukhara</td>\n",
       "      <td>9001</td>\n",
       "      <td>coordinates</td>\n",
       "      <td>39.776910</td>\n",
       "      <td>64.413150</td>\n",
       "      <td>Bukhara</td>\n",
       "      <td>(64.41315, 39.77691)</td>\n",
       "    </tr>\n",
       "    <tr>\n",
       "      <th>1</th>\n",
       "      <td>5002</td>\n",
       "      <td>46</td>\n",
       "      <td>mosques</td>\n",
       "      <td>715</td>\n",
       "      <td>Ghijduwān\u000b",
       "Kharqānrūd</td>\n",
       "      <td>Ghijduwan</td>\n",
       "      <td>311</td>\n",
       "      <td>coordinates</td>\n",
       "      <td>40.100000</td>\n",
       "      <td>64.666667</td>\n",
       "      <td>Ghijduwan</td>\n",
       "      <td>(64.666667, 40.1)</td>\n",
       "    </tr>\n",
       "    <tr>\n",
       "      <th>2</th>\n",
       "      <td>103</td>\n",
       "      <td>47</td>\n",
       "      <td>mosques</td>\n",
       "      <td>418</td>\n",
       "      <td>Qarākūl\u000b",
       "Qorako‘l</td>\n",
       "      <td>Qarakol</td>\n",
       "      <td>313</td>\n",
       "      <td>coordinates</td>\n",
       "      <td>39.502778</td>\n",
       "      <td>63.855556</td>\n",
       "      <td>Qarakol</td>\n",
       "      <td>(63.85555600000001, 39.502778)</td>\n",
       "    </tr>\n",
       "    <tr>\n",
       "      <th>3</th>\n",
       "      <td>3312</td>\n",
       "      <td>49</td>\n",
       "      <td>mosques</td>\n",
       "      <td>180</td>\n",
       "      <td>Pīrmast</td>\n",
       "      <td>Pirmast</td>\n",
       "      <td>1738</td>\n",
       "      <td>coordinates</td>\n",
       "      <td>40.050000</td>\n",
       "      <td>64.533330</td>\n",
       "      <td>Pirmast</td>\n",
       "      <td>(64.53333, 40.05)</td>\n",
       "    </tr>\n",
       "    <tr>\n",
       "      <th>4</th>\n",
       "      <td>3318</td>\n",
       "      <td>51</td>\n",
       "      <td>mosques</td>\n",
       "      <td>244</td>\n",
       "      <td>Rāmītan\u000b",
       "Sāmjan</td>\n",
       "      <td>Ramitan</td>\n",
       "      <td>1740</td>\n",
       "      <td>coordinates</td>\n",
       "      <td>39.933333</td>\n",
       "      <td>64.383333</td>\n",
       "      <td>Ramitan</td>\n",
       "      <td>(64.383333, 39.933333000000005)</td>\n",
       "    </tr>\n",
       "  </tbody>\n",
       "</table>\n",
       "</div>"
      ],
      "text/plain": [
       "   ID_x  Loc_ID   Type_x  Value                Name_x   Nickname  ID_y  \\\n",
       "0  5000       3  mosques    391        Bukhāra (city)    Bukhara  9001   \n",
       "1  5002      46  mosques    715  Ghijduwān\n",
       "Kharqānrūd  Ghijduwan   311   \n",
       "2   103      47  mosques    418      Qarākūl\n",
       "Qorako‘l    Qarakol   313   \n",
       "3  3312      49  mosques    180               Pīrmast    Pirmast  1738   \n",
       "4  3318      51  mosques    244        Rāmītan\n",
       "Sāmjan    Ramitan  1740   \n",
       "\n",
       "        Type_y       Long        Lat     Name_y  \\\n",
       "0  coordinates  39.776910  64.413150    Bukhara   \n",
       "1  coordinates  40.100000  64.666667  Ghijduwan   \n",
       "2  coordinates  39.502778  63.855556    Qarakol   \n",
       "3  coordinates  40.050000  64.533330    Pirmast   \n",
       "4  coordinates  39.933333  64.383333    Ramitan   \n",
       "\n",
       "                       Coordinates  \n",
       "0             (64.41315, 39.77691)  \n",
       "1                (64.666667, 40.1)  \n",
       "2   (63.85555600000001, 39.502778)  \n",
       "3                (64.53333, 40.05)  \n",
       "4  (64.383333, 39.933333000000005)  "
      ]
     },
     "execution_count": 55,
     "metadata": {},
     "output_type": "execute_result"
    }
   ],
   "source": [
    "merge.head()"
   ]
  },
  {
   "cell_type": "code",
   "execution_count": 56,
   "metadata": {},
   "outputs": [],
   "source": [
    "merge['Coordinates'] = merge['Coordinates'].apply(Point)"
   ]
  },
  {
   "cell_type": "code",
   "execution_count": 57,
   "metadata": {},
   "outputs": [],
   "source": [
    "gdf = geopandas.GeoDataFrame(merge, geometry='Coordinates')"
   ]
  },
  {
   "cell_type": "code",
   "execution_count": 58,
   "metadata": {},
   "outputs": [],
   "source": [
    "bukh_prot = geopandas.read_file(\"jsons/bukhar_protectorate.json.geojson\")"
   ]
  },
  {
   "cell_type": "markdown",
   "metadata": {},
   "source": [
    "[Walk-through for Choropleth Map](http://ramiro.org/notebook/geopandas-choropleth/)"
   ]
  },
  {
   "cell_type": "code",
   "execution_count": 59,
   "metadata": {},
   "outputs": [
    {
     "data": {
      "image/png": "[encoded data removed]",
      "text/plain": [
       "<Figure size 432x288 with 1 Axes>"
      ]
     },
     "metadata": {
      "needs_background": "light"
     },
     "output_type": "display_data"
    }
   ],
   "source": [
    "#world = geopandas.read_file(geopandas.datasets.get_path('naturalearth_lowres'))\n",
    "\n",
    "# We restrict to South America.\n",
    "ax = bukh_prot.plot(color='white', edgecolor='black')\n",
    "\n",
    "# We can now plot our GeoDataFrame.\n",
    "gdf.plot(ax=ax, color='red')\n",
    "\n",
    "plt.show()\n"
   ]
  },
  {
   "cell_type": "markdown",
   "metadata": {},
   "source": [
    "[Geopandas minimalist tutorial](http://geopandas.org/gallery/plotting_with_geoplot.html)\n",
    "\n",
    "[Documentation on kdplot](https://residentmario.github.io/geoplot/kdeplot.html)\n",
    "\n",
    "`geoplot.kdeplot(df, projection=None, extent=None, figsize=(8, 6), ax=None, clip=None, **kwargs)`\n",
    "\n",
    "Parameters:\n",
    "- df (GeoDataFrame) – The data being plotted.\n",
    "- projection (geoplot.crs object instance, optional) – A geographic projection. For more information refer to the tutorial page on projections.\n",
    "- clip (None or iterable or GeoSeries, optional) – If specified, the kdeplot output will be clipped to the boundaries of this geometry.\n",
    "- extent (None or (minx, maxx, miny, maxy), optional) – Used to control plot x-axis and y-axis limits manually.\n",
    "- figsize (tuple, optional) – An (x, y) tuple passed to matplotlib.figure which sets the size, in inches, of the resultant plot.\n",
    "- ax (AxesSubplot or GeoAxesSubplot instance, optional) – A matplotlib.axes.AxesSubplot or cartopy.mpl.geoaxes.GeoAxesSubplot instance. Defaults to a new axis.\n",
    "- kwargs (dict, optional) – Keyword arguments to be passed to the underlying seaborn kernel density estimate plot."
   ]
  },
  {
   "cell_type": "code",
   "execution_count": 75,
   "metadata": {},
   "outputs": [
    {
     "ename": "AttributeError",
     "evalue": "'Series' object has no attribute 'geometry'",
     "output_type": "error",
     "traceback": [
      "\u001b[0;31m---------------------------------------------------------------------------\u001b[0m",
      "\u001b[0;31mAttributeError\u001b[0m                            Traceback (most recent call last)",
      "\u001b[0;32m<ipython-input-75-d734b4347845>\u001b[0m in \u001b[0;36m<module>\u001b[0;34m\u001b[0m\n\u001b[1;32m      1\u001b[0m ax = geoplot.kdeplot(gdf['Value'],\n\u001b[0;32m----> 2\u001b[0;31m                      shade=True, shade_lowest=False)\n\u001b[0m\u001b[1;32m      3\u001b[0m \u001b[0;34m\u001b[0m\u001b[0m\n\u001b[1;32m      4\u001b[0m \u001b[0mgeoplot\u001b[0m\u001b[0;34m.\u001b[0m\u001b[0mpolyplot\u001b[0m\u001b[0;34m(\u001b[0m\u001b[0mbukh_prot\u001b[0m\u001b[0;34m,\u001b[0m \u001b[0max\u001b[0m\u001b[0;34m=\u001b[0m\u001b[0max\u001b[0m\u001b[0;34m)\u001b[0m\u001b[0;34m\u001b[0m\u001b[0;34m\u001b[0m\u001b[0m\n",
      "\u001b[0;32m~/anaconda3/envs/geo/lib/python3.7/site-packages/geoplot/geoplot.py\u001b[0m in \u001b[0;36mkdeplot\u001b[0;34m(df, projection, extent, figsize, ax, clip, **kwargs)\u001b[0m\n\u001b[1;32m   1427\u001b[0m \u001b[0;34m\u001b[0m\u001b[0m\n\u001b[1;32m   1428\u001b[0m     \u001b[0;31m# Necessary prior.\u001b[0m\u001b[0;34m\u001b[0m\u001b[0;34m\u001b[0m\u001b[0;34m\u001b[0m\u001b[0m\n\u001b[0;32m-> 1429\u001b[0;31m     \u001b[0mxs\u001b[0m \u001b[0;34m=\u001b[0m \u001b[0mnp\u001b[0m\u001b[0;34m.\u001b[0m\u001b[0marray\u001b[0m\u001b[0;34m(\u001b[0m\u001b[0;34m[\u001b[0m\u001b[0mp\u001b[0m\u001b[0;34m.\u001b[0m\u001b[0mx\u001b[0m \u001b[0;32mfor\u001b[0m \u001b[0mp\u001b[0m \u001b[0;32min\u001b[0m \u001b[0mdf\u001b[0m\u001b[0;34m.\u001b[0m\u001b[0mgeometry\u001b[0m\u001b[0;34m]\u001b[0m\u001b[0;34m)\u001b[0m\u001b[0;34m\u001b[0m\u001b[0;34m\u001b[0m\u001b[0m\n\u001b[0m\u001b[1;32m   1430\u001b[0m     \u001b[0mys\u001b[0m \u001b[0;34m=\u001b[0m \u001b[0mnp\u001b[0m\u001b[0;34m.\u001b[0m\u001b[0marray\u001b[0m\u001b[0;34m(\u001b[0m\u001b[0;34m[\u001b[0m\u001b[0mp\u001b[0m\u001b[0;34m.\u001b[0m\u001b[0my\u001b[0m \u001b[0;32mfor\u001b[0m \u001b[0mp\u001b[0m \u001b[0;32min\u001b[0m \u001b[0mdf\u001b[0m\u001b[0;34m.\u001b[0m\u001b[0mgeometry\u001b[0m\u001b[0;34m]\u001b[0m\u001b[0;34m)\u001b[0m\u001b[0;34m\u001b[0m\u001b[0;34m\u001b[0m\u001b[0m\n\u001b[1;32m   1431\u001b[0m \u001b[0;34m\u001b[0m\u001b[0m\n",
      "\u001b[0;32m~/anaconda3/envs/geo/lib/python3.7/site-packages/pandas/core/generic.py\u001b[0m in \u001b[0;36m__getattr__\u001b[0;34m(self, name)\u001b[0m\n\u001b[1;32m   5065\u001b[0m             \u001b[0;32mif\u001b[0m \u001b[0mself\u001b[0m\u001b[0;34m.\u001b[0m\u001b[0m_info_axis\u001b[0m\u001b[0;34m.\u001b[0m\u001b[0m_can_hold_identifiers_and_holds_name\u001b[0m\u001b[0;34m(\u001b[0m\u001b[0mname\u001b[0m\u001b[0;34m)\u001b[0m\u001b[0;34m:\u001b[0m\u001b[0;34m\u001b[0m\u001b[0;34m\u001b[0m\u001b[0m\n\u001b[1;32m   5066\u001b[0m                 \u001b[0;32mreturn\u001b[0m \u001b[0mself\u001b[0m\u001b[0;34m[\u001b[0m\u001b[0mname\u001b[0m\u001b[0;34m]\u001b[0m\u001b[0;34m\u001b[0m\u001b[0;34m\u001b[0m\u001b[0m\n\u001b[0;32m-> 5067\u001b[0;31m             \u001b[0;32mreturn\u001b[0m \u001b[0mobject\u001b[0m\u001b[0;34m.\u001b[0m\u001b[0m__getattribute__\u001b[0m\u001b[0;34m(\u001b[0m\u001b[0mself\u001b[0m\u001b[0;34m,\u001b[0m \u001b[0mname\u001b[0m\u001b[0;34m)\u001b[0m\u001b[0;34m\u001b[0m\u001b[0;34m\u001b[0m\u001b[0m\n\u001b[0m\u001b[1;32m   5068\u001b[0m \u001b[0;34m\u001b[0m\u001b[0m\n\u001b[1;32m   5069\u001b[0m     \u001b[0;32mdef\u001b[0m \u001b[0m__setattr__\u001b[0m\u001b[0;34m(\u001b[0m\u001b[0mself\u001b[0m\u001b[0;34m,\u001b[0m \u001b[0mname\u001b[0m\u001b[0;34m,\u001b[0m \u001b[0mvalue\u001b[0m\u001b[0;34m)\u001b[0m\u001b[0;34m:\u001b[0m\u001b[0;34m\u001b[0m\u001b[0;34m\u001b[0m\u001b[0m\n",
      "\u001b[0;31mAttributeError\u001b[0m: 'Series' object has no attribute 'geometry'"
     ]
    },
    {
     "data": {
      "text/plain": [
       "<Figure size 576x432 with 0 Axes>"
      ]
     },
     "metadata": {},
     "output_type": "display_data"
    }
   ],
   "source": [
    "ax = geoplot.kdeplot(gdf['Value'],\n",
    "                     shade=True, shade_lowest=False)\n",
    "\n",
    "geoplot.polyplot(bukh_prot, ax=ax)"
   ]
  },
  {
   "cell_type": "code",
   "execution_count": 76,
   "metadata": {},
   "outputs": [
    {
     "data": {
      "text/plain": [
       "<matplotlib.axes._subplots.AxesSubplot at 0x1a26d9c748>"
      ]
     },
     "execution_count": 76,
     "metadata": {},
     "output_type": "execute_result"
    },
    {
     "data": {
      "image/png": "[encoded data removed]",
      "text/plain": [
       "<Figure size 432x288 with 1 Axes>"
      ]
     },
     "metadata": {
      "needs_background": "light"
     },
     "output_type": "display_data"
    }
   ],
   "source": [
    "gdf.plot()"
   ]
  },
  {
   "cell_type": "code",
   "execution_count": null,
   "metadata": {},
   "outputs": [],
   "source": []
  }
 ],
 "metadata": {
  "kernelspec": {
   "display_name": "Python 3",
   "language": "python",
   "name": "python3"
  },
  "language_info": {
   "codemirror_mode": {
    "name": "ipython",
    "version": 3
   },
   "file_extension": ".py",
   "mimetype": "text/x-python",
   "name": "python",
   "nbconvert_exporter": "python",
   "pygments_lexer": "ipython3",
   "version": "3.7.2"
  }
 },
 "nbformat": 4,
 "nbformat_minor": 2
}

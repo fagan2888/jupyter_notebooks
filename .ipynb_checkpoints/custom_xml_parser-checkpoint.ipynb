{
 "cells": [
  {
   "cell_type": "markdown",
   "metadata": {},
   "source": [
    "### General Notes"
   ]
  },
  {
   "cell_type": "code",
   "execution_count": null,
   "metadata": {},
   "outputs": [],
   "source": [
    "# Most useful (i.e. simplest) tutorial: https://www.datacamp.com/community/tutorials/python-xml-elementtree"
   ]
  },
  {
   "cell_type": "markdown",
   "metadata": {},
   "source": [
    "### Libraries"
   ]
  },
  {
   "cell_type": "code",
   "execution_count": 17,
   "metadata": {},
   "outputs": [],
   "source": [
    "import xml.etree.ElementTree as ET"
   ]
  },
  {
   "cell_type": "markdown",
   "metadata": {},
   "source": [
    "### Files"
   ]
  },
  {
   "cell_type": "code",
   "execution_count": 18,
   "metadata": {},
   "outputs": [],
   "source": [
    "file_name = 'ser561.xml'\n",
    "\n",
    "# Reads in the data as an element tree class of data\n",
    "tree = ET.parse(file_name)\n",
    "root = tree.getroot()\n"
   ]
  },
  {
   "cell_type": "markdown",
   "metadata": {},
   "source": [
    "### View XML Document"
   ]
  },
  {
   "cell_type": "code",
   "execution_count": 42,
   "metadata": {},
   "outputs": [
    {
     "name": "stdout",
     "output_type": "stream",
     "text": [
      "{'type': 'unclear'} سیرات\n",
      "{'type': 'unclear'} انتظام\n",
      "{'type': 'unclear'} قبول\n",
      "{'type': 'unclear'} بخیر\n",
      "{'type': 'unclear'} None\n",
      "{'type': 'unclear'} None\n",
      "{'type': 'unclear'} تدمانها رمیه\n",
      "{'type': 'unclear'} پرور\n",
      "{'type': 'unclear'} آیین\n",
      "{'type': 'meaning'} فراشاط ناک\n",
      "{'type': 'meaning'} لاحظىدر\n",
      "{'type': 'unclear'} None\n",
      "{'type': 'unclear'} دعا آب\n",
      "{'type': 'unclear'} یار\n",
      "{'type': 'unclear'} نیز\n",
      "{'type': 'unclear'} None\n"
     ]
    }
   ],
   "source": [
    "# XPath Expressions: Many times elements will not have attributes, they will only have text content. \n",
    "# Using the attribute .text, you can print out this content.\n",
    "\n",
    "for element in root.iter('flag'):\n",
    "    print(element.attrib, element.text)\n"
   ]
  },
  {
   "cell_type": "code",
   "execution_count": 34,
   "metadata": {},
   "outputs": [
    {
     "name": "stdout",
     "output_type": "stream",
     "text": [
      "<?xml version='1.0' encoding='utf8'?>\n",
      "<document>\n",
      "\n",
      "    <metadata>\n",
      "        <unique_id>ser561</unique_id>\n",
      "    </metadata>\n",
      "    <body>\n",
      "        <pg folio=\"13a\" />\n",
      "        <div type=\"marginalia\">\n",
      "            \n",
      "            <ts type=\"inscriptio\" />\n",
      "            <lb />جنابعالیمولایم سلمه الله متعالی\n",
      "            <lb />جناب مرحمت و شفقت پناهی وزارتپناه مهربانی پروانچی حفظه الباری\n",
      "            <lb />دام دولته\n",
      "            <lb /> معروض بر ضمیر منیر مهر تنویر خجسته مظاهر\n",
      "            <flag type=\"unclear\">سیرات</flag>\n",
      "             تخمیر </div>\n",
      "        <div type=\"section\">\n",
      "            <ts type=\"salutatio\" />\n",
      "            <lb /> عالیجاه رفیع جایگاه امیر الامراء\n",
      "            <flag type=\"unclear\">انتظام</flag>\n",
      "             محیت و مؤدت ارتسام اعنی\n",
      "            <lb /> مستغنی عن تعریف و توصیف را بمعرض\n",
      "            <flag type=\"unclear\">قبول</flag>\n",
      "             چنین رسانیده\n",
      "            <lb /> میشود که الحمد و المنه مجاریً احوال بکرم و دولت\n",
      "            <flag type=\"unclear\">بخیر</flag>\n",
      "             بوده\n",
      "            <lb /> سلامتیً ذات اشراف همایونی آبرومندی مطلوب مستدعااست\n",
      "            <lb />\n",
      "            <ts type=\"narratio\" /> نهفته و خفی مباد که والا جاها چنانجه درینآوان خرم\n",
      "            <lb /> نشان و\n",
      "            <flag type=\"unclear\" />\n",
      "             از برای غلطانیده آمده\n",
      "            <flag type=\"unclear\" />\n",
      "            <lb /> بدریا بودهً\n",
      "            <flag type=\"unclear\">تدمانها رمیه</flag>\n",
      "            \n",
      "        </div>\n",
      "        <div type=\"section\">\n",
      "            \n",
      "            <lb /> نوازش\n",
      "            <flag type=\"unclear\">پرور</flag>\n",
      "            <lb /> ارسالداشته بوده در بهترین\n",
      "            <lb /> زمان آمده رسیده بمطالعه پیوسته از مضامین بلاغت\n",
      "            <flag type=\"unclear\">آیین</flag>\n",
      "            <lb /> او خورسندی بحصول پیوسته گردید\n",
      "            <ts type=\"narratio\" /> امیدگاها احوال اینخدمت کار بجنابشان\n",
      "            <lb /> کما ینبغی معلوم میباشد از بیگاه اینجانب یکرم آلهی اندک تب و\n",
      "            <flag type=\"meaning\">فراشاط ناک</flag>\n",
      "             شده در طبعیت در طبيعت چیزی\n",
      "            <flag type=\"meaning\">لاحظىدر</flag>\n",
      "             طبيعت چیزی لاحظى\n",
      "            <lb /> پیدا شد از اینوجه بقاضی و املاکداران تومان خط کرده آدم خود را همراه\n",
      "            <flag type=\"unclear\" />\n",
      "             روانه نمودم دیگر اینکه\n",
      "            <lb /> مهربان پناها مبارکنامهً فقرایان بجنابشان منظور شده <lang type=\"tajik\">گیست</lang>\n",
      "            بمثل آن یک\n",
      "            <term type=\"genre\">مبارکنامهً</term>\n",
      "            <term type=\"injunction\">حکم</term>\n",
      "             عرض کرده گرفته طیاری نموده مانند\n",
      "            <lb /> بهتر است گفته از روی نادانی انمعنی صلاح می افتیده باشد گفته آگاهی نموده فرستادم\n",
      "            دیگر از دولت عالی بخاطر جمعی بوده\n",
      "            <flag type=\"unclear\">دعا آب</flag>\n",
      "             را\n",
      "            <lb /> بفقرایان نوبت دار کما کان رسانیده بذاتعای دعا گرفته استاده ایم ازینوجه\n",
      "            خدمتکارانشان خوب مذمت کرده استاده اند\n",
      "            <lb /> فقر همه وقت بدعا\n",
      "            <flag type=\"unclear\">یار</flag>\n",
      "            <flag type=\"unclear\">نیز</flag>\n",
      "             از دعای مقرون الاجابت اولا ذاتعالی طفیلی امیدوارم السلام\n",
      "            <flag type=\"unclear\" />\n",
      "        </div>\n",
      "\n",
      "    </body>\n",
      "\n",
      "</document>\n"
     ]
    }
   ],
   "source": [
    "# There is a helpful way to see the whole document. \n",
    "# Any element has a .tostring() method. If you pass the root into the .tostring() method, \n",
    "# you can return the whole document. Within ElementTree (remember aliased as ET), .tostring() takes \n",
    "# a slightly strange form.\n",
    "# Since ElementTree is a powerful library that can interpret more than just XML, \n",
    "# you must specify both the encoding and decoding of the document you are displaying as the string. \n",
    "# For XMLs, use 'utf8' - this is the typical document format type for an XML.\n",
    "\n",
    "print(ET.tostring(root, encoding='utf8').decode('utf8'))"
   ]
  },
  {
   "cell_type": "code",
   "execution_count": 29,
   "metadata": {},
   "outputs": [
    {
     "name": "stdout",
     "output_type": "stream",
     "text": [
      "flag {'type': 'unclear'}\n",
      "flag {'type': 'unclear'}\n",
      "flag {'type': 'unclear'}\n",
      "flag {'type': 'unclear'}\n",
      "flag {'type': 'unclear'}\n",
      "flag {'type': 'unclear'}\n",
      "flag {'type': 'unclear'}\n",
      "flag {'type': 'unclear'}\n",
      "flag {'type': 'unclear'}\n",
      "flag {'type': 'meaning'}\n",
      "flag {'type': 'meaning'}\n",
      "flag {'type': 'unclear'}\n",
      "flag {'type': 'unclear'}\n",
      "flag {'type': 'unclear'}\n",
      "flag {'type': 'unclear'}\n",
      "flag {'type': 'unclear'}\n"
     ]
    }
   ],
   "source": [
    "# List the different attributes for a given tag; this works over all subtrees below the invoked tag\n",
    "# You can expand the use of the iter() function to help with finding particular elements of interest. \n",
    "# root.iter() will list all subelements under the root that match the element specified. \n",
    "\n",
    "for div in root.iter('flag'):\n",
    "    print (div.tag, div.attrib)"
   ]
  },
  {
   "cell_type": "markdown",
   "metadata": {},
   "source": [
    "### XPath"
   ]
  },
  {
   "cell_type": "code",
   "execution_count": 39,
   "metadata": {},
   "outputs": [
    {
     "ename": "SyntaxError",
     "evalue": "invalid syntax (<ipython-input-39-a5516c11668b>, line 5)",
     "output_type": "error",
     "traceback": [
      "\u001b[0;36m  File \u001b[0;32m\"<ipython-input-39-a5516c11668b>\"\u001b[0;36m, line \u001b[0;32m5\u001b[0m\n\u001b[0;31m    for element in root.findall(\"./lang/[type=\"tajik\"]\"):\u001b[0m\n\u001b[0m                                                   ^\u001b[0m\n\u001b[0;31mSyntaxError\u001b[0m\u001b[0;31m:\u001b[0m invalid syntax\n"
     ]
    }
   ],
   "source": [
    "# Understanding XPath is critically important to scanning and populating XMLs. \n",
    "# ElementTree has a .findall() function that will traverse the immediate children of the referenced element. \n",
    "# You can use XPath expressions to specify more useful searches.\n",
    "# The function .findall() always begins at the element specified. \n",
    "# This type of function is extremely powerful for a \"find and replace\". You can even search on attributes!\n",
    "\n",
    "for element in root.findall(\"./lang/[type=\"tajik\"]\"):\n",
    "    print(element.attrib)\n"
   ]
  }
 ],
 "metadata": {
  "kernelspec": {
   "display_name": "Python 3",
   "language": "python",
   "name": "python3"
  },
  "language_info": {
   "codemirror_mode": {
    "name": "ipython",
    "version": 3
   },
   "file_extension": ".py",
   "mimetype": "text/x-python",
   "name": "python",
   "nbconvert_exporter": "python",
   "pygments_lexer": "ipython3",
   "version": "3.6.5"
  }
 },
 "nbformat": 4,
 "nbformat_minor": 2
}

{
 "cells": [
  {
   "cell_type": "markdown",
   "metadata": {},
   "source": [
    "# Custom Markdown Parser\n",
    "\n",
    "Inputs markdown, outputs XML based on a custom schema using regex."
   ]
  },
  {
   "cell_type": "markdown",
   "metadata": {},
   "source": [
    "Next steps:\n",
    "- Code batch processing (i.e. open all files in one directory, output to another).\n",
    "- Automate transfer of process files to new directory to simplify workflow."
   ]
  },
  {
   "cell_type": "code",
   "execution_count": 196,
   "metadata": {},
   "outputs": [],
   "source": [
    "# Notes on Version 2 (From General Hanley):\n",
    "\n",
    "# Advocates transcending the \"line-by-line approach\":\n",
    "# If you give re.sub the flags=re.MULTILINE option, then ^ and $ will match the\n",
    "# beginning and end of lines, rather than the whole string. That way you\n",
    "# can do it for the whole file at once. This should in principle be faster too."
   ]
  },
  {
   "cell_type": "code",
   "execution_count": 197,
   "metadata": {},
   "outputs": [],
   "source": [
    "import re, os"
   ]
  },
  {
   "cell_type": "markdown",
   "metadata": {},
   "source": [
    "### File Paths"
   ]
  },
  {
   "cell_type": "code",
   "execution_count": 198,
   "metadata": {},
   "outputs": [
    {
     "data": {
      "text/plain": [
       "['.DS_Store',\n",
       " '.Ulysses-Group.plist',\n",
       " 'archive_docs_now_at_xml_stage_do_not_use',\n",
       " 'document_conversion_backlog',\n",
       " 'i126-1-1951_ser626.md']"
      ]
     },
     "execution_count": 198,
     "metadata": {},
     "output_type": "execute_result"
    }
   ],
   "source": [
    "input_path = r\"/Users/Enkidu/Box Sync/Notes/Primary Sources/transcription_markdown_drafting_stage1/\"\n",
    "\n",
    "os.listdir(input_path)"
   ]
  },
  {
   "cell_type": "code",
   "execution_count": 199,
   "metadata": {},
   "outputs": [
    {
     "data": {
      "text/plain": [
       "[]"
      ]
     },
     "execution_count": 199,
     "metadata": {},
     "output_type": "execute_result"
    }
   ],
   "source": [
    "output_path = r\"/Users/Enkidu/Box Sync/Notes/Primary Sources/xml_notes_stage2/parser_depository/\"\n",
    "os.listdir(output_path)"
   ]
  },
  {
   "cell_type": "code",
   "execution_count": 200,
   "metadata": {},
   "outputs": [
    {
     "name": "stdout",
     "output_type": "stream",
     "text": [
      "626\n",
      "<document serial = \"626\">\n"
     ]
    }
   ],
   "source": [
    "input_file = 'ser626.md'\n",
    "ret = re.match(r'[^0-9]*([0-9]+)\\.md', input_file)\n",
    "doc_serial, = ret.groups()\n",
    "print(doc_serial)\n",
    "\n",
    "doc_serial_xml = '<document serial = \"' + doc_serial + '\">'\n",
    "print (doc_serial_xml)"
   ]
  },
  {
   "cell_type": "code",
   "execution_count": 201,
   "metadata": {},
   "outputs": [],
   "source": [
    "with open(input_file) as fin:\n",
    "    text = fin.read()"
   ]
  },
  {
   "cell_type": "markdown",
   "metadata": {},
   "source": [
    "Previous code, when `<lb>` was wrapped instead of a milestone:\n",
    "\n",
    "```python\n",
    "\n",
    "conv = re.sub(r'^ *\\- (.*)$', r'<lb>\\1</lb>', conv, flags=re.MULTILINE)\n",
    "\n",
    "```"
   ]
  },
  {
   "cell_type": "code",
   "execution_count": 202,
   "metadata": {},
   "outputs": [],
   "source": [
    "# General Hanley on F-strings: I made a few other changes too, the major one is useing f-strings,\n",
    "# which is a great new feature. (You need to have python version >=3.6)\n",
    "\n",
    "\n",
    "conv = text\n",
    "conv = re.sub(r'^ *\\- ', r'\\t<lb/>', conv, flags=re.MULTILINE)\n",
    "conv = re.sub(r'\\----', r'</div>\\n<div>', conv, flags=re.MULTILINE)\n",
    "conv = re.sub(r'(\\*[^\\*\\n]+\\*)', r'<flag>\\1</flag>', conv)\n",
    "conv = re.sub(r'\\*', r'', conv)\n",
    "conv = re.sub(r'^> (.*)$', r'<!-- \\1 -->', conv, flags=re.MULTILINE)\n",
    "# print(conv)"
   ]
  },
  {
   "cell_type": "code",
   "execution_count": 203,
   "metadata": {},
   "outputs": [
    {
     "name": "stdout",
     "output_type": "stream",
     "text": [
      "<?xml-model href=\"../../../../Documents/digital_humanities/digital_eurasia/schemas/schema_coding_primary_texts_2.0.rnc\" type=\"application/relax-ng-compact-syntax\"?>\n",
      "<document serial = \"626\">\n",
      "\t\n",
      "\t\n",
      "\t<div> \n",
      "\t\n",
      "\t<!-- (First glance) Statement that ulama are in agreement that the vocal Zikr of Ahmad Yasawi is legitimate, based on a gathering of them. Seal marks this from 1284/1866. -->\n",
      "\t\n",
      "\t\t<lb/>درینمسئله که جماعۀ از مسلمین که ممتمسکین بسلسلۀ شریفه حضرت سلطان العافین قدوة المسلاکین برهان الشریفه و الحق و الدین قطب\n",
      "\t\t<lb/>الاولیاء و صفوة الاصفیاء <flag>اعنی</flag> حضرت خواجه احمد قدس الله تعالی روحه العزیز بطهارت  <flag>بادم</flag> تمام در مساجد و زوایای در مکان طاهر جمع شده\n",
      "\t\t<lb/>از سر صمیمی صدق و ا اخلاص بنیت صحیحه خالیاً عن الریا  و الاعواض بجهت طالبین و تعمیلی و آداب <flag>مسترسدین</flag> و ترغیب سائر ایشان علی وجه الاعتبار حثا\n",
      "\t\t<lb/>علی طاعة الله و ابتغاء علی مرضات الله که از جملۀ اعظم اسماء الله هوست و بفارسیه ذکر آرّه میگویند بر سبیل چهره علانیه  بر ان استغال مینمایند کما طریقه\n",
      "\t\t<lb/>شرعاً و دلرا نرم گردانند زنگ و داغ و حجابهای آنرا بر دارد و وساوس دیو از حواسی سینه بعد سازد و سینه را <flag>انسراحی</flag> و دلرا انفتاحی و غافلانرا انتباهی\n",
      "\t\t<lb/>\n",
      "\t\n",
      "</document>\n"
     ]
    }
   ],
   "source": [
    "body = '\\n'.join([f'\\t{s}' for s in conv.split('\\n')])\n",
    "final = f\"\"\"\n",
    "<?xml-model href=\"../../../../../Documents/digital_humanities/xml_development/schemas/schema_coding_primary_texts_2.0.rnc\" type=\"application/relax-ng-compact-syntax\"?>\n",
    "<document>\n",
    "{body}\n",
    "</document>\n",
    "\"\"\".strip()\n",
    "\n",
    "final = re.sub(r'</div>', '', final, count=1)\n",
    "final = re.sub (r'<document>', doc_serial_xml, final)\n",
    "\n",
    "print(final)\n",
    "\n"
   ]
  },
  {
   "cell_type": "code",
   "execution_count": 204,
   "metadata": {},
   "outputs": [],
   "source": [
    "output_file = 'parser_output.xml'\n",
    "with open(output_file, 'w+') as fout:\n",
    "    fout.write(final)"
   ]
  },
  {
   "cell_type": "code",
   "execution_count": null,
   "metadata": {},
   "outputs": [],
   "source": []
  }
 ],
 "metadata": {
  "kernelspec": {
   "display_name": "Python 3",
   "language": "python",
   "name": "python3"
  },
  "language_info": {
   "codemirror_mode": {
    "name": "ipython",
    "version": 3
   },
   "file_extension": ".py",
   "mimetype": "text/x-python",
   "name": "python",
   "nbconvert_exporter": "python",
   "pygments_lexer": "ipython3",
   "version": "3.6.5"
  }
 },
 "nbformat": 4,
 "nbformat_minor": 2
}

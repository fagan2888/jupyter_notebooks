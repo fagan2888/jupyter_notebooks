{
 "cells": [
  {
   "cell_type": "markdown",
   "metadata": {},
   "source": [
    "### Libraries"
   ]
  },
  {
   "cell_type": "code",
   "execution_count": 48,
   "metadata": {},
   "outputs": [],
   "source": [
    "import sys\n",
    "sys.path.append('/Users/Enkidu/Documents/digital_humanities/python_routines/')\n",
    "\n",
    "import arabic_cleaning as ac"
   ]
  },
  {
   "cell_type": "code",
   "execution_count": 49,
   "metadata": {},
   "outputs": [],
   "source": [
    "import nltk, os, glob, pickle"
   ]
  },
  {
   "cell_type": "markdown",
   "metadata": {},
   "source": [
    "## Corpus Globbing Section"
   ]
  },
  {
   "cell_type": "markdown",
   "metadata": {},
   "source": [
    "### Corpus Build: Machine-Readable Central Asian Persian Texts\n",
    "Corpus of complete texts edited by others composed in early modern Transoxania."
   ]
  },
  {
   "cell_type": "code",
   "execution_count": 50,
   "metadata": {},
   "outputs": [
    {
     "data": {
      "text/plain": [
       "dict_keys(['khumuli', 'samarat', 'ikromcha', 'proshenie_k_general-gubernatory_ser721', 'rasskaz_praviteli_shahrisabz_ser724', 'prisoedineniia_samarkand_ser723', 'damla_abid_akhund_ser722', 'tarikh-i_jadida_tashkent_ser725', 'tuhfa-ahli-bukhara_ser25', 'darbandi_alexiii_coronation_ser728', 'tuhfa-i_taib_ser726'])"
      ]
     },
     "execution_count": 50,
     "metadata": {},
     "output_type": "execute_result"
    }
   ],
   "source": [
    "trans_corpus_files = glob.glob(r'/Users/Enkidu/Box Sync/Notes/Digital Humanities/\\\n",
    "Corpora/machine_readable_persian_transoxania_texts//**/*.txt', recursive=True)\n",
    "\n",
    "trans_corpus = {}\n",
    "for longname in trans_corpus_files:\n",
    "    with open(longname) as f:\n",
    "        txt = f.read()\n",
    "    start = os.path.basename(longname)\n",
    "    short = os.path.splitext(start)\n",
    "    trans_corpus[short[0]] = txt\n",
    "    \n",
    "    \n",
    "trans_corpus.keys()\n"
   ]
  },
  {
   "cell_type": "markdown",
   "metadata": {},
   "source": [
    "### Corpus Build: Machine-Readable Indo-Persian Texts\n",
    "Corpus of complete texts edited by others composed in early modern India."
   ]
  },
  {
   "cell_type": "code",
   "execution_count": 51,
   "metadata": {},
   "outputs": [
    {
     "data": {
      "text/plain": [
       "dict_keys(['ratan_lal_tuhfa-i_dakkan_ser783', 'jilani_salar_al-intizam_ser789', 'qanuncha_adalat_ser788', 'dustur_al-amal_ser790', 'gawhar_khan_waqa-i_shaykh_dalil_ser796', 'hidayat-i_zururiyya_kotwali_ser791', 'muhammad_al-madrasi_minhaj_al-adala_ser801', 'shahjahanpuri_yadgar-i_makhan_lal_ser780', 'awrangabadi_gul-i_rana_ser794'])"
      ]
     },
     "execution_count": 51,
     "metadata": {},
     "output_type": "execute_result"
    }
   ],
   "source": [
    "indo_corpus_files = glob.glob(r'/Users/Enkidu/Box Sync/Notes/Digital Humanities/\\\n",
    "Corpora/indo-persian_corpora//**/*.txt', recursive=True)\n",
    "\n",
    "indo_corpus = {}\n",
    "for longname in indo_corpus_files:\n",
    "    with open(longname) as f:\n",
    "        txt = f.read()\n",
    "    start = os.path.basename(longname)\n",
    "    short = os.path.splitext(start)\n",
    "    indo_corpus[short[0]] = txt\n",
    "    \n",
    "#add in personally transcribed texts\n",
    "\n",
    "indo_man_files = glob.glob(r'/Users/Enkidu/Box Sync/Notes/Primary Sources/non-machine-readable_notes/Indian Manuscripts//**/*.txt', recursive=True)\n",
    "\n",
    "indo_man = {}\n",
    "for longname in indo_man_files:\n",
    "    with open(longname) as f:\n",
    "        txt = f.read()\n",
    "    start = os.path.basename(longname)\n",
    "    short = os.path.splitext(start)\n",
    "    indo_man[short[0]] = txt\n",
    "    \n",
    "    \n",
    "#indo_corpus.keys()\n",
    "indo_man.keys()"
   ]
  },
  {
   "cell_type": "markdown",
   "metadata": {},
   "source": [
    "### Corpus Build: Manuscript Notes\n",
    "Corpus based on partially transcribed manuscripts from early modern Transoxania."
   ]
  },
  {
   "cell_type": "code",
   "execution_count": 52,
   "metadata": {},
   "outputs": [],
   "source": [
    "nmr_files = glob.glob(r'/Users/Enkidu/Box Sync/Notes/\\\n",
    "Primary Sources/non-machine-readable_notes/bactriana_notes/*.txt')\n",
    "\n",
    "raw_notes_corpus = {}\n",
    "for longname in nmr_files:\n",
    "    f = open(longname)\n",
    "    txt = f.read()\n",
    "    f.close()\n",
    "    start = os.path.basename(longname)\n",
    "    short = os.path.splitext(start)\n",
    "    raw_notes_corpus[short[0]] = txt\n",
    "\n",
    "#Adding in MarkDown stage files, not yet converted to XML    \n",
    "md_files = glob.glob(r'/Users/Enkidu/Box Sync/Notes/\\\n",
    "Primary Sources/transcription_markdown_drafting_stage1/document_conversion_backlog/pre-parser_backlog/**/*.txt', recursive=True)\n",
    "\n",
    "md_notes_corpus = {}\n",
    "for longname in md_files:\n",
    "    f = open(longname)\n",
    "    txt = f.read()\n",
    "    f.close()\n",
    "    start = os.path.basename(longname)\n",
    "    short = os.path.splitext(start)\n",
    "    md_notes_corpus[short[0]] = txt\n",
    "\n",
    "#raw_notes_corpus.keys()\n",
    "#md_notes_corpus.keys()\n",
    "#md_notes_corpus['apsa_524']\n",
    "\n",
    "\n"
   ]
  },
  {
   "cell_type": "markdown",
   "metadata": {},
   "source": [
    "### Corpus Build: XML Documents\n",
    "Corpus based on transcribed XML documents early modern Transoxania."
   ]
  },
  {
   "cell_type": "code",
   "execution_count": 53,
   "metadata": {},
   "outputs": [],
   "source": [
    "# Python 3.5 and newer supports recursive **/ functionality, i.e. cycle through all subdirectories.\n",
    "\n",
    "xml_files = glob.glob(r'/Users/Enkidu/Box Sync/Notes/Primary Sources/xml_notes_stage2/**/*.xml', recursive=True)\n",
    "\n",
    "\n",
    "# For-loop through file names and build a dictionary of key (filename): value (text content)\n",
    "\n",
    "xml_corpus = {}\n",
    "for longname in xml_files:\n",
    "    f = open(longname)\n",
    "    txt = f.read()\n",
    "    f.close()\n",
    "    start = os.path.basename(longname)\n",
    "    short = os.path.splitext(start)\n",
    "    xml_corpus[short[0]] = txt\n",
    "\n",
    "#xml_corpus['TsGARUz_i126_1_601_6_ser187']\n",
    "#xml_corpus.keys()"
   ]
  },
  {
   "cell_type": "markdown",
   "metadata": {},
   "source": [
    "\n",
    "### Defunct method: [creating an NLTK corpus](http://www.nltk.org/book/ch02.html#loading-your-own-corpus)\n",
    "\n",
    "```python\n",
    "\n",
    "os.chdir('/Users/Enkidu/Documents/digital_humanities/jupyter_notebooks')\n",
    "corpus_root = 'machine_readable_persian_transoxania_texts'\n",
    "turkestan_corpus = PlaintextCorpusReader(corpus_root, '.*')\n",
    "turkestan_corpus.fileids()\n",
    "```"
   ]
  },
  {
   "cell_type": "markdown",
   "metadata": {},
   "source": [
    "## Persian Literature Digital Corpus\n",
    "Massive corpus of Persian literature, pulled from Ganjur (http://ganjoor.net/) by Roshan (https://persdigumd.github.io/PDL/)\n",
    "\n",
    "*Corpus pre-cleaned, tokenized, and pickled from a separate script. (Cleaning takes a long time; and this corpus doesn't change very often, and so does not need to be re-run.)*"
   ]
  },
  {
   "cell_type": "code",
   "execution_count": 45,
   "metadata": {},
   "outputs": [],
   "source": [
    "f = open('/Users/Enkidu/Box Sync/Notes/Digital Humanities/Corpora/corpus_scripts/persian_lit_toks.pkl', 'rb') \n",
    "\n",
    "pers_lit_toks = pickle.load(f)\n",
    "f.close()"
   ]
  },
  {
   "cell_type": "code",
   "execution_count": 47,
   "metadata": {},
   "outputs": [],
   "source": [
    "#pers_lit_toks.keys()\n",
    "#pers_lit_toks[\"hafez.masnavi\"][:50]\n",
    "#pers_lit_toks['ferdowsi.shahnameh']\n",
    "\n",
    "#type (pers_lit_toks['ferdowsi.shahnameh'][5])"
   ]
  },
  {
   "cell_type": "markdown",
   "metadata": {},
   "source": [
    "## Cleaning"
   ]
  },
  {
   "cell_type": "markdown",
   "metadata": {},
   "source": [
    "Now a function is pulled from an external file (arabic_cleaning.py). Previous method saved for posterity:\n",
    "\n",
    "```python\n",
    "clean_edited_i = {}\n",
    "for fn in raw_edited_corpus:\n",
    "    clean_edited_i[fn] = re.sub(r'ي', 'ی', raw_edited_corpus[fn])\n",
    "\n",
    "clean_edited = {}\n",
    "for fn in clean_edited_i:\n",
    "    clean_edited[fn] = re.sub(r'[^آابپتثجچحخدذرزژسشصضطظعغفقکگلمنوهس ي یی ]', '', clean_edited_i[fn])\n",
    "```\n"
   ]
  },
  {
   "cell_type": "markdown",
   "metadata": {},
   "source": [
    "### Cleaning edited texts and notes"
   ]
  },
  {
   "cell_type": "code",
   "execution_count": 54,
   "metadata": {},
   "outputs": [],
   "source": [
    "# Clean edited texts\n",
    "\n",
    "## TO DO: figure out more efficient way of doing the for loop, add in ک swaps too\n",
    "\n",
    "#Transoxania Corpus (transcribed by others)\n",
    "clean_trans = {fn: ac.clean_document(doc) for fn, doc in trans_corpus.items()}\n",
    "\n",
    "#Indo Corpus (transcribed by others)\n",
    "clean_indo = {fn: ac.clean_document(doc) for fn, doc in indo_corpus.items()}\n",
    "\n",
    "#Manual Indo Corpus (transcribed by me)\n",
    "clean_indo_man = {fn: ac.clean_document(doc) for fn, doc in indo_man.items()}\n",
    "\n",
    "\n",
    "#XML-stage texts\n",
    "clean_xml = {fn: ac.clean_document(doc) for fn, doc in xml_corpus.items()}\n",
    "\n",
    "#Raw Notes\n",
    "clean_notes = {fn: ac.clean_document(doc) for fn, doc in raw_notes_corpus.items()}\n",
    "\n",
    "#Markdown Notes\n",
    "clean_markdown = {fn: ac.clean_document(doc) for fn, doc in md_notes_corpus.items()}\n",
    "\n",
    "\n",
    "#clean_trans['ikromcha'][:1000]\n",
    "#clean_trans['ikromcha'][:1000]\n",
    "\n",
    "#clean_markdown['apsa_76']\n",
    "\n",
    "#clean_xml['ser561']\n",
    "\n",
    "#clean_indo['mu_vol1'][:1000]"
   ]
  },
  {
   "cell_type": "markdown",
   "metadata": {},
   "source": [
    "### Cleaning XML documents"
   ]
  },
  {
   "cell_type": "markdown",
   "metadata": {},
   "source": [
    "*Dormant XML cleaning method using BeautifulSoup (still in use for Persian literature tokenization in separate script)*\n",
    "\n",
    "```python\n",
    "bstree = bs4.BeautifulSoup(clean_xml[\"ser561\"], 'lxml')\n",
    "\n",
    "\n",
    "print(bstree.get_text())\n",
    "\n",
    "clean_xml = {}\n",
    "for fn in raw_xml:\n",
    "    bstree = bs4.BeautifulSoup(raw_xml[fn], 'lxml')\n",
    "    clean_xml[fn] = bstree.get_text()\n",
    "    \n",
    "clean_xml['TsGARUZ_i126_1_1986_1_ser201']\n",
    "```\n",
    "\n"
   ]
  },
  {
   "cell_type": "markdown",
   "metadata": {},
   "source": [
    "## Tokenizing"
   ]
  },
  {
   "cell_type": "code",
   "execution_count": 57,
   "metadata": {},
   "outputs": [],
   "source": [
    "\n",
    "edited_toks = {}\n",
    "for (fn, txt) in clean_trans.items():\n",
    "    toks = nltk.word_tokenize(txt)\n",
    "    edited_toks[fn] = toks\n",
    "\n",
    "indo_toks = {}\n",
    "for (fn, txt) in clean_indo.items():\n",
    "    toks = nltk.word_tokenize(txt)\n",
    "    indo_toks[fn] = toks\n",
    "    \n",
    "indo_toks_man = {}\n",
    "for (fn, txt) in clean_indo_man.items():\n",
    "    toks = nltk.word_tokenize(txt)\n",
    "    indo_toks_man[fn] = toks\n",
    "    \n",
    "\n",
    "notes_toks = {}\n",
    "for (fn, txt) in clean_notes.items():\n",
    "    toks = nltk.word_tokenize(txt)\n",
    "    notes_toks[fn] = toks\n",
    "    \n",
    "markdown_toks = {}\n",
    "for (fn, txt) in clean_markdown.items():\n",
    "    toks = nltk.word_tokenize(txt)\n",
    "    notes_toks[fn] = toks\n",
    "\n",
    "\n",
    "xml_toks = {}\n",
    "for (fn, txt) in clean_xml.items():\n",
    "    toks = nltk.word_tokenize(txt)\n",
    "    xml_toks[fn] = toks\n",
    "    "
   ]
  },
  {
   "cell_type": "code",
   "execution_count": null,
   "metadata": {},
   "outputs": [],
   "source": [
    "#xml_toks['TsGARUz_R-2678_ser184'][50:70]\n",
    "\n",
    "#notes_toks[\"jung_i_mahzar_va_rivayat_al_biruni_9767\"]\n",
    "\n",
    "#indo_toks['mu_vol1'][:50]"
   ]
  },
  {
   "cell_type": "markdown",
   "metadata": {},
   "source": [
    "### Pickling Corpora"
   ]
  },
  {
   "cell_type": "code",
   "execution_count": 112,
   "metadata": {},
   "outputs": [],
   "source": [
    "with open(\"pickled_refined_data/corpora.pkl\", \"wb\") as f:\n",
    "    pickle.dump((edited_toks, indo_toks, indo_toks_man, notes_toks, markdown_toks, xml_toks), f)"
   ]
  },
  {
   "cell_type": "markdown",
   "metadata": {},
   "source": [
    "### Merging Corpuses"
   ]
  },
  {
   "cell_type": "markdown",
   "metadata": {},
   "source": [
    "Sub-Corpuses:\n",
    "- (a) Indic Persian Mansucripts: corpus + manuscript notes\n",
    "- (b) Transoxania Manuscripts: corpus + manuscript notes\n",
    "- (c) Persian literature\n",
    "- (d) Documents (right now all together, regardless of location)\n",
    "\n",
    "Combined Corpora:\n",
    "- (i) History: a + b\n",
    "- (ii) Literature: c\n",
    "- (iii) Documents: d\n"
   ]
  },
  {
   "cell_type": "code",
   "execution_count": 63,
   "metadata": {},
   "outputs": [],
   "source": [
    "#Merging dictionaries: https://www.webucator.com/how-to/how-merge-dictionaries-python.cfm\n",
    "\n",
    "#Sub-Corpuses\n",
    "\n",
    "# (a) All Indic Manuscripts\n",
    "india_man_toks = {**indo_toks_man, **indo_toks}\n",
    "\n",
    "# (b) All Transoxania Manuscripts\n",
    "trans_man_toks = {**edited_toks, **notes_toks}\n",
    "\n",
    "# (c) All Documents\n",
    "doc_corpus_toks = {**xml_toks, **markdown_toks}\n",
    "\n",
    "\n",
    "#Corpora\n",
    "\n",
    "# (i) Historical Manuscripts\n",
    "hist_corpus_toks = {**india_man_toks, **trans_man_toks}\n",
    "\n",
    "\n",
    "# Meta-Corpus\n",
    "combined_corpus_toks = {**hist_corpus_toks, **doc_corpus_toks, **pers_lit_toks}\n",
    "\n"
   ]
  },
  {
   "cell_type": "code",
   "execution_count": 61,
   "metadata": {},
   "outputs": [],
   "source": [
    "#combined_corpus_toks['mu_vol1'][:50]\n",
    "#pers_lit_toks[\"hafez.masnavi\"][:50]"
   ]
  },
  {
   "cell_type": "markdown",
   "metadata": {},
   "source": [
    "### Pickling combined corpora"
   ]
  },
  {
   "cell_type": "code",
   "execution_count": 113,
   "metadata": {},
   "outputs": [],
   "source": [
    "with open(\"pickled_refined_data/meta_corpora.pkl\", \"wb\") as f:\n",
    "    pickle.dump((india_man_toks, trans_man_toks, doc_corpus_toks, hist_corpus_toks, combined_corpus_toks), f)"
   ]
  },
  {
   "cell_type": "markdown",
   "metadata": {},
   "source": [
    "### Losing corpus hierarchy for simple token lists"
   ]
  },
  {
   "cell_type": "code",
   "execution_count": 65,
   "metadata": {},
   "outputs": [],
   "source": [
    "#Combined Tokens (loses corpus text designation)\n",
    "\n",
    "doc_toks = []\n",
    "for (fn, text) in doc_corpus_toks.items():\n",
    "    doc_toks.extend(doc_corpus_toks[fn])\n",
    "    \n",
    "    \n",
    "hist_toks = []\n",
    "for (fn, text) in hist_corpus_toks.items():\n",
    "    hist_toks.extend(hist_corpus_toks[fn])\n",
    "    \n",
    "lit_toks = []\n",
    "for (fn, text) in pers_lit_toks.items():\n",
    "    lit_toks.extend(pers_lit_toks[fn])\n",
    "\n",
    "combined_toks = []\n",
    "for (fn, text) in combined_corpus_toks.items():\n",
    "    combined_toks.extend(combined_corpus_toks[fn])\n"
   ]
  },
  {
   "cell_type": "code",
   "execution_count": 69,
   "metadata": {},
   "outputs": [],
   "source": [
    "#hist_toks[100:125]"
   ]
  },
  {
   "cell_type": "markdown",
   "metadata": {},
   "source": [
    "### Pickling Raw Tokens"
   ]
  },
  {
   "cell_type": "code",
   "execution_count": 114,
   "metadata": {},
   "outputs": [],
   "source": [
    "with open(\"pickled_refined_data/raw_tokens.pkl\", \"wb\") as f:\n",
    "    pickle.dump((doc_toks, hist_toks, lit_toks, combined_toks), f)"
   ]
  },
  {
   "cell_type": "markdown",
   "metadata": {},
   "source": [
    "## Stats"
   ]
  },
  {
   "cell_type": "markdown",
   "metadata": {},
   "source": [
    "### Word Frequency: Combined Central Asia Corpus"
   ]
  },
  {
   "cell_type": "code",
   "execution_count": 66,
   "metadata": {},
   "outputs": [],
   "source": [
    "#pah_freq = nltk.FreqDist(pah_toks_clean)\n",
    "#pah_freq.most_common(20)\n",
    "\n",
    "combo_freq = nltk.FreqDist(combined_toks)\n",
    "\n",
    "av_freq = sum(combo_freq.values())/len(combo_freq)"
   ]
  },
  {
   "cell_type": "code",
   "execution_count": 67,
   "metadata": {},
   "outputs": [
    {
     "data": {
      "text/plain": [
       "81.91653084457104"
      ]
     },
     "execution_count": 67,
     "metadata": {},
     "output_type": "execute_result"
    }
   ],
   "source": [
    "av_freq"
   ]
  },
  {
   "cell_type": "markdown",
   "metadata": {},
   "source": [
    "*Controlled frequency*:"
   ]
  },
  {
   "cell_type": "code",
   "execution_count": 70,
   "metadata": {
    "scrolled": true
   },
   "outputs": [
    {
     "data": {
      "text/plain": [
       "[('فرمانروایان', 117),\n",
       " ('پادشاهزادگی', 78),\n",
       " ('فرمانبرداری', 63),\n",
       " ('امیرالمومنین', 57),\n",
       " ('جایگیرداران', 38),\n",
       " ('جهانگیرنامه', 37),\n",
       " ('بدارالخلافه', 37),\n",
       " ('بپادشاهزاده', 34),\n",
       " ('خوشامدگویان', 33),\n",
       " ('جهانگیرآباد', 29)]"
      ]
     },
     "execution_count": 70,
     "metadata": {},
     "output_type": "execute_result"
    }
   ],
   "source": [
    "long_toks = [x for x in combined_toks if len(x)>10]\n",
    "long_freq = nltk.FreqDist(long_toks)\n",
    "long_freq.most_common(10)\n"
   ]
  },
  {
   "cell_type": "markdown",
   "metadata": {},
   "source": [
    "### Word Frequency: Persian Lit Corpus"
   ]
  },
  {
   "cell_type": "code",
   "execution_count": 73,
   "metadata": {},
   "outputs": [],
   "source": [
    "#Placeholder\n",
    "\n",
    "pers_lit_freq = nltk.FreqDist(lit_toks)\n",
    "\n",
    "#pers_lit_freq.most_common(15)"
   ]
  },
  {
   "cell_type": "markdown",
   "metadata": {},
   "source": [
    "### Bigrams"
   ]
  },
  {
   "cell_type": "code",
   "execution_count": 74,
   "metadata": {},
   "outputs": [
    {
     "data": {
      "text/plain": [
       "[(('که', 'در'), 20007),\n",
       " (('از', 'آن'), 19108),\n",
       " (('که', 'از'), 17580),\n",
       " (('و', 'از'), 14371),\n",
       " (('را', 'به'), 13397),\n",
       " (('و', 'در'), 13308),\n",
       " (('او', 'را'), 11058),\n",
       " (('بر', 'سر'), 10900),\n",
       " (('است', 'و'), 10869),\n",
       " (('را', 'که'), 10588),\n",
       " (('در', 'آن'), 9997),\n",
       " (('ما', 'را'), 9432),\n",
       " (('بود', 'و'), 8175),\n",
       " (('را', 'در'), 8028),\n",
       " (('خود', 'را'), 7911),\n",
       " (('را', 'از'), 7909),\n",
       " (('تو', 'را'), 7818),\n",
       " (('هر', 'که'), 7551),\n",
       " (('و', 'آن'), 7471),\n",
       " (('هر', 'دو'), 7276)]"
      ]
     },
     "execution_count": 74,
     "metadata": {},
     "output_type": "execute_result"
    }
   ],
   "source": [
    "bigrams = nltk.ngrams(combined_toks, 2)\n",
    "bi_freq = nltk.FreqDist(bigrams)\n",
    "bi_freq.most_common(20)\n"
   ]
  },
  {
   "cell_type": "markdown",
   "metadata": {},
   "source": [
    "### Trigrams"
   ]
  },
  {
   "cell_type": "code",
   "execution_count": 75,
   "metadata": {},
   "outputs": [
    {
     "data": {
      "text/plain": [
       "[(('روز', 'و', 'شب'), 1887),\n",
       " (('دل', 'و', 'جان'), 1408),\n",
       " (('بعد', 'از', 'آن'), 1311),\n",
       " (('شب', 'و', 'روز'), 1252),\n",
       " (('جان', 'و', 'دل'), 1208),\n",
       " (('از', 'اصل', 'و'), 1192),\n",
       " (('اصل', 'و', 'اضافه'), 1186),\n",
       " (('هزار', 'و', 'پانصدی'), 1176),\n",
       " (('سال', 'بیست', 'و'), 1094),\n",
       " (('و', 'بعد', 'از'), 1053),\n",
       " (('و', 'پس', 'از'), 1025),\n",
       " (('نیک', 'و', 'بد'), 1025),\n",
       " (('آن', 'را', 'که'), 1014),\n",
       " (('که', 'او', 'را'), 975),\n",
       " (('آن', 'کس', 'که'), 946),\n",
       " (('و', 'پانصد', 'سوار'), 933),\n",
       " (('که', 'در', 'آن'), 931),\n",
       " (('از', 'آنجا', 'که'), 912),\n",
       " (('سنه', 'هزار', 'و'), 911),\n",
       " (('مر', 'او', 'را'), 887),\n",
       " (('ما', 'را', 'به'), 884),\n",
       " (('خود', 'را', 'به'), 881),\n",
       " (('هر', 'کس', 'که'), 877),\n",
       " (('رضی', 'الل', 'ه'), 870),\n",
       " (('هزاری', 'ذات', 'و'), 840),\n",
       " (('هزار', 'سوار', 'و'), 826),\n",
       " (('هر', 'که', 'را'), 811),\n",
       " (('هزار', 'و', 'پانصد'), 806),\n",
       " (('چنین', 'داد', 'پاسخ'), 792),\n",
       " (('و', 'از', 'آن'), 786),\n",
       " (('آب', 'و', 'گل'), 782),\n",
       " (('و', 'در', 'سال'), 779),\n",
       " (('آن', 'بود', 'که'), 778),\n",
       " (('از', 'آن', 'چه'), 768),\n",
       " (('بال', 'و', 'پر'), 753),\n",
       " (('را', 'که', 'از'), 747),\n",
       " (('او', 'را', 'به'), 744),\n",
       " (('و', 'از', 'آنجا'), 733),\n",
       " (('و', 'اضافه', 'بمنصب'), 710),\n",
       " (('الل', 'ه', 'عنه'), 710),\n",
       " (('که', 'ما', 'را'), 697),\n",
       " (('دو', 'هزار', 'سوار'), 687),\n",
       " (('این', 'و', 'آن'), 686),\n",
       " (('هر', 'دو', 'عالم'), 681),\n",
       " (('را', 'که', 'در'), 679),\n",
       " (('پس', 'از', 'آن'), 679),\n",
       " (('هر', 'دو', 'جهان'), 673),\n",
       " (('و', 'در', 'آن'), 654),\n",
       " (('هر', 'جا', 'که'), 643),\n",
       " (('نذر', 'محمد', 'خان'), 642),\n",
       " (('است', 'که', 'در'), 640),\n",
       " (('زیر', 'و', 'زبر'), 640),\n",
       " (('آتش', 'و', 'آب'), 632),\n",
       " (('بی', 'سر', 'و'), 619),\n",
       " (('و', 'آن', 'را'), 589),\n",
       " (('داد', 'پاسخ', 'که'), 578),\n",
       " (('سیم', 'و', 'زر'), 562),\n",
       " (('الل', 'ه', 'علیه'), 558),\n",
       " (('علیه', 'الس', 'لام'), 555),\n",
       " (('آن', 'است', 'که'), 549),\n",
       " (('دو', 'هزار', 'و'), 543),\n",
       " (('پیچ', 'و', 'تاب'), 542),\n",
       " (('هر', 'که', 'او'), 538),\n",
       " (('و', 'از', 'سوانح'), 535),\n",
       " (('و', 'بیست', 'و'), 530),\n",
       " (('سر', 'به', 'سر'), 529),\n",
       " (('از', 'بس', 'که'), 519),\n",
       " (('از', 'هر', 'دو'), 516),\n",
       " (('هر', 'که', 'در'), 514),\n",
       " (('دست', 'و', 'پا'), 510),\n",
       " (('دواسپه', 'سه', 'اسپه'), 507),\n",
       " (('پر', 'و', 'بال'), 498),\n",
       " (('من', 'و', 'تو'), 490),\n",
       " (('که', 'از', 'آن'), 488),\n",
       " (('سر', 'زلف', 'تو'), 488),\n",
       " (('بیست', 'و', 'پنجم'), 484),\n",
       " (('است', 'که', 'از'), 479),\n",
       " (('کسی', 'را', 'که'), 475),\n",
       " (('بعنایت', 'خلعت', 'و'), 470),\n",
       " (('و', 'اسپ', 'و'), 469),\n",
       " (('تاج', 'و', 'تخت'), 466),\n",
       " (('بمنصب', 'هزار', 'و'), 461),\n",
       " (('که', 'آن', 'را'), 459),\n",
       " (('آن', 'به', 'که'), 458),\n",
       " (('ز', 'هر', 'سو'), 457),\n",
       " (('بمنصب', 'سه', 'هزاری'), 456),\n",
       " (('بیست', 'و', 'دوم'), 451),\n",
       " (('پس', 'از', 'آنکه'), 449),\n",
       " (('چپ', 'و', 'راست'), 447),\n",
       " (('این', 'هر', 'دو'), 444),\n",
       " (('خاص', 'و', 'عام'), 443),\n",
       " (('سر', 'کوی', 'تو'), 443),\n",
       " (('و', 'پنجاه', 'سوار'), 430),\n",
       " (('بود', 'و', 'از'), 427),\n",
       " (('بیست', 'و', 'یکم'), 425),\n",
       " (('سه', 'هزار', 'سوار'), 422),\n",
       " (('که', 'در', 'این'), 422),\n",
       " (('جان', 'و', 'تن'), 421),\n",
       " (('هزاری', 'دو', 'هزار'), 420),\n",
       " (('پانصد', 'سوار', 'و'), 418),\n",
       " (('ما', 'را', 'ز'), 417),\n",
       " (('بیست', 'و', 'ششم'), 408),\n",
       " (('حکم', 'شد', 'که'), 407),\n",
       " (('و', 'پانصدی', 'هزار'), 407),\n",
       " (('مرد', 'و', 'زن'), 407),\n",
       " (('چنین', 'گفت', 'با'), 407),\n",
       " (('سال', 'سی', 'و'), 404),\n",
       " (('که', 'بعد', 'از'), 400),\n",
       " (('هر', 'چند', 'که'), 398),\n",
       " (('بد', 'و', 'نیک'), 397),\n",
       " (('که', 'خود', 'را'), 395),\n",
       " (('پنج', 'هزار', 'سوار'), 392),\n",
       " (('سوار', 'دواسپه', 'سه'), 392),\n",
       " (('است', 'و', 'در'), 391),\n",
       " (('در', 'سال', 'بیست'), 387),\n",
       " (('را', 'از', 'آن'), 386),\n",
       " (('ب', 'و', 'د'), 384),\n",
       " (('و', 'یکصد', 'و'), 384),\n",
       " (('که', 'تو', 'را'), 383),\n",
       " (('از', 'آن', 'در'), 382),\n",
       " (('است', 'و', 'از'), 381),\n",
       " (('تا', 'به', 'کی'), 381),\n",
       " (('از', 'آن', 'که'), 380),\n",
       " (('چنین', 'گفت', 'کای'), 380),\n",
       " (('صورت', 'و', 'معنی'), 379),\n",
       " (('بیست', 'و', 'چهارم'), 376),\n",
       " (('که', 'با', 'او'), 376),\n",
       " (('بود', 'و', 'در'), 374),\n",
       " (('می', 'شود', 'از'), 374),\n",
       " (('رنگ', 'و', 'بوی'), 372),\n",
       " (('که', 'من', 'از'), 372),\n",
       " (('یک', 'لک', 'روپیه'), 369),\n",
       " (('هر', 'که', 'از'), 366),\n",
       " (('دست', 'و', 'پای'), 365),\n",
       " (('آن', 'دم', 'که'), 365),\n",
       " (('تو', 'ما', 'را'), 365),\n",
       " (('شد', 'و', 'از'), 364),\n",
       " (('جسم', 'و', 'جان'), 364),\n",
       " (('پانصدی', 'ذات', 'و'), 363),\n",
       " (('هزاری', 'هزار', 'سوار'), 362),\n",
       " (('آب', 'و', 'آتش'), 361),\n",
       " (('رحمه', 'الل', 'ه'), 361),\n",
       " (('است', 'و', 'بس'), 357),\n",
       " (('و', 'شصت', 'و'), 356),\n",
       " (('که', 'من', 'دارم'), 356),\n",
       " (('خان', 'را', 'که'), 354),\n",
       " (('رجوع', 'شود', 'به'), 354),\n",
       " (('و', 'پنجاه', 'و'), 353),\n",
       " (('علی', 'مردان', 'خان'), 353),\n",
       " (('می', 'آید', 'که'), 346),\n",
       " (('بیست', 'و', 'نهم'), 345),\n",
       " (('مر', 'تو', 'را'), 345),\n",
       " (('زر', 'و', 'سیم'), 343),\n",
       " (('شد', 'و', 'در'), 342),\n",
       " (('هزار', 'سوار', 'دواسپه'), 342),\n",
       " (('و', 'سی', 'و'), 341),\n",
       " (('و', 'او', 'را'), 339),\n",
       " (('از', 'طویله', 'خاصه'), 338),\n",
       " (('دم', 'به', 'دم'), 336),\n",
       " (('در', 'دل', 'و'), 335),\n",
       " (('سال', 'چهل', 'و'), 334),\n",
       " (('او', 'را', 'ز'), 334),\n",
       " (('با', 'این', 'همه'), 331),\n",
       " (('بدو', 'گفت', 'کای'), 330),\n",
       " (('می', 'کند', 'از'), 328),\n",
       " (('جان', 'و', 'جهان'), 328),\n",
       " (('پیش', 'و', 'پس'), 327),\n",
       " (('بیست', 'و', 'پنج'), 326),\n",
       " (('بیست', 'و', 'سیوم'), 326),\n",
       " (('او', 'را', 'در'), 325),\n",
       " (('اسپ', 'با', 'زین'), 323),\n",
       " (('خلعت', 'خاصه', 'و'), 323),\n",
       " (('بیش', 'از', 'این'), 322),\n",
       " (('بر', 'سر', 'آن'), 320),\n",
       " (('بیش', 'و', 'کم'), 320),\n",
       " (('و', 'چهل', 'و'), 319),\n",
       " (('خود', 'را', 'در'), 319),\n",
       " (('عز', 'و', 'جل'), 318),\n",
       " (('از', 'آن', 'جا'), 318),\n",
       " (('خلعت', 'و', 'اسپ'), 316),\n",
       " (('رنگ', 'و', 'بو'), 315),\n",
       " (('که', 'در', 'دل'), 314),\n",
       " (('از', 'دل', 'و'), 312),\n",
       " (('بیست', 'و', 'هشتم'), 311),\n",
       " (('در', 'و', 'دیوار'), 311),\n",
       " (('که', 'بر', 'سر'), 311),\n",
       " (('جهان', 'را', 'به'), 311),\n",
       " (('بود', 'که', 'در'), 309),\n",
       " (('بمنصب', 'دو', 'هزاری'), 309),\n",
       " (('گفت', 'و', 'گوی'), 307),\n",
       " (('یافت', 'و', 'در'), 306),\n",
       " (('بر', 'سر', 'کوی'), 304),\n",
       " (('ما', 'و', 'من'), 304),\n",
       " (('هر', 'دو', 'را'), 304),\n",
       " (('که', 'در', 'هر'), 303),\n",
       " (('آن', 'روز', 'که'), 303),\n",
       " (('دل', 'را', 'به'), 303),\n",
       " (('خود', 'را', 'ز'), 301),\n",
       " (('یک', 'به', 'یک'), 300),\n",
       " (('را', 'بر', 'سر'), 298),\n",
       " (('زمین', 'و', 'آسمان'), 298),\n",
       " (('که', 'با', 'تو'), 298),\n",
       " (('گردید', 'و', 'در'), 297),\n",
       " (('عقل', 'و', 'جان'), 297),\n",
       " (('پر', 'از', 'خون'), 297),\n",
       " (('بیست', 'و', 'هفتم'), 296),\n",
       " (('در', 'دل', 'من'), 296),\n",
       " (('و', 'خنجر', 'مرصع'), 294),\n",
       " (('می', 'کند', 'در'), 294),\n",
       " (('خورشید', 'و', 'ماه'), 292),\n",
       " (('تن', 'و', 'جان'), 291),\n",
       " (('بی', 'دست', 'و'), 290),\n",
       " (('را', 'در', 'آن'), 290),\n",
       " (('دو', 'هزاری', 'هزار'), 290),\n",
       " (('ز', 'بس', 'که'), 290),\n",
       " (('و', 'جان', 'و'), 288),\n",
       " (('از', 'عشق', 'تو'), 288),\n",
       " (('است', 'و', 'آن'), 286),\n",
       " (('است', 'از', 'آن'), 285),\n",
       " (('در', 'عشق', 'تو'), 285),\n",
       " (('در', 'آن', 'وقت'), 283),\n",
       " (('ز', 'سر', 'تا'), 282),\n",
       " (('حضرت', 'جنت', 'مکانی'), 280),\n",
       " (('صد', 'و', 'پنجاه'), 280),\n",
       " (('دل', 'و', 'دین'), 280),\n",
       " (('به', 'جان', 'تو'), 280),\n",
       " (('ده', 'هزار', 'روپیه'), 279),\n",
       " (('اسپ', 'از', 'طویله'), 278),\n",
       " (('تو', 'را', 'به'), 278),\n",
       " (('به', 'سر', 'بر'), 278),\n",
       " (('از', 'جان', 'و'), 277),\n",
       " (('محمد', 'اورنگ', 'زیب'), 277),\n",
       " (('هر', 'یک', 'از'), 276),\n",
       " (('خار', 'و', 'خس'), 276),\n",
       " (('حضرت', 'عرش', 'آشیانی'), 275),\n",
       " (('بر', 'سر', 'او'), 275),\n",
       " (('آن', 'زمان', 'که'), 275),\n",
       " (('و', 'دو', 'هزار'), 273),\n",
       " (('پنج', 'هزار', 'روپیه'), 273),\n",
       " (('است', 'این', 'که'), 273),\n",
       " (('سنه', 'نهصد', 'و'), 272),\n",
       " (('سر', 'و', 'پا'), 272),\n",
       " (('بود', 'که', 'از'), 272),\n",
       " (('ذات', 'و', 'هزار'), 272),\n",
       " (('دل', 'و', 'دیده'), 272),\n",
       " (('که', 'از', 'تو'), 272),\n",
       " (('از', 'بنده', 'های'), 271),\n",
       " (('در', 'آب', 'و'), 271),\n",
       " (('در', 'دو', 'عالم'), 271),\n",
       " (('هزار', 'روپیه', 'نقد'), 270),\n",
       " (('و', 'جان', 'را'), 267),\n",
       " (('مرز', 'و', 'بوم'), 265),\n",
       " (('بعد', 'از', 'آنکه'), 265),\n",
       " (('از', 'آب', 'و'), 265),\n",
       " (('خان', 'را', 'با'), 264),\n",
       " (('آن', 'باشد', 'که'), 264),\n",
       " (('کون', 'و', 'مکان'), 263),\n",
       " (('پیش', 'از', 'آن'), 263),\n",
       " (('و', 'اسپ', 'با'), 262),\n",
       " (('ما', 'را', 'در'), 262),\n",
       " (('نشست', 'از', 'بر'), 262),\n",
       " (('در', 'هر', 'دو'), 261),\n",
       " (('فرود', 'آمد', 'از'), 261),\n",
       " (('بر', 'سر', 'من'), 261),\n",
       " (('و', 'مرصع', 'آلات'), 260),\n",
       " (('و', 'فیل', 'و'), 260),\n",
       " (('اورنگ', 'زیب', 'بهادر'), 260),\n",
       " (('به', 'جان', 'و'), 260),\n",
       " (('پنجاه', 'هزار', 'روپیه'), 259),\n",
       " (('نام', 'و', 'ننگ'), 259),\n",
       " (('که', 'با', 'من'), 259),\n",
       " (('خان', 'که', 'از'), 258),\n",
       " (('سه', 'هزاری', 'دو'), 258),\n",
       " (('تو', 'گفتی', 'که'), 258),\n",
       " (('خان', 'و', 'مان'), 257),\n",
       " (('او', 'را', 'که'), 257),\n",
       " (('و', 'هر', 'دو'), 256),\n",
       " (('بعد', 'از', 'این'), 256),\n",
       " (('جاه', 'و', 'جلال'), 255),\n",
       " (('به', 'غیر', 'از'), 254),\n",
       " (('و', 'دل', 'و'), 253),\n",
       " (('از', 'روی', 'تو'), 252),\n",
       " (('به', 'هر', 'جا'), 252),\n",
       " (('به', 'کام', 'دل'), 251),\n",
       " (('کار', 'و', 'بار'), 250),\n",
       " (('سه', 'صد', 'سوار'), 249),\n",
       " (('هر', 'یکی', 'را'), 249),\n",
       " (('طویله', 'خاصه', 'با'), 249),\n",
       " (('هر', 'چه', 'در'), 249),\n",
       " (('ما', 'را', 'که'), 249),\n",
       " (('عبد', 'العزیز', 'خان'), 248),\n",
       " (('خان', 'و', 'دیگر'), 248),\n",
       " (('هزاری', 'پانصد', 'سوار'), 248),\n",
       " (('و', 'هفتاد', 'و'), 247),\n",
       " (('سوار', 'از', 'اصل'), 246),\n",
       " (('خود', 'را', 'از'), 245),\n",
       " (('است', 'هر', 'که'), 245),\n",
       " (('گر', 'چه', 'در'), 245),\n",
       " (('می', 'آید', 'به'), 245),\n",
       " (('هزار', 'و', 'یکصد'), 244),\n",
       " (('سال', 'هزار', 'و'), 243),\n",
       " (('آن', 'جا', 'که'), 243),\n",
       " (('این', 'است', 'که'), 242),\n",
       " (('خاک', 'بر', 'سر'), 242),\n",
       " (('باضافه', 'پانصدی', 'ذات'), 242),\n",
       " (('از', 'آن', 'می'), 241),\n",
       " (('سر', 'تا', 'پای'), 241),\n",
       " (('با', 'جمعی', 'از'), 241),\n",
       " (('هر', 'یکی', 'از'), 241),\n",
       " (('علیه', 'و', 'سلم'), 241),\n",
       " (('را', 'به', 'دست'), 241),\n",
       " (('می', 'آید', 'برون'), 240),\n",
       " (('به', 'هر', 'سو'), 240),\n",
       " (('مر', 'آن', 'را'), 240),\n",
       " (('و', 'علم', 'و'), 239),\n",
       " (('هزاری', 'هزار', 'و'), 239),\n",
       " (('که', 'تو', 'داری'), 239),\n",
       " (('که', 'در', 'او'), 239),\n",
       " (('گر', 'چه', 'از'), 239),\n",
       " (('و', 'در', 'همین'), 238),\n",
       " (('بمرحمت', 'خلعت', 'و'), 238),\n",
       " (('خویش', 'را', 'در'), 238),\n",
       " (('و', 'گفت', 'که'), 237),\n",
       " (('و', 'بر', 'سر'), 236),\n",
       " (('و', 'چون', 'از'), 236),\n",
       " (('کم', 'و', 'بیش'), 235),\n",
       " (('سوار', 'و', 'خطاب'), 234),\n",
       " (('از', 'من', 'و'), 234),\n",
       " (('آن', 'دل', 'که'), 234),\n",
       " (('گشت', 'و', 'در'), 233),\n",
       " (('از', 'تو', 'به'), 233),\n",
       " (('خاک', 'و', 'خون'), 232),\n",
       " (('و', 'ما', 'را'), 232),\n",
       " (('چنان', 'دان', 'که'), 232),\n",
       " (('و', 'پنج', 'هزار'), 231),\n",
       " (('هزار', 'روپیه', 'و'), 231),\n",
       " (('سال', 'و', 'مه'), 231),\n",
       " (('خیر', 'و', 'شر'), 231),\n",
       " (('از', 'درد', 'و'), 231),\n",
       " (('مرصع', 'آلات', 'و'), 230),\n",
       " (('این', 'سخن', 'را'), 230),\n",
       " (('آمد', 'و', 'از'), 229),\n",
       " (('با', 'زین', 'مطلا'), 229),\n",
       " (('با', 'او', 'به'), 229),\n",
       " (('کفر', 'و', 'دین'), 228),\n",
       " (('زمین', 'و', 'زمان'), 227),\n",
       " (('اسپ', 'و', 'فیل'), 227),\n",
       " (('بگفت', 'این', 'و'), 226),\n",
       " (('شد', 'و', 'چون'), 225),\n",
       " (('سال', 'و', 'ماه'), 225),\n",
       " (('که', 'من', 'در'), 225),\n",
       " (('نام', 'و', 'نشان'), 224),\n",
       " (('دو', 'عالم', 'را'), 224),\n",
       " (('اندر', 'آمد', 'به'), 224),\n",
       " (('من', 'از', 'آن'), 223),\n",
       " (('و', 'هشتاد', 'و'), 222),\n",
       " (('ذات', 'و', 'سوار'), 222),\n",
       " (('را', 'که', 'به'), 221),\n",
       " (('بر', 'سر', 'این'), 220),\n",
       " (('که', 'در', 'وی'), 220),\n",
       " (('و', 'چون', 'در'), 219),\n",
       " (('جزو', 'و', 'کل'), 219),\n",
       " (('و', 'تخت', 'و'), 219),\n",
       " (('که', 'بر', 'من'), 219),\n",
       " (('دل', 'پر', 'از'), 219),\n",
       " (('ز', 'آب', 'و'), 219),\n",
       " (('آن', 'را', 'به'), 218),\n",
       " (('تخت', 'و', 'کلاه'), 218),\n",
       " (('او', 'را', 'از'), 217),\n",
       " (('مست', 'و', 'خراب'), 216),\n",
       " (('و', 'آب', 'و'), 216),\n",
       " (('آن', 'شد', 'که'), 216),\n",
       " (('تو', 'را', 'در'), 216),\n",
       " (('پر', 'از', 'درد'), 216),\n",
       " (('هر', 'آنکس', 'که'), 216),\n",
       " (('دولت', 'و', 'اقبال'), 215),\n",
       " (('نشو', 'و', 'نما'), 215),\n",
       " (('می', 'شود', 'در'), 215),\n",
       " (('از', 'دست', 'تو'), 215),\n",
       " (('از', 'هر', 'طرف'), 214),\n",
       " (('دولت', 'و', 'دین'), 214),\n",
       " (('و', 'شب', 'در'), 214),\n",
       " (('در', 'متن', 'چاپی'), 214),\n",
       " (('و', 'نود', 'و'), 213),\n",
       " (('خان', 'و', 'راجه'), 213),\n",
       " (('که', 'پیش', 'از'), 213),\n",
       " (('بود', 'از', 'آن'), 213),\n",
       " (('هیچ', 'کس', 'را'), 213),\n",
       " (('در', 'کوی', 'تو'), 213),\n",
       " (('خنجر', 'مرصع', 'و'), 212),\n",
       " (('علم', 'و', 'نقاره'), 212),\n",
       " (('حسین', 'علی', 'خان'), 212),\n",
       " (('بر', 'سر', 'و'), 212),\n",
       " (('در', 'این', 'ره'), 212),\n",
       " (('بعد', 'از', 'ان'), 211),\n",
       " (('جواهر', 'و', 'مرصع'), 211),\n",
       " (('فرمان', 'شد', 'که'), 211),\n",
       " (('پانصدی', 'هزار', 'و'), 211),\n",
       " (('میر', 'قاسم', 'خان'), 211),\n",
       " (('تو', 'چه', 'دانی'), 210),\n",
       " (('و', 'تاج', 'و'), 209),\n",
       " (('که', 'از', 'هر'), 209),\n",
       " (('سود', 'و', 'زیان'), 209),\n",
       " (('هر', 'کس', 'به'), 209),\n",
       " (('سید', 'خان', 'جهان'), 208),\n",
       " (('ما', 'را', 'از'), 208),\n",
       " (('تو', 'خود', 'را'), 208),\n",
       " (('خان', 'که', 'در'), 207),\n",
       " (('از', 'آن', 'پس'), 207),\n",
       " (('تار', 'و', 'پود'), 207),\n",
       " (('چه', 'توان', 'کرد'), 207),\n",
       " (('هر', 'چه', 'هست'), 207),\n",
       " (('در', 'ره', 'عشق'), 207),\n",
       " (('و', 'جمعی', 'دیگر'), 206),\n",
       " (('هزاری', 'سه', 'هزار'), 206),\n",
       " (('که', 'بی', 'تو'), 206),\n",
       " (('چه', 'می', 'کند'), 206),\n",
       " (('و', 'جمعی', 'از'), 204),\n",
       " (('بنده', 'های', 'درگاه'), 204),\n",
       " (('دین', 'و', 'دنیا'), 204),\n",
       " (('بمنصب', 'دو', 'هزار'), 204),\n",
       " (('که', 'بود', 'از'), 204),\n",
       " (('و', 'دل', 'را'), 204),\n",
       " (('تو', 'او', 'را'), 204),\n",
       " (('و', 'در', 'هر'), 203),\n",
       " (('خان', 'صوبه', 'دار'), 203),\n",
       " (('پانصدی', 'هزار', 'سوار'), 203),\n",
       " (('جست', 'و', 'جوی'), 203),\n",
       " (('و', 'وی', 'را'), 203),\n",
       " (('دل', 'خود', 'را'), 203),\n",
       " (('تو', 'را', 'از'), 202),\n",
       " (('هر', 'که', 'چون'), 202),\n",
       " (('درد', 'و', 'داغ'), 202),\n",
       " (('چو', 'آمد', 'به'), 202),\n",
       " (('از', 'آن', 'رو'), 201),\n",
       " (('زد', 'و', 'خورد'), 201),\n",
       " (('پانصد', 'سوار', 'بمنصب'), 201),\n",
       " (('دور', 'از', 'تو'), 201),\n",
       " (('کر', 'و', 'فر'), 200),\n",
       " (('بمنصب', 'هزاری', 'ذات'), 200),\n",
       " (('و', 'هزار', 'سوار'), 199),\n",
       " (('آن', 'که', 'در'), 199),\n",
       " (('و', 'خود', 'را'), 199),\n",
       " (('هر', 'دم', 'از'), 199),\n",
       " (('با', 'زین', 'طلا'), 198),\n",
       " (('تیر', 'و', 'کمان'), 198),\n",
       " (('و', 'آن', 'چه'), 198),\n",
       " (('هر', 'کسی', 'را'), 198),\n",
       " (('می', 'گردد', 'به'), 198),\n",
       " (('و', 'دو', 'اسپ'), 197),\n",
       " (('و', 'شمشیر', 'مرصع'), 197),\n",
       " (('بعنایت', 'خلعت', 'خاصه'), 197),\n",
       " (('بوده', 'اند', 'و'), 197),\n",
       " (('جان', 'را', 'به'), 197),\n",
       " (('آب', 'و', 'خاک'), 196),\n",
       " (('را', 'به', 'یک'), 196),\n",
       " (('من', 'از', 'تو'), 196),\n",
       " (('هر', 'گه', 'که'), 196),\n",
       " (('هزاری', 'پنج', 'هزار'), 195),\n",
       " (('و', 'پانصدی', 'ذات'), 195),\n",
       " (('بر', 'سر', 'هر'), 195),\n",
       " (('ظاهر', 'و', 'باطن'), 194),\n",
       " (('نگه', 'کن', 'که'), 194),\n",
       " (('از', 'آتش', 'و'), 194),\n",
       " (('بی', 'خبر', 'از'), 194),\n",
       " (('نیست', 'غیر', 'از'), 194),\n",
       " (('هر', 'که', 'به'), 194),\n",
       " (('می', 'نمود', 'و'), 193),\n",
       " (('راجه', 'جی', 'سنگه'), 193),\n",
       " (('خشک', 'و', 'تر'), 193),\n",
       " (('که', 'هست', 'از'), 193),\n",
       " (('از', 'آن', 'دم'), 193),\n",
       " (('نمی', 'آید', 'به'), 193),\n",
       " (('می', 'شود', 'و'), 192),\n",
       " (('خاصه', 'با', 'زین'), 192),\n",
       " (('تو', 'از', 'آن'), 192),\n",
       " (('پای', 'تا', 'سر'), 191),\n",
       " (('از', 'دل', 'من'), 191),\n",
       " (('بر', 'دل', 'من'), 191),\n",
       " (('هزار', 'سوار', 'از'), 190),\n",
       " (('پانصدی', 'صد', 'سوار'), 190),\n",
       " (('چشم', 'و', 'دل'), 190),\n",
       " (('غم', 'عشق', 'تو'), 190),\n",
       " (('ما', 'را', 'چه'), 190),\n",
       " (('ما', 'را', 'چو'), 190),\n",
       " (('بند', 'و', 'بست'), 189),\n",
       " (('بوم', 'و', 'بر'), 189),\n",
       " (('آمد', 'و', 'گفت'), 189),\n",
       " (('آشکار', 'و', 'نهان'), 188),\n",
       " (('شد', 'که', 'از'), 187),\n",
       " (('فتح', 'و', 'ظفر'), 187),\n",
       " (('و', 'جمدهر', 'مرصع'), 187),\n",
       " (('پانصدی', 'دوصد', 'سوار'), 187),\n",
       " (('که', 'از', 'این'), 187),\n",
       " (('چنان', 'شد', 'که'), 187),\n",
       " (('که', 'به', 'یک'), 187),\n",
       " (('که', 'او', 'در'), 186),\n",
       " (('درد', 'و', 'غم'), 186),\n",
       " (('محمد', 'جعفر', 'خان'), 186),\n",
       " (('در', 'آن', 'دم'), 186),\n",
       " (('دل', 'ما', 'را'), 186),\n",
       " (('در', 'همه', 'عالم'), 186),\n",
       " (('پانصدی', 'پانصد', 'سوار'), 185),\n",
       " (('گفت', 'و', 'گو'), 185),\n",
       " (('که', 'او', 'از'), 185),\n",
       " (('می', 'باید', 'کشید'), 185),\n",
       " (('ز', 'هر', 'دو'), 185),\n",
       " (('که', 'یکی', 'از'), 184),\n",
       " (('از', 'آن', 'به'), 184),\n",
       " (('قیل', 'و', 'قال'), 184),\n",
       " (('دست', 'و', 'پایی'), 184),\n",
       " (('به', 'روی', 'تو'), 184),\n",
       " (('کوه', 'و', 'دشت'), 183),\n",
       " (('خود', 'را', 'بر'), 183),\n",
       " (('هم', 'اندر', 'زمان'), 183),\n",
       " (('لیل', 'و', 'نهار'), 182),\n",
       " (('در', 'آن', 'هنگام'), 182),\n",
       " (('بود', 'بعد', 'از'), 182),\n",
       " (('است', 'و', 'این'), 182),\n",
       " (('حلقه', 'در', 'گوش'), 182),\n",
       " (('هر', 'دو', 'در'), 181),\n",
       " (('دو', 'لک', 'روپیه'), 181),\n",
       " (('و', 'بسیاری', 'از'), 181),\n",
       " (('می', 'کرد', 'و'), 181),\n",
       " (('بحر', 'و', 'بر'), 181),\n",
       " (('که', 'در', 'عالم'), 181),\n",
       " (('میر', 'محمد', 'جعفر'), 181),\n",
       " (('هر', 'چه', 'می'), 181),\n",
       " (('بود', 'و', 'آن'), 180),\n",
       " (('و', 'ماده', 'فیل'), 180),\n",
       " (('او', 'بود', 'و'), 180),\n",
       " (('هزار', 'و', 'دویست'), 180),\n",
       " (('و', 'دویست', 'سوار'), 180),\n",
       " (('هزار', 'و', 'پنجاه'), 180),\n",
       " (('آن', 'که', 'از'), 180),\n",
       " (('هر', 'دو', 'کون'), 180),\n",
       " (('مرصع', 'با', 'پ'), 180),\n",
       " (('آن', 'هر', 'دو'), 179),\n",
       " (('علی', 'خان', 'و'), 179),\n",
       " (('از', 'چپ', 'و'), 179),\n",
       " (('می', 'گوید', 'که'), 179),\n",
       " (('بی', 'روی', 'تو'), 179),\n",
       " (('و', 'روشن', 'روان'), 179),\n",
       " (('پیر', 'و', 'جوان'), 178),\n",
       " (('شد', 'که', 'در'), 178),\n",
       " (('کرده', 'اند', 'و'), 178),\n",
       " (('و', 'از', 'هر'), 178),\n",
       " (('از', 'خون', 'دل'), 178),\n",
       " (('گمان', 'مبر', 'که'), 178),\n",
       " (('اند', 'و', 'در'), 177),\n",
       " (('در', 'بیست', 'و'), 177),\n",
       " (('پنج', 'هزاری', 'پنج'), 177),\n",
       " (('عبد', 'خان', 'بهادر'), 177),\n",
       " (('بر', 'سر', 'راه'), 177),\n",
       " (('و', 'من', 'از'), 177),\n",
       " (('که', 'به', 'هر'), 177),\n",
       " (('و', 'گفت', 'ای'), 177),\n",
       " (('در', 'آن', 'ایام'), 176),\n",
       " (('خس', 'و', 'خاشاک'), 176),\n",
       " (('با', 'پ', 'ولکتاره'), 176),\n",
       " (('را', 'در', 'این'), 176),\n",
       " (('به', 'پیش', 'تو'), 176),\n",
       " (('تاج', 'و', 'گاه'), 176),\n",
       " (('به', 'نزدیک', 'شاه'), 176),\n",
       " (('در', 'همین', 'سال'), 175),\n",
       " (('نمود', 'و', 'در'), 175),\n",
       " (('کس', 'را', 'که'), 175),\n",
       " (('تو', 'در', 'این'), 175),\n",
       " (('چه', 'خیال', 'است'), 175),\n",
       " (('هر', 'دو', 'یکی'), 175),\n",
       " (('است', 'تو', 'را'), 175),\n",
       " (('بهادر', 'خان', 'و'), 174),\n",
       " (('دو', 'هزار', 'روپیه'), 174),\n",
       " (('خود', 'را', 'که'), 174),\n",
       " (('ای', 'جان', 'و'), 174),\n",
       " (('لاله', 'و', 'گل'), 173),\n",
       " (('از', 'پی', 'آن'), 173),\n",
       " (('گل', 'بی', 'خار'), 173),\n",
       " (('می', 'توان', 'کردن'), 173),\n",
       " (('تو', 'را', 'که'), 173),\n",
       " (('که', 'هر', 'یک'), 172),\n",
       " (('که', 'هر', 'دو'), 172),\n",
       " (('بود', 'هر', 'که'), 172),\n",
       " (('در', 'آن', 'روز'), 172),\n",
       " (('و', 'دل', 'از'), 172),\n",
       " (('که', 'با', 'ما'), 172),\n",
       " (('و', 'آن', 'جا'), 172),\n",
       " (('تو', 'در', 'دل'), 172),\n",
       " (('و', 'ماه', 'و'), 171),\n",
       " (('اضافه', 'بمنصب', 'هزاری'), 171),\n",
       " (('گفت', 'که', 'این'), 171),\n",
       " (('هر', 'دو', 'به'), 171),\n",
       " (('خود', 'را', 'می'), 171),\n",
       " (('سر', 'و', 'سامان'), 171),\n",
       " (('شور', 'و', 'شر'), 170),\n",
       " (('پس', 'و', 'پیش'), 170),\n",
       " (('جواب', 'داد', 'که'), 170),\n",
       " (('از', 'حلقه', 'خاصه'), 170),\n",
       " (('دیده', 'و', 'دل'), 170),\n",
       " (('در', 'دو', 'جهان'), 170),\n",
       " (('را', 'به', 'جان'), 170),\n",
       " (('بی', 'دل', 'و'), 170),\n",
       " (('نی', 'ر', 'اعظم'), 169),\n",
       " (('قضا', 'و', 'قدر'), 169),\n",
       " (('نقد', 'و', 'جنس'), 169),\n",
       " (('ذات', 'و', 'پانصد'), 169),\n",
       " (('پا', 'و', 'سر'), 169),\n",
       " (('خود', 'را', 'چو'), 169),\n",
       " (('از', 'من', 'به'), 169),\n",
       " (('هر', 'دل', 'که'), 169),\n",
       " (('هر', 'که', 'با'), 169),\n",
       " (('با', 'یراق', 'نقره'), 168),\n",
       " (('است', 'که', 'بر'), 168),\n",
       " (('و', 'از', 'اصل'), 168),\n",
       " (('را', 'بعنایت', 'خلعت'), 168),\n",
       " (('نیست', 'که', 'در'), 168),\n",
       " (('است', 'و', 'نه'), 168),\n",
       " (('ذو', 'الفقار', 'خان'), 168),\n",
       " (('از', 'من', 'که'), 168),\n",
       " (('از', 'دو', 'عالم'), 168),\n",
       " (('عشق', 'تو', 'در'), 168),\n",
       " (('به', 'جایی', 'که'), 168),\n",
       " (('حل', 'و', 'عقد'), 167),\n",
       " (('بیست', 'و', 'دو'), 167),\n",
       " (('مطابق', 'سنه', 'هزار'), 167),\n",
       " (('در', 'کار', 'نیست'), 167),\n",
       " (('یک', 'و', 'نیم'), 167),\n",
       " (('نمی', 'دانم', 'که'), 167),\n",
       " (('پیش', 'از', 'این'), 167),\n",
       " (('آن', 'که', 'به'), 167),\n",
       " (('می', 'کند', 'هر'), 167),\n",
       " (('بر', 'در', 'تو'), 167),\n",
       " (('انس', 'و', 'جان'), 166),\n",
       " (('شمشیر', 'مرصع', 'و'), 166),\n",
       " (('فیل', 'از', 'حلقه'), 166),\n",
       " (('که', 'از', 'من'), 166),\n",
       " (('که', 'تو', 'در'), 166),\n",
       " (('اگر', 'خواهی', 'که'), 166),\n",
       " (('را', 'می', 'کند'), 166),\n",
       " (('ز', 'عشق', 'تو'), 166),\n",
       " (('چه', 'می', 'کنی'), 166),\n",
       " (('درین', 'هنگام', 'که'), 165),\n",
       " (('می', 'گفت', 'که'), 165),\n",
       " (('که', 'در', 'جهان'), 165),\n",
       " (('در', 'دل', 'ما'), 165),\n",
       " (('بنده', 'های', 'پادشاهی'), 164),\n",
       " (('و', 'چندی', 'دیگر'), 164),\n",
       " (('لک', 'روپیه', 'نقد'), 164),\n",
       " (('از', 'آن', 'باز'), 164),\n",
       " (('در', 'سال', 'سی'), 164),\n",
       " (('پر', 'از', 'آب'), 164),\n",
       " (('بر', 'سر', 'خاک'), 163),\n",
       " (('خواب', 'و', 'خور'), 163),\n",
       " (('لا', 'اله', 'الا'), 163),\n",
       " (('از', 'وی', 'می'), 163),\n",
       " (('از', 'تو', 'در'), 163),\n",
       " (('تا', 'کی', 'از'), 163),\n",
       " (('به', 'چشم', 'من'), 163),\n",
       " (('دل', 'را', 'ز'), 163),\n",
       " (('تو', 'دانی', 'که'), 163),\n",
       " (('خواجه', 'ابو', 'الحسن'), 162),\n",
       " (('دار', 'و', 'گیر'), 162),\n",
       " (('که', 'در', 'راه'), 162),\n",
       " (('با', 'زین', 'نقره'), 162),\n",
       " (('نمی', 'دانم', 'چه'), 162),\n",
       " (('و', 'هر', 'یکی'), 162),\n",
       " (('که', 'هر', 'کس'), 162),\n",
       " (('هر', 'چه', 'خواهی'), 162),\n",
       " (('ز', 'دست', 'تو'), 162),\n",
       " (('پر', 'ز', 'خون'), 162),\n",
       " (('آن', 'نیست', 'که'), 161),\n",
       " (('من', 'با', 'تو'), 161),\n",
       " (('بر', 'سر', 'ما'), 161),\n",
       " (('از', 'هر', 'چه'), 161),\n",
       " (('از', 'بهر', 'چه'), 161),\n",
       " (('چنان', 'بد', 'که'), 161),\n",
       " (('هر', 'کس', 'را'), 160),\n",
       " (('هفت', 'هزار', 'سوار'), 160),\n",
       " (('جمعی', 'کثیر', 'از'), 160),\n",
       " (('را', 'در', 'میان'), 160),\n",
       " (('می', 'توان', 'کرد'), 160),\n",
       " (('بر', 'و', 'بوم'), 160),\n",
       " (('بمنصب', 'پنج', 'هزاری'), 159),\n",
       " (('توپ', 'و', 'تفنگ'), 159),\n",
       " (('در', 'اثنای', 'راه'), 159),\n",
       " (('ای', 'دل', 'که'), 159),\n",
       " (('را', 'پیش', 'خواند'), 159),\n",
       " (('می', 'آید', 'و'), 158),\n",
       " (('که', 'بر', 'آن'), 158),\n",
       " (('ظاهر', 'شد', 'که'), 158),\n",
       " (('و', 'پنجاه', 'هزار'), 158),\n",
       " (('و', 'منصب', 'هزاری'), 158),\n",
       " (('خدای', 'عز', 'و'), 158),\n",
       " (('و', 'من', 'در'), 158),\n",
       " (('در', 'این', 'راه'), 158),\n",
       " (('هر', 'دم', 'به'), 158),\n",
       " (('ز', 'هر', 'گونه'), 158),\n",
       " (('است', 'که', 'چون'), 157),\n",
       " (('و', 'نقاره', 'و'), 157),\n",
       " (('و', 'بهادر', 'خان'), 157),\n",
       " (('بر', 'روی', 'زمین'), 157),\n",
       " (('چنان', 'بود', 'که'), 157),\n",
       " (('همان', 'بهتر', 'که'), 157),\n",
       " (('با', 'من', 'به'), 157),\n",
       " (('که', 'چون', 'تو'), 157),\n",
       " (('آب', 'و', 'رنگ'), 156),\n",
       " (('سوار', 'و', 'پیاده'), 156),\n",
       " (('چشم', 'و', 'گوش'), 156),\n",
       " (('و', 'دین', 'و'), 156),\n",
       " (('دوصد', 'و', 'پنجاه'), 156),\n",
       " (('محمد', 'خان', 'و'), 156),\n",
       " (('از', 'دست', 'داده'), 156),\n",
       " (('نشیب', 'و', 'فراز'), 156),\n",
       " (('الدین', 'احمد', 'خان'), 156),\n",
       " (('دار', 'الخلافه', 'آگره'), 155),\n",
       " (('شده', 'بود', 'و'), 155),\n",
       " (('دین', 'و', 'دولت'), 155),\n",
       " (('چشم', 'بد', 'دور'), 155),\n",
       " (('خان', 'دوران', 'بهادر'), 155),\n",
       " (('صبح', 'و', 'شام'), 155),\n",
       " (('که', 'از', 'وی'), 155),\n",
       " (('همان', 'به', 'که'), 155),\n",
       " (('من', 'که', 'در'), 155),\n",
       " (('و', 'آن', 'که'), 155),\n",
       " (('خوب', 'و', 'زشت'), 155),\n",
       " (('چه', 'باشد', 'گر'), 155),\n",
       " (('او', 'را', 'بر'), 154),\n",
       " (('امن', 'و', 'امان'), 154),\n",
       " (('مهر', 'و', 'ماه'), 154),\n",
       " (('چشم', 'و', 'چراغ'), 154),\n",
       " (('شاه', 'بیگ', 'خان'), 154),\n",
       " (('اول', 'و', 'آخر'), 154),\n",
       " (('روی', 'تو', 'در'), 154),\n",
       " (('نمی', 'داند', 'که'), 154),\n",
       " (('را', 'به', 'چشم'), 154),\n",
       " (('انجام', 'و', 'آغاز'), 154),\n",
       " (('به', 'دست', 'تو'), 154),\n",
       " (('نمود', 'و', 'از'), 153),\n",
       " (('آمد', 'و', 'رفت'), 153),\n",
       " (('بلخ', 'و', 'بدخشان'), 153),\n",
       " (('هزار', 'سوار', 'بمنصب'), 153),\n",
       " (('در', 'سنه', 'هزار'), 153),\n",
       " (('بر', 'جان', 'من'), 153),\n",
       " (('است', 'و', 'من'), 153),\n",
       " (('به', 'یک', 'بار'), 153),\n",
       " (('که', 'بر', 'تو'), 153),\n",
       " (('از', 'خون', 'جگر'), 153),\n",
       " (('آن', 'می', 'که'), 153),\n",
       " (('که', 'از', 'روی'), 152),\n",
       " (('سعید', 'خان', 'بهادر'), 152),\n",
       " (('بر', 'دل', 'و'), 152),\n",
       " (('ای', 'که', 'در'), 152),\n",
       " (('میرزا', 'محمد', 'حکیم'), 152),\n",
       " (('و', 'هم', 'از'), 152),\n",
       " (('را', 'که', 'می'), 152),\n",
       " (('الله', 'علیه', 'و'), 151),\n",
       " (('آمد', 'و', 'در'), 151),\n",
       " (('یک', 'لک', 'و'), 151),\n",
       " (('عهد', 'و', 'پیمان'), 151),\n",
       " (('پی', 'در', 'پی'), 151),\n",
       " (('فرود', 'آمد', 'و'), 151),\n",
       " (('که', 'با', 'این'), 151),\n",
       " (('و', 'جز', 'آن'), 151),\n",
       " (('چه', 'می', 'خواهی'), 151),\n",
       " (('من', 'او', 'را'), 151),\n",
       " (('چه', 'می', 'پرسی'), 151),\n",
       " (('نیست', 'ما', 'را'), 151),\n",
       " (('روز', 'سه', 'شنبه'), 150),\n",
       " (('چهار', 'هزار', 'سوار'), 150),\n",
       " (('پانصدی', 'ذات', 'بمنصب'), 150),\n",
       " (('که', 'دل', 'از'), 150),\n",
       " (('از', 'بهر', 'تو'), 150),\n",
       " (('می', 'برد', 'از'), 150),\n",
       " (('را', 'در', 'دل'), 150),\n",
       " (('که', 'جان', 'را'), 150),\n",
       " (('با', 'تو', 'در'), 150),\n",
       " (('تو', 'بر', 'من'), 150),\n",
       " (('ز', 'روی', 'تو'), 150),\n",
       " (('که', 'از', 'راه'), 149),\n",
       " (('گشت', 'و', 'از'), 149),\n",
       " (('خان', 'را', 'از'), 149),\n",
       " (('که', 'از', 'دست'), 149),\n",
       " (('هزاری', 'هشتصد', 'سوار'), 149),\n",
       " (('از', 'دست', 'رفت'), 149),\n",
       " (('پ', 'ولکتاره', 'و'), 149),\n",
       " (('و', 'دل', 'پر'), 149),\n",
       " (('که', 'از', 'خود'), 149),\n",
       " (('بوده', 'است', 'و'), 149),\n",
       " (('بس', 'که', 'در'), 149),\n",
       " (('او', 'را', 'چو'), 149),\n",
       " (('لب', 'لعل', 'تو'), 149),\n",
       " (('و', 'گنج', 'و'), 149),\n",
       " (('تو', 'را', 'بر'), 149),\n",
       " (('درد', 'و', 'رنج'), 149),\n",
       " (('گرفت', 'و', 'در'), 148),\n",
       " (('می', 'شد', 'و'), 148),\n",
       " (('رخت', 'هستی', 'بربست'), 148),\n",
       " (('در', 'کمتر', 'زمانی'), 148),\n",
       " (('در', 'آن', 'زمان'), 148),\n",
       " (('و', 'سال', 'بیست'), 148),\n",
       " (('تو', 'که', 'در'), 148),\n",
       " (('از', 'دو', 'جهان'), 148),\n",
       " (('جان', 'من', 'از'), 148),\n",
       " (('ه', 'علیه', 'و'), 148),\n",
       " (('آید', 'که', 'گفت'), 148),\n",
       " (('خلعت', 'و', 'خنجر'), 147),\n",
       " (('خویش', 'را', 'از'), 147),\n",
       " (('یک', 'هزار', 'و'), 147),\n",
       " (('می', 'کند', 'چون'), 147),\n",
       " (('و', 'درین', 'سال'), 147),\n",
       " (('و', 'جان', 'در'), 147),\n",
       " (('هزار', 'و', 'سی'), 146),\n",
       " (('دو', 'سه', 'روز'), 146),\n",
       " (('محمد', 'امین', 'خان'), 146),\n",
       " (('گل', 'و', 'لاله'), 146),\n",
       " (('بود', 'او', 'را'), 146),\n",
       " (('در', 'خرابات', 'مغان'), 146),\n",
       " (('روا', 'باشد', 'که'), 146),\n",
       " (('پیغمبر', 'علیه', 'الس'), 146),\n",
       " (('چنین', 'گفت', 'پس'), 146),\n",
       " (('که', 'در', 'عهد'), 145),\n",
       " (('هزار', 'و', 'چهل'), 145),\n",
       " (('بر', 'سر', 'آتش'), 145),\n",
       " (('تا', 'کی', 'ز'), 145),\n",
       " (('میر', 'جعفر', 'خان'), 145),\n",
       " (('که', 'در', 'ایام'), 144),\n",
       " (('سی', 'هزار', 'روپیه'), 144),\n",
       " (('بیست', 'هزار', 'روپیه'), 144),\n",
       " (('زین', 'مطلا', 'و'), 144),\n",
       " (('جست', 'و', 'جو'), 144),\n",
       " (('مهر', 'و', 'مه'), 144),\n",
       " (('پس', 'از', 'این'), 144),\n",
       " (('که', 'و', 'مه'), 144),\n",
       " (('تو', 'بر', 'سر'), 144),\n",
       " (('زیر', 'و', 'بم'), 144),\n",
       " (('مه', 'و', 'خورشید'), 144),\n",
       " (('من', 'که', 'از'), 144),\n",
       " (('مو', 'به', 'مو'), 144),\n",
       " (('شمس', 'الحق', 'تبریزی'), 144),\n",
       " (('بدو', 'گفت', 'بهرام'), 144),\n",
       " (('بیست', 'و', 'چهار'), 143),\n",
       " (('و', 'هر', 'یک'), 143),\n",
       " (('و', 'دل', 'در'), 143),\n",
       " (('از', 'آن', 'میان'), 143),\n",
       " (('با', 'فر', 'و'), 143),\n",
       " (('با', 'آن', 'که'), 143),\n",
       " (('می', 'دانی', 'که'), 143),\n",
       " (('زلف', 'تو', 'در'), 143),\n",
       " (('تا', 'به', 'روز'), 143),\n",
       " (('از', 'غم', 'تو'), 143),\n",
       " (('در', 'این', 'دریا'), 143),\n",
       " (('که', 'هر', 'چه'), 142),\n",
       " (('اهل', 'و', 'عیال'), 142),\n",
       " (('و', 'مال', 'و'), 142),\n",
       " (('قطب', 'الدین', 'خان'), 142),\n",
       " (('است', 'ما', 'را'), 142),\n",
       " (('چو', 'بشنید', 'این'), 142),\n",
       " (('چنین', 'گفت', 'کز'), 142),\n",
       " (('آمد', 'و', 'شد'), 141),\n",
       " (('و', 'هزار', 'و'), 141),\n",
       " (('و', 'بعنایت', 'خلعت'), 141),\n",
       " (('شرق', 'و', 'غرب'), 141),\n",
       " (('که', 'من', 'با'), 141),\n",
       " (('باشد', 'از', 'آن'), 141),\n",
       " (('مرا', 'با', 'تو'), 141),\n",
       " (('بر', 'سر', 'بازار'), 141),\n",
       " (('که', 'عبارت', 'از'), 140),\n",
       " (('سه', 'هزاری', 'هزار'), 140),\n",
       " (('سی', 'و', 'یکم'), 140),\n",
       " (('می', 'دان', 'که'), 140),\n",
       " (('که', 'هر', 'دم'), 140),\n",
       " (('صوری', 'و', 'معنوی'), 139),\n",
       " (('خبر', 'رسید', 'که'), 139),\n",
       " (('از', 'آن', 'بر'), 139),\n",
       " (('که', 'من', 'به'), 139),\n",
       " (('همی', 'گوید', 'که'), 139),\n",
       " (('آن', 'روزی', 'که'), 139),\n",
       " (('که', 'از', 'بهر'), 139),\n",
       " (('چه', 'می', 'جویی'), 139),\n",
       " (('خاصه', 'با', 'یراق'), 138),\n",
       " (('و', 'در', 'میان'), 138),\n",
       " (('سنگه', 'رات', 'ور'), 138),\n",
       " (('سوار', 'بمنصب', 'دو'), 138),\n",
       " (('کرد', 'و', 'گفت'), 138),\n",
       " (('چه', 'حاجت', 'است'), 138),\n",
       " (('ی', 'الل', 'ه'), 138),\n",
       " (('س', 'ک', 'ر'), 138),\n",
       " (('بود', 'و', 'این'), 137),\n",
       " (('شش', 'هزار', 'سوار'), 137),\n",
       " (('پنج', 'لک', 'روپیه'), 137),\n",
       " (('که', 'از', 'سر'), 137),\n",
       " (('را', 'که', 'بر'), 137),\n",
       " (('که', 'چون', 'من'), 137),\n",
       " (('و', 'غیر', 'آن'), 137),\n",
       " (('عقل', 'و', 'هوش'), 137),\n",
       " (('می', 'دانم', 'که'), 137),\n",
       " (('می', 'کند', 'بر'), 137),\n",
       " (('بر', 'در', 'او'), 137),\n",
       " (('در', 'این', 'معنی'), 137),\n",
       " (('از', 'بهر', 'آن'), 137),\n",
       " (('در', 'پای', 'تو'), 137),\n",
       " (('و', 'از', 'جمله'), 136),\n",
       " (('از', 'سنگ', 'مرمر'), 136),\n",
       " (('سی', 'و', 'دو'), 136),\n",
       " (('بسر', 'می', 'برد'), 136),\n",
       " (('محمد', 'شاه', 'شجاع'), 136),\n",
       " (('که', 'در', 'میان'), 136),\n",
       " (('و', 'هر', 'روز'), 136),\n",
       " (('و', 'سه', 'هزار'), 136),\n",
       " (('گیر', 'و', 'دار'), 136),\n",
       " (('نقش', 'و', 'نگار'), 136),\n",
       " (('در', 'خاک', 'و'), 136),\n",
       " (('را', 'که', 'با'), 136),\n",
       " (('و', 'تو', 'در'), 136),\n",
       " (('ز', 'گفتار', 'او'), 136),\n",
       " (('بر', 'روی', 'کار'), 135),\n",
       " (('پیش', 'از', 'آنکه'), 135),\n",
       " (('و', 'از', 'روی'), 135),\n",
       " (('هزاری', 'ششصد', 'سوار'), 135),\n",
       " (('و', 'یکی', 'از'), 135),\n",
       " (('از', 'پیشگاه', 'خلافت'), 135),\n",
       " (('و', 'عقل', 'و'), 135),\n",
       " (('می', 'رود', 'از'), 135),\n",
       " (('به', 'خون', 'دل'), 135),\n",
       " (('ز', 'جان', 'و'), 135),\n",
       " (('به', 'من', 'ده'), 135),\n",
       " (('و', 'اندر', 'این'), 135),\n",
       " (('دستوری', 'یافت', 'و'), 134),\n",
       " (('هزار', 'و', 'شصت'), 134),\n",
       " (('از', 'دست', 'و'), 134),\n",
       " (('که', 'دل', 'را'), 134),\n",
       " (('سر', 'و', 'پای'), 134),\n",
       " (('نیست', 'هر', 'که'), 134),\n",
       " (('خاک', 'پای', 'تو'), 134),\n",
       " (('گشت', 'و', 'چون'), 133),\n",
       " (('و', 'چندی', 'از'), 133),\n",
       " (('اند', 'و', 'از'), 133),\n",
       " (('گرم', 'و', 'سرد'), 133),\n",
       " (('پدید', 'آمد', 'و'), 133),\n",
       " (('است', 'که', 'آن'), 133),\n",
       " (('بود', 'و', 'چون'), 133),\n",
       " (('و', 'فیل', 'از'), 133),\n",
       " (('شد', 'از', 'آن'), 133),\n",
       " (('و', 'ملک', 'و'), 133),\n",
       " (('می', 'آید', 'از'), 133),\n",
       " (('و', 'سیم', 'و'), 133),\n",
       " (('در', 'میان', 'جان'), 133),\n",
       " (('سنه', 'یکهزار', 'و'), 133),\n",
       " (('میان', 'من', 'و'), 133),\n",
       " (('راجه', 'بیت', 'لداس'), 133),\n",
       " (('عقل', 'و', 'دین'), 133),\n",
       " (('علی', 'ابراهیم', 'خان'), 133),\n",
       " (('چه', 'سود', 'که'), 133),\n",
       " (('شود', 'هر', 'که'), 133),\n",
       " (('دین', 'و', 'دل'), 133),\n",
       " (('از', 'سر', 'نو'), 132),\n",
       " (('از', 'دیر', 'باز'), 132),\n",
       " (('و', 'برخی', 'از'), 132),\n",
       " (('مرصع', 'و', 'اسپ'), 132),\n",
       " (('باشد', 'و', 'از'), 132),\n",
       " (('دست', 'بر', 'سر'), 132),\n",
       " (('از', 'غم', 'و'), 132),\n",
       " (('می', 'شود', 'چون'), 132),\n",
       " (('پدید', 'آمد', 'از'), 132),\n",
       " (('را', 'که', 'ز'), 132),\n",
       " (('از', 'رنج', 'و'), 132),\n",
       " (('اندر', 'این', 'معنی'), 132),\n",
       " (('به', 'کوی', 'تو'), 132),\n",
       " (('در', 'غم', 'تو'), 132),\n",
       " (('و', 'گل', 'و'), 131),\n",
       " (('از', 'دور', 'سیوم'), 131),\n",
       " (('الل', 'ه', 'و'), 131),\n",
       " (('به', 'هر', 'کس'), 131),\n",
       " (('این', 'جهان', 'و'), 131),\n",
       " (('مر', 'ایشان', 'را'), 131),\n",
       " (('کرد', 'ما', 'را'), 131),\n",
       " (('چه', 'دانی', 'که'), 131),\n",
       " (('غیر', 'از', 'تو'), 131),\n",
       " (('تو', 'به', 'هر'), 131),\n",
       " (('پر', 'ز', 'درد'), 131),\n",
       " (('است', 'و', 'بر'), 130),\n",
       " (('چون', 'و', 'چرا'), 130),\n",
       " (('روی', 'زمین', 'را'), 130),\n",
       " (('شد', 'و', 'آن'), 130),\n",
       " (('را', 'از', 'دست'), 130),\n",
       " (('و', 'زر', 'و'), 130),\n",
       " (('و', 'از', 'این'), 130),\n",
       " (('این', 'زمان', 'در'), 130),\n",
       " (('عاشق', 'و', 'معشوق'), 130),\n",
       " (('و', 'دین', 'را'), 130),\n",
       " (('می', 'شود', 'هر'), 130),\n",
       " (('من', 'و', 'ما'), 130),\n",
       " (('از', 'بر', 'تخت'), 130),\n",
       " (('برو', 'آفرین', 'کرد'), 130),\n",
       " (('و', 'چون', 'این'), 129),\n",
       " (('بر', 'سر', 'دار'), 129),\n",
       " (('باضافه', 'پانصد', 'سوار'), 129),\n",
       " (('و', 'در', 'این'), 129),\n",
       " (('که', 'در', 'خانه'), 129),\n",
       " (('شاه', 'شجاع', 'بهادر'), 129),\n",
       " ...]"
      ]
     },
     "execution_count": 75,
     "metadata": {},
     "output_type": "execute_result"
    }
   ],
   "source": [
    "trigrams = nltk.ngrams(combined_toks, 3)\n",
    "tri_freq = nltk.FreqDist(trigrams)\n",
    "tri_freq.most_common()"
   ]
  },
  {
   "cell_type": "markdown",
   "metadata": {},
   "source": [
    "### Muchos-Grams"
   ]
  },
  {
   "cell_type": "code",
   "execution_count": 76,
   "metadata": {},
   "outputs": [
    {
     "data": {
      "text/plain": [
       "[(('از', 'اصل', 'و', 'اضافه', 'بمنصب'), 705),\n",
       " (('هزار', 'سوار', 'دواسپه', 'سه', 'اسپه'), 288),\n",
       " (('سوار', 'از', 'اصل', 'و', 'اضافه'), 244),\n",
       " (('هزار', 'و', 'پانصد', 'سوار', 'و'), 214),\n",
       " (('و', 'در', 'سال', 'بیست', 'و'), 207)]"
      ]
     },
     "execution_count": 76,
     "metadata": {},
     "output_type": "execute_result"
    }
   ],
   "source": [
    "muchos_grams = nltk.ngrams(combined_toks, 5)\n",
    "muchos_freq = nltk.FreqDist(muchos_grams)\n",
    "muchos_freq.most_common(5)"
   ]
  },
  {
   "cell_type": "markdown",
   "metadata": {},
   "source": [
    "### Conditional Frequency"
   ]
  },
  {
   "cell_type": "markdown",
   "metadata": {},
   "source": [
    "*Main Corpus*"
   ]
  },
  {
   "cell_type": "code",
   "execution_count": 77,
   "metadata": {},
   "outputs": [],
   "source": [
    "# ConditionalFreqDist() takes a list of pairs.\n",
    "# Generator variable uses itself up upon assignment, so need to recreate above\n",
    "\n",
    "bigrams_cfd = nltk.ngrams(combined_toks, 2)\n",
    "\n",
    "cfd = nltk.ConditionalFreqDist(bigrams_cfd)"
   ]
  },
  {
   "cell_type": "code",
   "execution_count": 78,
   "metadata": {},
   "outputs": [
    {
     "data": {
      "text/plain": [
       "[('سنگ', 10),\n",
       " ('و', 9),\n",
       " ('او', 8),\n",
       " ('پدر', 6),\n",
       " ('صدف', 5),\n",
       " ('گهر', 4),\n",
       " ('گوهر', 3),\n",
       " ('خاره', 3),\n",
       " ('می', 2),\n",
       " ('کان', 2),\n",
       " ('باز', 2),\n",
       " ('کرده', 2),\n",
       " ('روح', 2),\n",
       " ('خود', 2),\n",
       " ('همچون', 2)]"
      ]
     },
     "execution_count": 78,
     "metadata": {},
     "output_type": "execute_result"
    }
   ],
   "source": [
    "cfd['صلب'].most_common(15)"
   ]
  },
  {
   "cell_type": "markdown",
   "metadata": {},
   "source": [
    "#### Third word, if first two words known"
   ]
  },
  {
   "cell_type": "code",
   "execution_count": 24,
   "metadata": {},
   "outputs": [],
   "source": [
    "tri0 = nltk.ngrams(combined_toks, 3)\n",
    "tri1 = [((a, b), c) for (a, b, c) in tri0]\n",
    "cfd1 = nltk.ConditionalFreqDist(tri1)"
   ]
  },
  {
   "cell_type": "code",
   "execution_count": 25,
   "metadata": {},
   "outputs": [
    {
     "data": {
      "text/plain": [
       "FreqDist({'سلاله': 1})"
      ]
     },
     "execution_count": 25,
     "metadata": {},
     "output_type": "execute_result"
    }
   ],
   "source": [
    "cfd1[(\"خاندان\",\"صلب\")]"
   ]
  },
  {
   "cell_type": "markdown",
   "metadata": {},
   "source": [
    "#### Reversed conditional frequency, i.e. if second word in sequence known but not first"
   ]
  },
  {
   "cell_type": "code",
   "execution_count": 26,
   "metadata": {},
   "outputs": [
    {
     "data": {
      "text/plain": [
       "[('آن', 1), ('سلامه', 1), ('صلب', 1)]"
      ]
     },
     "execution_count": 26,
     "metadata": {},
     "output_type": "execute_result"
    }
   ],
   "source": [
    "bi0 = nltk.ngrams(combined_toks, 2)\n",
    "bir = [(b, a) for (a, b) in bi0]\n",
    "cfdr = nltk.ConditionalFreqDist(bir)\n",
    "\n",
    "cfdr[\"سلاله\"].most_common(15)"
   ]
  },
  {
   "cell_type": "markdown",
   "metadata": {},
   "source": [
    "### Concordance"
   ]
  },
  {
   "cell_type": "markdown",
   "metadata": {},
   "source": [
    "#### Simple Concofdance"
   ]
  },
  {
   "cell_type": "code",
   "execution_count": 27,
   "metadata": {},
   "outputs": [
    {
     "name": "stdout",
     "output_type": "stream",
     "text": [
      "Displaying 25 of 25 matches:\n",
      "گردیده بوطن خود در ده بید قرار گرفتند لمات عتاب آمیز از طرف پادشاه بگوش آن ول عا\n",
      "ینگ ه هاشم هندو یاجوج یوز یوزیه فهرست لمات و اصطلاحات ا اتالیق اردو ازان اشترخان\n",
      "ره دهم چهاروم القرآن ال ریم تقریر این لمات در نسخه موجود نیست امام رض الله عنه ج\n",
      "مش وا الانوار در شرح نمودم وجب له این لمات در نسخه موجود نیست علیهم عشرت ثقاب ال\n",
      "رآن ال ریم مردوم عالم و علما سودا این لمات در نسخه ها موجود نیست خودشان خودم تلق\n",
      "م مصدع القرآن ال ریم گزرانیده رده این لمات در نسخه موجود نیست داده مینمود سال ه \n",
      "روف زیر زبررا مرد رخساره سبت مینه این لمات در نسخه ها موجود نیست ازاررا پا تعلیم\n",
      "ه مادرم بخانه ما بر وجه تخلق الله این لمات در نسخه ها موجود نیست این لمات در نسخ\n",
      "له این لمات در نسخه ها موجود نیست این لمات در نسخه ها موجود نیست ایشی باش متولدا\n",
      "مصراعها بیت اخیر عوض شده است انها این لمات در نسخه ها موجود نیست ایشی باش ا رام \n",
      "رام و احترام القرآن ال ریم دری تل این لمات در نسخه موجود نیست این لمات در نسخه ه\n",
      "ری تل این لمات در نسخه موجود نیست این لمات در نسخه ها موجود نیست ارم بجای موجود \n",
      "ها موجود نیست ارم بجای موجود نیست این لمات در نسخه تبر حظ اظهار محبت داشته با حف\n",
      "وبات اصتبارش احتبآش نیز ان با پدر این لمات در نسخه موجود نیست شقاوت بردن از راه \n",
      "ن ال ریم نزل بپا بوسد در تلتف قدر این لمات در نسخه موجود نیست بجواهر قبضه ویلایت\n",
      "وجود نیست بجواهر قبضه ویلایت م تب این لمات در نسخه موجود نیست و هو الفرید دهر مح\n",
      "یز همه باجمعهم محقر القرآن ال ریم این لمات در نسخه موجود نیست القرآن ال ریم القر\n",
      " چرا ب ادبانه ب ادبانه سخن مینمای این لمات در نسخه موجود نیست عن بود از ریش حالت\n",
      "از ریش حالت مردان محو دین م نمودم این لمات در نسخه موجود نیست از سر هر مو زبان ا\n",
      " نسخه موجود نیست از سر هر مو زبان این لمات در نسخه موجود نیست بخارا شریف بمناصب \n",
      "یخت املا سغر ازین دار در بیرون خا این لمات در نسخه ها موجود نیست اولادشان حضرت ا\n",
      "اثنا مصافحه معرفت شده مقهوم وجوآب این لمات در نسخه ها موجود نیست ثان و بسو ل حرو\n",
      "خه ها موجود نیست ثان و بسو ل حروف این لمات در نسخه ها موجود نیست من امروز در بود\n",
      "د نیست من امروز در بودن است امثال این لمات در نسخه ها موجود نیست ذ ر جناب حضرت ا\n",
      "جناب حضرت ایشان قاسم خواجه نمودند این لمات در نسخه موجود نیست ذ ر جناب حضرت ایشا\n"
     ]
    }
   ],
   "source": [
    "# for whatever reason you can't just use the concordance method on a string;\n",
    "# you have to convert it to an NLTK Text type one way or another\n",
    "\n",
    "trans_corpus = nltk.Text(combined_toks)\n",
    "\n",
    "trans_corpus.concordance('لمات')"
   ]
  },
  {
   "cell_type": "markdown",
   "metadata": {},
   "source": [
    "#### Regex Concordance"
   ]
  },
  {
   "cell_type": "markdown",
   "metadata": {},
   "source": [
    "*Tokens in corpus regex matching the string:*"
   ]
  },
  {
   "cell_type": "code",
   "execution_count": 108,
   "metadata": {},
   "outputs": [
    {
     "data": {
      "text/plain": [
       "['دیوخویان', 'خوشخویی', 'گرمخویی', 'تندخویی', 'گرگخویی']"
      ]
     },
     "execution_count": 108,
     "metadata": {},
     "output_type": "execute_result"
    }
   ],
   "source": [
    "toks = [x for x in combo_freq if re.match(r'...خوی', x)]\n",
    "toks[:5]"
   ]
  },
  {
   "cell_type": "markdown",
   "metadata": {},
   "source": [
    "*Concordance of the entered string*"
   ]
  },
  {
   "cell_type": "code",
   "execution_count": 29,
   "metadata": {},
   "outputs": [
    {
     "name": "stdout",
     "output_type": "stream",
     "text": [
      "قوفش وافر و کثیر الطرب و عالیمشرب و خوشخوی و بذله گوی و سخندان و شیرین زبان بو\n",
      "لص به اسلم کم سخن خوش گوی خلوت نشین خوشخوی مستد ل دلایل وحدانیت مستفید خصایل ف\n",
      "بشاشت و خوشگویی و ضیای محفل مسر ت و خوشخویی منصوب بمنصب تدریس و افتا دار الفاخر\n",
      "سیده اند سی و هفتم اخوند داملا طاهر اندخوی و ایشان فی سبیل الله مال و جان فدا \n",
      " بسیار خذمتها کرده اند و ایشان ص در اندخوی بسجاده شیخی نشسته اند سی و هشتم خلی\n",
      "خینه ریش سیاه میانه قد ولد رحیم بای اندخوی همگی و تمامی سکینات چهار باب دوکان \n",
      "ه از برای تحصیل علوم دینیه از ولایت اندخوی آمده در بخارای شریف استقامت کرده تح\n",
      "ت یکماه بسیار تر شد که از طرف ولایت اندخوی و اقچه نرسیده بکرکی آدم نمی اید تا \n"
     ]
    }
   ],
   "source": [
    "conc0 = sum([trans_corpus.concordance_list(x) for x in toks], [])\n",
    "conc1 = [c.line for c in conc0]\n",
    "print('\\n'.join(conc1))"
   ]
  },
  {
   "cell_type": "markdown",
   "metadata": {},
   "source": [
    "## Custom Concordance"
   ]
  },
  {
   "cell_type": "code",
   "execution_count": 79,
   "metadata": {},
   "outputs": [],
   "source": [
    "five_grams = nltk.ngrams(doc_toks, 5)"
   ]
  },
  {
   "cell_type": "code",
   "execution_count": 104,
   "metadata": {},
   "outputs": [
    {
     "data": {
      "text/plain": [
       "True"
      ]
     },
     "execution_count": 104,
     "metadata": {},
     "output_type": "execute_result"
    }
   ],
   "source": [
    "five_grams = list(five_grams)\n",
    "five_grams[5][2] == \"پانصد\""
   ]
  },
  {
   "cell_type": "code",
   "execution_count": 105,
   "metadata": {},
   "outputs": [
    {
     "ename": "TypeError",
     "evalue": "list indices must be integers or slices, not tuple",
     "output_type": "error",
     "traceback": [
      "\u001b[0;31m---------------------------------------------------------------------------\u001b[0m",
      "\u001b[0;31mTypeError\u001b[0m                                 Traceback (most recent call last)",
      "\u001b[0;32m<ipython-input-105-b3c73e5d5f7a>\u001b[0m in \u001b[0;36m<module>\u001b[0;34m()\u001b[0m\n\u001b[0;32m----> 1\u001b[0;31m \u001b[0msearch_toks\u001b[0m \u001b[0;34m=\u001b[0m \u001b[0;34m[\u001b[0m\u001b[0mx\u001b[0m \u001b[0;32mfor\u001b[0m \u001b[0mx\u001b[0m \u001b[0;32min\u001b[0m \u001b[0mfive_grams\u001b[0m \u001b[0;32mif\u001b[0m \u001b[0mfive_grams\u001b[0m\u001b[0;34m[\u001b[0m\u001b[0mx\u001b[0m\u001b[0;34m]\u001b[0m\u001b[0;34m[\u001b[0m\u001b[0;36m2\u001b[0m\u001b[0;34m]\u001b[0m \u001b[0;32mis\u001b[0m \u001b[0;34m\"پانصد\"\u001b[0m\u001b[0;34m]\u001b[0m\u001b[0;34m\u001b[0m\u001b[0m\n\u001b[0m",
      "\u001b[0;32m<ipython-input-105-b3c73e5d5f7a>\u001b[0m in \u001b[0;36m<listcomp>\u001b[0;34m(.0)\u001b[0m\n\u001b[0;32m----> 1\u001b[0;31m \u001b[0msearch_toks\u001b[0m \u001b[0;34m=\u001b[0m \u001b[0;34m[\u001b[0m\u001b[0mx\u001b[0m \u001b[0;32mfor\u001b[0m \u001b[0mx\u001b[0m \u001b[0;32min\u001b[0m \u001b[0mfive_grams\u001b[0m \u001b[0;32mif\u001b[0m \u001b[0mfive_grams\u001b[0m\u001b[0;34m[\u001b[0m\u001b[0mx\u001b[0m\u001b[0;34m]\u001b[0m\u001b[0;34m[\u001b[0m\u001b[0;36m2\u001b[0m\u001b[0;34m]\u001b[0m \u001b[0;32mis\u001b[0m \u001b[0;34m\"پانصد\"\u001b[0m\u001b[0;34m]\u001b[0m\u001b[0;34m\u001b[0m\u001b[0m\n\u001b[0m",
      "\u001b[0;31mTypeError\u001b[0m: list indices must be integers or slices, not tuple"
     ]
    }
   ],
   "source": [
    "search_toks = [x for x in five_grams if five_grams[x][2] is \"پانصد\"]"
   ]
  },
  {
   "cell_type": "code",
   "execution_count": 99,
   "metadata": {},
   "outputs": [
    {
     "data": {
      "text/plain": [
       "[]"
      ]
     },
     "execution_count": 99,
     "metadata": {},
     "output_type": "execute_result"
    }
   ],
   "source": [
    "search_toks[:5]"
   ]
  },
  {
   "cell_type": "code",
   "execution_count": null,
   "metadata": {},
   "outputs": [],
   "source": []
  }
 ],
 "metadata": {
  "kernelspec": {
   "display_name": "Python 3",
   "language": "python",
   "name": "python3"
  },
  "language_info": {
   "codemirror_mode": {
    "name": "ipython",
    "version": 3
   },
   "file_extension": ".py",
   "mimetype": "text/x-python",
   "name": "python",
   "nbconvert_exporter": "python",
   "pygments_lexer": "ipython3",
   "version": "3.6.5"
  }
 },
 "nbformat": 4,
 "nbformat_minor": 2
}

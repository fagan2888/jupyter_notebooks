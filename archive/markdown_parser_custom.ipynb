{
 "cells": [
  {
   "cell_type": "markdown",
   "metadata": {},
   "source": [
    "### Libraries"
   ]
  },
  {
   "cell_type": "code",
   "execution_count": 27,
   "metadata": {},
   "outputs": [],
   "source": [
    "import re"
   ]
  },
  {
   "cell_type": "markdown",
   "metadata": {},
   "source": [
    "### Access File"
   ]
  },
  {
   "cell_type": "code",
   "execution_count": 28,
   "metadata": {},
   "outputs": [],
   "source": [
    "file_name = 'ser560.md'\n",
    "\n",
    "f = open(file_name)\n",
    "text_lines = f.readlines()\n",
    "f.close()\n"
   ]
  },
  {
   "cell_type": "markdown",
   "metadata": {},
   "source": [
    "## Parsing"
   ]
  },
  {
   "cell_type": "markdown",
   "metadata": {},
   "source": [
    "### Metadata"
   ]
  },
  {
   "cell_type": "code",
   "execution_count": 29,
   "metadata": {},
   "outputs": [],
   "source": [
    "# Currently most metadata for each document is stored in relational database.\n",
    "\n",
    "text_lines.insert(0, '<document>')\n",
    "text_lines.insert(1, '\\t<metadata>')\n",
    "\n",
    "doc_serial = ''\n",
    "for x in file_name:\n",
    "    if x.isdigit():\n",
    "        doc_serial = doc_serial + x\n",
    "        \n",
    "text_lines.insert(2, '\\t\\t<unique_id>' + doc_serial + '</unique_id>')\n",
    "text_lines.insert(3, '\\t</metadata>')\n",
    "text_lines.insert(4, '<body>')"
   ]
  },
  {
   "cell_type": "markdown",
   "metadata": {},
   "source": [
    "### Body Text"
   ]
  },
  {
   "cell_type": "code",
   "execution_count": 30,
   "metadata": {},
   "outputs": [],
   "source": [
    "# Section breaks (----)\n",
    "\n",
    "new_lines = ['\\t<div>' if '----' in x else x for x in text_lines]        \n",
    "\n",
    "# Pull individual lines marked with '-', wrap with <li> XML tag.\n",
    "\n",
    "new_lines = [re.sub (r'^\\- (.*)$', r'\\t\\t<li>\\1</li>', x.lstrip()) for x in new_lines]\n",
    "\n",
    "\n",
    "# Wraps the asterisked problem notes with <flag> element.\n",
    "\n",
    "new_lines = [re.sub (r'(\\*.*\\*)', r'<flag>\\1</flag>', x.lstrip()) for x in new_lines]\n",
    "new_lines = [re.sub (r'\\*', r'', x.lstrip()) for x in new_lines]\n",
    "\n",
    "\n",
    "# Deals with comments\n",
    "\n",
    "new_lines = [re.sub (r'^> (.*)$', r'<!--\\1-->', x.lstrip()) for x in new_lines]\n",
    "\n",
    "\n",
    "# Closing\n",
    "\n",
    "new_lines.append('\\t</body>')\n",
    "new_lines.append('</document>')\n"
   ]
  },
  {
   "cell_type": "code",
   "execution_count": 31,
   "metadata": {},
   "outputs": [],
   "source": [
    "raw_text = '\\n'.join(new_lines)"
   ]
  },
  {
   "cell_type": "code",
   "execution_count": 32,
   "metadata": {},
   "outputs": [
    {
     "name": "stdout",
     "output_type": "stream",
     "text": [
      "<document>\n",
      "<metadata>\n",
      "<unique_id>560</unique_id>\n",
      "</metadata>\n",
      "<body>\n",
      "<div>\n",
      "\n",
      "<!--Model MarkDown document with new schema.-->\n",
      "\n",
      "\n",
      "# \n",
      "\n",
      "\n",
      "\\#\\# \n",
      "\n",
      "<!--top marginalia-->\n",
      "\n",
      "\n",
      "<li>جناب <flag>عالیحضرتمولایم</flag> الله ظله</li>\n",
      "\n",
      "<li>جناب شریعت و شرافت امارت و وزارتپناهان</li>\n",
      "\n",
      "<li>دام عافیتکم</li>\n",
      "\n",
      "\n",
      "\\#\\# \n",
      "\n",
      "<!--vertical section-->\n",
      "\n",
      "<!--beginning of honorific section-->\n",
      "\n",
      "\n",
      "<li>روزی و نصیب آنشریعت و شرافت و وزارتپناهان</li>\n",
      "\n",
      "<li>رفعت و منزلت جایگاهان دولت و حکومت و دستگاهان</li>\n",
      "\n",
      "<li>بوده باد بعد از اظهار مراهم دعا بوده میدارت که</li>\n",
      "\n",
      "<li>الله الحمد و المنه بمهربانی و شرفدولت خداداد ؟ مراتب حالات</li>\n",
      "\n",
      "<li>قرین شکر و رضا بوده همواره سلامتی و تعالی</li>\n",
      "\n",
      "<li>و عافیت مندی آنمرحمت پناهان مراعات</li>\n",
      "\n",
      "\n",
      "\\#\\# \n",
      "\n",
      "<!--diagonal right section-->\n",
      "\n",
      "\n",
      "<li>بقیه السلام آنکه </li>\n",
      "\n",
      "<li>آصف <flag>مقامانا</flag> چنانچه مهربانی خداندی</li>\n",
      "\n",
      "<li>در کف های دعای از تحت رکوبی چیزی برامده همرنگ بدن ورم کرده </li>\n",
      "\n",
      "<!--beginning of content-->\n",
      "\n",
      "<li>مدت دوازده روز میشود که از پای ما مانده است که جنبانیده تا بواسته خواب گردیم</li>\n",
      "\n",
      "<li>چندین حکیمها آمده دیده <flag>پاسخ</flag> علاجی کرده نتوانستند عین وقت خدمت دولتخانه عالی</li>\n",
      "\n",
      "<li>میباشد بنابران بخذمت ذی شفرها شان ؟ ؟ ؟ شد که اگر مهربانی نموده</li>\n",
      "\n",
      "<li>دختور را فرستانند آمده بیند شاید که خداوند عالی او را بشرف دعا و توجه جنابهاشان</li>\n",
      "\n",
      "<li>؟ گردانیده دعای از ایندرو عافیت یافته زود تر در بالالی خذمت دولتخانه برایم</li>\n",
      "\n",
      "<li>دیگر بدعا بوده از دعای اجابت قرینها شان امیدواریست زیاده آیام بکام ؟ دولت مدام باد باقی</li>\n",
      "\n",
      "<li>السلام و الاکرام</li>\n",
      "\t</body>\n",
      "</document>\n"
     ]
    }
   ],
   "source": [
    "print (raw_text)"
   ]
  },
  {
   "cell_type": "markdown",
   "metadata": {},
   "source": [
    "### Write Output File"
   ]
  },
  {
   "cell_type": "code",
   "execution_count": 33,
   "metadata": {},
   "outputs": [],
   "source": [
    "outfile = open('parser_output.txt', 'w')\n",
    "outfile.write(raw_text)\n",
    "outfile.close()"
   ]
  }
 ],
 "metadata": {
  "kernelspec": {
   "display_name": "Python 3",
   "language": "python",
   "name": "python3"
  },
  "language_info": {
   "codemirror_mode": {
    "name": "ipython",
    "version": 3
   },
   "file_extension": ".py",
   "mimetype": "text/x-python",
   "name": "python",
   "nbconvert_exporter": "python",
   "pygments_lexer": "ipython3",
   "version": "3.6.5"
  }
 },
 "nbformat": 4,
 "nbformat_minor": 2
}

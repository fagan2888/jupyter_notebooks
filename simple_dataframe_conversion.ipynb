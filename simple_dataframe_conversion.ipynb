{
 "cells": [
  {
   "cell_type": "code",
   "execution_count": 117,
   "metadata": {},
   "outputs": [],
   "source": [
    "import numpy as np\n",
    "import pandas as pd\n",
    "\n",
    "from pandas import DataFrame, Series"
   ]
  },
  {
   "cell_type": "code",
   "execution_count": 118,
   "metadata": {},
   "outputs": [],
   "source": [
    "# Set some pandas options\n",
    "pd.set_option('display.notebook_repr_html', True)\n",
    "pd.set_option('display.max_columns', 1000)\n",
    "pd.set_option('display.max_rows', 1000)"
   ]
  },
  {
   "cell_type": "markdown",
   "metadata": {},
   "source": [
    "### Reading in Data"
   ]
  },
  {
   "cell_type": "code",
   "execution_count": 119,
   "metadata": {},
   "outputs": [],
   "source": [
    "coords = pd.read_csv('data/all_coordinates_loc-names.csv', names=['Loc_ID', \\\n",
    "                                                'Lat_Y', 'Long_X', 'Nickname', 'Fullname', 'Entry_UID'])"
   ]
  },
  {
   "cell_type": "code",
   "execution_count": 120,
   "metadata": {},
   "outputs": [],
   "source": [
    "population = pd.read_csv('data/gul_population.csv', names=['Loc_ID', 'Type', 'Value'])"
   ]
  },
  {
   "cell_type": "code",
   "execution_count": 121,
   "metadata": {},
   "outputs": [],
   "source": [
    "mosques = pd.read_csv('data/gul_mosques.csv', names=['Loc_ID', 'Type', 'Value', 'Entry_UID'])"
   ]
  },
  {
   "cell_type": "code",
   "execution_count": 136,
   "metadata": {},
   "outputs": [],
   "source": [
    "sufi = pd.read_csv('data/gul_sufi.csv', names=['Loc_ID', 'Type', 'Value', 'Entry_UID'])"
   ]
  },
  {
   "cell_type": "code",
   "execution_count": 133,
   "metadata": {},
   "outputs": [
    {
     "data": {
      "text/html": [
       "<div>\n",
       "<style scoped>\n",
       "    .dataframe tbody tr th:only-of-type {\n",
       "        vertical-align: middle;\n",
       "    }\n",
       "\n",
       "    .dataframe tbody tr th {\n",
       "        vertical-align: top;\n",
       "    }\n",
       "\n",
       "    .dataframe thead th {\n",
       "        text-align: right;\n",
       "    }\n",
       "</style>\n",
       "<table border=\"1\" class=\"dataframe\">\n",
       "  <thead>\n",
       "    <tr style=\"text-align: right;\">\n",
       "      <th></th>\n",
       "      <th>Loc_ID</th>\n",
       "      <th>Type</th>\n",
       "      <th>Value</th>\n",
       "      <th>Entry_UID</th>\n",
       "    </tr>\n",
       "  </thead>\n",
       "  <tbody>\n",
       "    <tr>\n",
       "      <th>0</th>\n",
       "      <td>3</td>\n",
       "      <td>sufi_lodges_contained</td>\n",
       "      <td>17</td>\n",
       "      <td>42</td>\n",
       "    </tr>\n",
       "    <tr>\n",
       "      <th>1</th>\n",
       "      <td>54</td>\n",
       "      <td>sufi_lodges_contained</td>\n",
       "      <td>17</td>\n",
       "      <td>50</td>\n",
       "    </tr>\n",
       "    <tr>\n",
       "      <th>2</th>\n",
       "      <td>55</td>\n",
       "      <td>sufi_lodges_contained</td>\n",
       "      <td>418</td>\n",
       "      <td>52</td>\n",
       "    </tr>\n",
       "    <tr>\n",
       "      <th>3</th>\n",
       "      <td>47</td>\n",
       "      <td>sufi_lodges_contained</td>\n",
       "      <td>8</td>\n",
       "      <td>102</td>\n",
       "    </tr>\n",
       "    <tr>\n",
       "      <th>4</th>\n",
       "      <td>308</td>\n",
       "      <td>sufi_lodges_contained</td>\n",
       "      <td>1</td>\n",
       "      <td>107</td>\n",
       "    </tr>\n",
       "  </tbody>\n",
       "</table>\n",
       "</div>"
      ],
      "text/plain": [
       "   Loc_ID                   Type  Value  Entry_UID\n",
       "0       3  sufi_lodges_contained     17         42\n",
       "1      54  sufi_lodges_contained     17         50\n",
       "2      55  sufi_lodges_contained    418         52\n",
       "3      47  sufi_lodges_contained      8        102\n",
       "4     308  sufi_lodges_contained      1        107"
      ]
     },
     "execution_count": 133,
     "metadata": {},
     "output_type": "execute_result"
    }
   ],
   "source": [
    "sufi.head()"
   ]
  },
  {
   "cell_type": "markdown",
   "metadata": {},
   "source": [
    "### Merging Data"
   ]
  },
  {
   "cell_type": "code",
   "execution_count": 137,
   "metadata": {},
   "outputs": [],
   "source": [
    "pop_merge = pd.merge(population, coords, on = \"Loc_ID\")\n",
    "mosques_merge = pd.merge(mosques, coords, on = \"Loc_ID\")\n",
    "sufi_merge = pd.merge(sufi, coords, on = \"Loc_ID\")"
   ]
  },
  {
   "cell_type": "code",
   "execution_count": 138,
   "metadata": {},
   "outputs": [
    {
     "data": {
      "text/html": [
       "<div>\n",
       "<style scoped>\n",
       "    .dataframe tbody tr th:only-of-type {\n",
       "        vertical-align: middle;\n",
       "    }\n",
       "\n",
       "    .dataframe tbody tr th {\n",
       "        vertical-align: top;\n",
       "    }\n",
       "\n",
       "    .dataframe thead th {\n",
       "        text-align: right;\n",
       "    }\n",
       "</style>\n",
       "<table border=\"1\" class=\"dataframe\">\n",
       "  <thead>\n",
       "    <tr style=\"text-align: right;\">\n",
       "      <th></th>\n",
       "      <th>Loc_ID</th>\n",
       "      <th>Type</th>\n",
       "      <th>Value</th>\n",
       "      <th>Entry_UID_x</th>\n",
       "      <th>Lat_Y</th>\n",
       "      <th>Long_X</th>\n",
       "      <th>Nickname</th>\n",
       "      <th>Fullname</th>\n",
       "      <th>Entry_UID_y</th>\n",
       "    </tr>\n",
       "  </thead>\n",
       "  <tbody>\n",
       "    <tr>\n",
       "      <th>0</th>\n",
       "      <td>3</td>\n",
       "      <td>sufi_lodges_contained</td>\n",
       "      <td>17</td>\n",
       "      <td>42</td>\n",
       "      <td>39.776910</td>\n",
       "      <td>64.413150</td>\n",
       "      <td>Bukhara</td>\n",
       "      <td>Bukhāra (city)</td>\n",
       "      <td>9001</td>\n",
       "    </tr>\n",
       "    <tr>\n",
       "      <th>1</th>\n",
       "      <td>47</td>\n",
       "      <td>sufi_lodges_contained</td>\n",
       "      <td>8</td>\n",
       "      <td>102</td>\n",
       "      <td>39.502778</td>\n",
       "      <td>63.855556</td>\n",
       "      <td>Qarakol</td>\n",
       "      <td>Qarākūl\u000b",
       "Qorako‘l</td>\n",
       "      <td>313</td>\n",
       "    </tr>\n",
       "    <tr>\n",
       "      <th>2</th>\n",
       "      <td>48</td>\n",
       "      <td>sufi_lodges_contained</td>\n",
       "      <td>12</td>\n",
       "      <td>3301</td>\n",
       "      <td>40.033333</td>\n",
       "      <td>64.516667</td>\n",
       "      <td>Wabkand</td>\n",
       "      <td>Wābkand\u000b",
       "Kāmāt</td>\n",
       "      <td>314</td>\n",
       "    </tr>\n",
       "    <tr>\n",
       "      <th>3</th>\n",
       "      <td>49</td>\n",
       "      <td>sufi_lodges_contained</td>\n",
       "      <td>8</td>\n",
       "      <td>3311</td>\n",
       "      <td>40.050000</td>\n",
       "      <td>64.533330</td>\n",
       "      <td>Pirmast</td>\n",
       "      <td>Pīrmast</td>\n",
       "      <td>1738</td>\n",
       "    </tr>\n",
       "    <tr>\n",
       "      <th>4</th>\n",
       "      <td>51</td>\n",
       "      <td>sufi_lodges_contained</td>\n",
       "      <td>12</td>\n",
       "      <td>3317</td>\n",
       "      <td>39.933333</td>\n",
       "      <td>64.383333</td>\n",
       "      <td>Ramitan</td>\n",
       "      <td>Rāmītan\u000b",
       "Sāmjan</td>\n",
       "      <td>1740</td>\n",
       "    </tr>\n",
       "    <tr>\n",
       "      <th>5</th>\n",
       "      <td>50</td>\n",
       "      <td>sufi_lodges_contained</td>\n",
       "      <td>9</td>\n",
       "      <td>3321</td>\n",
       "      <td>40.116667</td>\n",
       "      <td>64.500000</td>\n",
       "      <td>Shafirkam</td>\n",
       "      <td>Shāfirkām\u000b",
       "Wardānzah\u000b",
       "Shāpūrkām</td>\n",
       "      <td>1739</td>\n",
       "    </tr>\n",
       "    <tr>\n",
       "      <th>6</th>\n",
       "      <td>409</td>\n",
       "      <td>sufi_lodges_contained</td>\n",
       "      <td>12</td>\n",
       "      <td>3326</td>\n",
       "      <td>40.084444</td>\n",
       "      <td>65.379167</td>\n",
       "      <td>Karmina</td>\n",
       "      <td>Karmina (Province)</td>\n",
       "      <td>3327</td>\n",
       "    </tr>\n",
       "  </tbody>\n",
       "</table>\n",
       "</div>"
      ],
      "text/plain": [
       "   Loc_ID                   Type  Value  Entry_UID_x      Lat_Y     Long_X  \\\n",
       "0       3  sufi_lodges_contained     17           42  39.776910  64.413150   \n",
       "1      47  sufi_lodges_contained      8          102  39.502778  63.855556   \n",
       "2      48  sufi_lodges_contained     12         3301  40.033333  64.516667   \n",
       "3      49  sufi_lodges_contained      8         3311  40.050000  64.533330   \n",
       "4      51  sufi_lodges_contained     12         3317  39.933333  64.383333   \n",
       "5      50  sufi_lodges_contained      9         3321  40.116667  64.500000   \n",
       "6     409  sufi_lodges_contained     12         3326  40.084444  65.379167   \n",
       "\n",
       "    Nickname                       Fullname  Entry_UID_y  \n",
       "0    Bukhara                 Bukhāra (city)         9001  \n",
       "1    Qarakol               Qarākūl\n",
       "Qorako‘l          313  \n",
       "2    Wabkand                  Wābkand\n",
       "Kāmāt          314  \n",
       "3    Pirmast                        Pīrmast         1738  \n",
       "4    Ramitan                 Rāmītan\n",
       "Sāmjan         1740  \n",
       "5  Shafirkam  Shāfirkām\n",
       "Wardānzah\n",
       "Shāpūrkām         1739  \n",
       "6    Karmina             Karmina (Province)         3327  "
      ]
     },
     "execution_count": 138,
     "metadata": {},
     "output_type": "execute_result"
    }
   ],
   "source": [
    "sufi_merge"
   ]
  },
  {
   "cell_type": "markdown",
   "metadata": {},
   "source": [
    "### Exporting Data"
   ]
  },
  {
   "cell_type": "code",
   "execution_count": 125,
   "metadata": {},
   "outputs": [],
   "source": [
    "#Multiple full-names on separate lines gets messed up in export.\n",
    "del pop_merge['Fullname']\n",
    "del mosques_merge['Fullname']\n",
    "del sufi_merge['Fullname']\n",
    "\n"
   ]
  },
  {
   "cell_type": "code",
   "execution_count": 139,
   "metadata": {},
   "outputs": [],
   "source": [
    "pop_merge.to_csv(\"exported_data/gulshani_population.csv\")\n",
    "mosques_merge.to_csv(\"exported_data/gulshani_mosques.csv\")\n",
    "sufi_merge.to_csv(\"exported_data/gulshani_sufi.csv\")"
   ]
  },
  {
   "cell_type": "code",
   "execution_count": null,
   "metadata": {},
   "outputs": [],
   "source": []
  }
 ],
 "metadata": {
  "kernelspec": {
   "display_name": "Python 3",
   "language": "python",
   "name": "python3"
  },
  "language_info": {
   "codemirror_mode": {
    "name": "ipython",
    "version": 3
   },
   "file_extension": ".py",
   "mimetype": "text/x-python",
   "name": "python",
   "nbconvert_exporter": "python",
   "pygments_lexer": "ipython3",
   "version": "3.7.2"
  }
 },
 "nbformat": 4,
 "nbformat_minor": 2
}

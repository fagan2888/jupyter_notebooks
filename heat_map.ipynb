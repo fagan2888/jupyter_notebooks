{
 "cells": [
  {
   "cell_type": "code",
   "execution_count": 2,
   "metadata": {},
   "outputs": [],
   "source": [
    "%matplotlib inline"
   ]
  },
  {
   "cell_type": "code",
   "execution_count": 3,
   "metadata": {},
   "outputs": [],
   "source": [
    "import geopandas, geoplot\n",
    "import pandas as pd\n",
    "\n",
    "from pandas import DataFrame, Series\n",
    "\n",
    "from shapely.geometry import Point\n",
    "import matplotlib.pyplot as plt"
   ]
  },
  {
   "cell_type": "code",
   "execution_count": 4,
   "metadata": {},
   "outputs": [],
   "source": [
    "itineraries = pd.read_csv('itineraries.csv', names=['trip_id', 'ind_id', 'loc_id'])"
   ]
  },
  {
   "cell_type": "code",
   "execution_count": 5,
   "metadata": {},
   "outputs": [
    {
     "data": {
      "text/html": [
       "<div>\n",
       "<style scoped>\n",
       "    .dataframe tbody tr th:only-of-type {\n",
       "        vertical-align: middle;\n",
       "    }\n",
       "\n",
       "    .dataframe tbody tr th {\n",
       "        vertical-align: top;\n",
       "    }\n",
       "\n",
       "    .dataframe thead th {\n",
       "        text-align: right;\n",
       "    }\n",
       "</style>\n",
       "<table border=\"1\" class=\"dataframe\">\n",
       "  <thead>\n",
       "    <tr style=\"text-align: right;\">\n",
       "      <th></th>\n",
       "      <th>trip_id</th>\n",
       "      <th>ind_id</th>\n",
       "      <th>loc_id</th>\n",
       "    </tr>\n",
       "  </thead>\n",
       "  <tbody>\n",
       "    <tr>\n",
       "      <th>0</th>\n",
       "      <td>1</td>\n",
       "      <td>6</td>\n",
       "      <td>4.0</td>\n",
       "    </tr>\n",
       "    <tr>\n",
       "      <th>1</th>\n",
       "      <td>2</td>\n",
       "      <td>7</td>\n",
       "      <td>6.0</td>\n",
       "    </tr>\n",
       "    <tr>\n",
       "      <th>2</th>\n",
       "      <td>3</td>\n",
       "      <td>7</td>\n",
       "      <td>3.0</td>\n",
       "    </tr>\n",
       "    <tr>\n",
       "      <th>3</th>\n",
       "      <td>4</td>\n",
       "      <td>13</td>\n",
       "      <td>3.0</td>\n",
       "    </tr>\n",
       "    <tr>\n",
       "      <th>4</th>\n",
       "      <td>5</td>\n",
       "      <td>12</td>\n",
       "      <td>3.0</td>\n",
       "    </tr>\n",
       "  </tbody>\n",
       "</table>\n",
       "</div>"
      ],
      "text/plain": [
       "   trip_id  ind_id  loc_id\n",
       "0        1       6     4.0\n",
       "1        2       7     6.0\n",
       "2        3       7     3.0\n",
       "3        4      13     3.0\n",
       "4        5      12     3.0"
      ]
     },
     "execution_count": 5,
     "metadata": {},
     "output_type": "execute_result"
    }
   ],
   "source": [
    "itineraries.head()"
   ]
  },
  {
   "cell_type": "code",
   "execution_count": 6,
   "metadata": {},
   "outputs": [],
   "source": [
    "coords = pd.read_csv('coord.csv', names = ['att_id', 'loc_id', 'loc_name', 'lat', 'long', 'long_name'])"
   ]
  },
  {
   "cell_type": "code",
   "execution_count": 7,
   "metadata": {},
   "outputs": [
    {
     "data": {
      "text/html": [
       "<div>\n",
       "<style scoped>\n",
       "    .dataframe tbody tr th:only-of-type {\n",
       "        vertical-align: middle;\n",
       "    }\n",
       "\n",
       "    .dataframe tbody tr th {\n",
       "        vertical-align: top;\n",
       "    }\n",
       "\n",
       "    .dataframe thead th {\n",
       "        text-align: right;\n",
       "    }\n",
       "</style>\n",
       "<table border=\"1\" class=\"dataframe\">\n",
       "  <thead>\n",
       "    <tr style=\"text-align: right;\">\n",
       "      <th></th>\n",
       "      <th>att_id</th>\n",
       "      <th>loc_id</th>\n",
       "      <th>loc_name</th>\n",
       "      <th>lat</th>\n",
       "      <th>long</th>\n",
       "      <th>long_name</th>\n",
       "    </tr>\n",
       "  </thead>\n",
       "  <tbody>\n",
       "    <tr>\n",
       "      <th>0</th>\n",
       "      <td>9000</td>\n",
       "      <td>1</td>\n",
       "      <td>Hisar</td>\n",
       "      <td>68.538100</td>\n",
       "      <td>38.526400</td>\n",
       "      <td>���i��__�r\u000b",
       "Hisor</td>\n",
       "    </tr>\n",
       "    <tr>\n",
       "      <th>1</th>\n",
       "      <td>9001</td>\n",
       "      <td>3</td>\n",
       "      <td>Bukhara</td>\n",
       "      <td>64.413150</td>\n",
       "      <td>39.776910</td>\n",
       "      <td>Bukh_�ra (city)</td>\n",
       "    </tr>\n",
       "    <tr>\n",
       "      <th>2</th>\n",
       "      <td>9002</td>\n",
       "      <td>9</td>\n",
       "      <td>Tashkent</td>\n",
       "      <td>69.216667</td>\n",
       "      <td>41.266667</td>\n",
       "      <td>Tashkent</td>\n",
       "    </tr>\n",
       "    <tr>\n",
       "      <th>3</th>\n",
       "      <td>9003</td>\n",
       "      <td>61</td>\n",
       "      <td>Bakharz</td>\n",
       "      <td>60.302222</td>\n",
       "      <td>34.837500</td>\n",
       "      <td>B_�kharz</td>\n",
       "    </tr>\n",
       "    <tr>\n",
       "      <th>4</th>\n",
       "      <td>9004</td>\n",
       "      <td>62</td>\n",
       "      <td>Khiva</td>\n",
       "      <td>60.366667</td>\n",
       "      <td>41.383333</td>\n",
       "      <td>Kh_�va</td>\n",
       "    </tr>\n",
       "  </tbody>\n",
       "</table>\n",
       "</div>"
      ],
      "text/plain": [
       "   att_id  loc_id  loc_name        lat       long         long_name\n",
       "0    9000       1     Hisar  68.538100  38.526400  ���i��__�r\n",
       "Hisor\n",
       "1    9001       3   Bukhara  64.413150  39.776910   Bukh_�ra (city)\n",
       "2    9002       9  Tashkent  69.216667  41.266667          Tashkent\n",
       "3    9003      61   Bakharz  60.302222  34.837500          B_�kharz\n",
       "4    9004      62     Khiva  60.366667  41.383333            Kh_�va"
      ]
     },
     "execution_count": 7,
     "metadata": {},
     "output_type": "execute_result"
    }
   ],
   "source": [
    "coords.head()"
   ]
  },
  {
   "cell_type": "code",
   "execution_count": 8,
   "metadata": {},
   "outputs": [],
   "source": [
    "merge = pd.merge(itineraries, coords, left_on=\"loc_id\", right_on=\"loc_id\")"
   ]
  },
  {
   "cell_type": "code",
   "execution_count": 9,
   "metadata": {},
   "outputs": [
    {
     "data": {
      "text/html": [
       "<div>\n",
       "<style scoped>\n",
       "    .dataframe tbody tr th:only-of-type {\n",
       "        vertical-align: middle;\n",
       "    }\n",
       "\n",
       "    .dataframe tbody tr th {\n",
       "        vertical-align: top;\n",
       "    }\n",
       "\n",
       "    .dataframe thead th {\n",
       "        text-align: right;\n",
       "    }\n",
       "</style>\n",
       "<table border=\"1\" class=\"dataframe\">\n",
       "  <thead>\n",
       "    <tr style=\"text-align: right;\">\n",
       "      <th></th>\n",
       "      <th>trip_id</th>\n",
       "      <th>ind_id</th>\n",
       "      <th>loc_id</th>\n",
       "      <th>att_id</th>\n",
       "      <th>loc_name</th>\n",
       "      <th>lat</th>\n",
       "      <th>long</th>\n",
       "      <th>long_name</th>\n",
       "    </tr>\n",
       "  </thead>\n",
       "  <tbody>\n",
       "    <tr>\n",
       "      <th>774</th>\n",
       "      <td>271</td>\n",
       "      <td>343</td>\n",
       "      <td>28.0</td>\n",
       "      <td>259</td>\n",
       "      <td>Qarshi</td>\n",
       "      <td>65.800000</td>\n",
       "      <td>38.866667</td>\n",
       "      <td>Qarsh_�\u000b",
       "Nasaf\u000b",
       "Nakhshab</td>\n",
       "    </tr>\n",
       "    <tr>\n",
       "      <th>1118</th>\n",
       "      <td>1637</td>\n",
       "      <td>1022</td>\n",
       "      <td>106.0</td>\n",
       "      <td>233</td>\n",
       "      <td>Delhi</td>\n",
       "      <td>77.230000</td>\n",
       "      <td>28.610000</td>\n",
       "      <td>Delhi</td>\n",
       "    </tr>\n",
       "    <tr>\n",
       "      <th>386</th>\n",
       "      <td>1004</td>\n",
       "      <td>854</td>\n",
       "      <td>3.0</td>\n",
       "      <td>9001</td>\n",
       "      <td>Bukhara</td>\n",
       "      <td>64.413150</td>\n",
       "      <td>39.776910</td>\n",
       "      <td>Bukh_�ra (city)</td>\n",
       "    </tr>\n",
       "    <tr>\n",
       "      <th>670</th>\n",
       "      <td>735</td>\n",
       "      <td>741</td>\n",
       "      <td>18.0</td>\n",
       "      <td>339</td>\n",
       "      <td>Namangan</td>\n",
       "      <td>71.668333</td>\n",
       "      <td>41.001111</td>\n",
       "      <td>Namangan</td>\n",
       "    </tr>\n",
       "    <tr>\n",
       "      <th>1089</th>\n",
       "      <td>1617</td>\n",
       "      <td>1010</td>\n",
       "      <td>78.0</td>\n",
       "      <td>279</td>\n",
       "      <td>Mashhad</td>\n",
       "      <td>59.600000</td>\n",
       "      <td>36.300000</td>\n",
       "      <td>Mashhad</td>\n",
       "    </tr>\n",
       "  </tbody>\n",
       "</table>\n",
       "</div>"
      ],
      "text/plain": [
       "      trip_id  ind_id  loc_id  att_id  loc_name        lat       long  \\\n",
       "774       271     343    28.0     259    Qarshi  65.800000  38.866667   \n",
       "1118     1637    1022   106.0     233     Delhi  77.230000  28.610000   \n",
       "386      1004     854     3.0    9001   Bukhara  64.413150  39.776910   \n",
       "670       735     741    18.0     339  Namangan  71.668333  41.001111   \n",
       "1089     1617    1010    78.0     279   Mashhad  59.600000  36.300000   \n",
       "\n",
       "                   long_name  \n",
       "774   Qarsh_�\n",
       "Nasaf\n",
       "Nakhshab  \n",
       "1118                   Delhi  \n",
       "386          Bukh_�ra (city)  \n",
       "670                 Namangan  \n",
       "1089                 Mashhad  "
      ]
     },
     "execution_count": 9,
     "metadata": {},
     "output_type": "execute_result"
    }
   ],
   "source": [
    "merge.sample(5)"
   ]
  },
  {
   "cell_type": "markdown",
   "metadata": {},
   "source": [
    "This part from [Geopandas walkthrough](http://geopandas.org/gallery/create_geopandas_from_pandas.html#sphx-glr-gallery-create-geopandas-from-pandas-py):"
   ]
  },
  {
   "cell_type": "code",
   "execution_count": 10,
   "metadata": {},
   "outputs": [],
   "source": [
    "merge['coordinates'] = list(zip(merge.lat, merge.long))"
   ]
  },
  {
   "cell_type": "code",
   "execution_count": 16,
   "metadata": {},
   "outputs": [],
   "source": [
    "merge['coordinates'] = merge['coordinates'].apply(Point)"
   ]
  },
  {
   "cell_type": "code",
   "execution_count": 12,
   "metadata": {},
   "outputs": [
    {
     "data": {
      "text/html": [
       "<div>\n",
       "<style scoped>\n",
       "    .dataframe tbody tr th:only-of-type {\n",
       "        vertical-align: middle;\n",
       "    }\n",
       "\n",
       "    .dataframe tbody tr th {\n",
       "        vertical-align: top;\n",
       "    }\n",
       "\n",
       "    .dataframe thead th {\n",
       "        text-align: right;\n",
       "    }\n",
       "</style>\n",
       "<table border=\"1\" class=\"dataframe\">\n",
       "  <thead>\n",
       "    <tr style=\"text-align: right;\">\n",
       "      <th></th>\n",
       "      <th>trip_id</th>\n",
       "      <th>ind_id</th>\n",
       "      <th>loc_id</th>\n",
       "      <th>att_id</th>\n",
       "      <th>loc_name</th>\n",
       "      <th>lat</th>\n",
       "      <th>long</th>\n",
       "      <th>long_name</th>\n",
       "      <th>coordinates</th>\n",
       "    </tr>\n",
       "  </thead>\n",
       "  <tbody>\n",
       "    <tr>\n",
       "      <th>0</th>\n",
       "      <td>2</td>\n",
       "      <td>7</td>\n",
       "      <td>6.0</td>\n",
       "      <td>254</td>\n",
       "      <td>Khoqand</td>\n",
       "      <td>70.9425</td>\n",
       "      <td>40.528611</td>\n",
       "      <td>Khoqand (city)\u000b",
       "Kokand</td>\n",
       "      <td>POINT (70.9425 40.528611)</td>\n",
       "    </tr>\n",
       "    <tr>\n",
       "      <th>1</th>\n",
       "      <td>36</td>\n",
       "      <td>13</td>\n",
       "      <td>6.0</td>\n",
       "      <td>254</td>\n",
       "      <td>Khoqand</td>\n",
       "      <td>70.9425</td>\n",
       "      <td>40.528611</td>\n",
       "      <td>Khoqand (city)\u000b",
       "Kokand</td>\n",
       "      <td>POINT (70.9425 40.528611)</td>\n",
       "    </tr>\n",
       "    <tr>\n",
       "      <th>2</th>\n",
       "      <td>48</td>\n",
       "      <td>37</td>\n",
       "      <td>6.0</td>\n",
       "      <td>254</td>\n",
       "      <td>Khoqand</td>\n",
       "      <td>70.9425</td>\n",
       "      <td>40.528611</td>\n",
       "      <td>Khoqand (city)\u000b",
       "Kokand</td>\n",
       "      <td>POINT (70.9425 40.528611)</td>\n",
       "    </tr>\n",
       "    <tr>\n",
       "      <th>3</th>\n",
       "      <td>49</td>\n",
       "      <td>38</td>\n",
       "      <td>6.0</td>\n",
       "      <td>254</td>\n",
       "      <td>Khoqand</td>\n",
       "      <td>70.9425</td>\n",
       "      <td>40.528611</td>\n",
       "      <td>Khoqand (city)\u000b",
       "Kokand</td>\n",
       "      <td>POINT (70.9425 40.528611)</td>\n",
       "    </tr>\n",
       "    <tr>\n",
       "      <th>4</th>\n",
       "      <td>62</td>\n",
       "      <td>51</td>\n",
       "      <td>6.0</td>\n",
       "      <td>254</td>\n",
       "      <td>Khoqand</td>\n",
       "      <td>70.9425</td>\n",
       "      <td>40.528611</td>\n",
       "      <td>Khoqand (city)\u000b",
       "Kokand</td>\n",
       "      <td>POINT (70.9425 40.528611)</td>\n",
       "    </tr>\n",
       "  </tbody>\n",
       "</table>\n",
       "</div>"
      ],
      "text/plain": [
       "   trip_id  ind_id  loc_id  att_id loc_name      lat       long  \\\n",
       "0        2       7     6.0     254  Khoqand  70.9425  40.528611   \n",
       "1       36      13     6.0     254  Khoqand  70.9425  40.528611   \n",
       "2       48      37     6.0     254  Khoqand  70.9425  40.528611   \n",
       "3       49      38     6.0     254  Khoqand  70.9425  40.528611   \n",
       "4       62      51     6.0     254  Khoqand  70.9425  40.528611   \n",
       "\n",
       "               long_name                coordinates  \n",
       "0  Khoqand (city)\n",
       "Kokand  POINT (70.9425 40.528611)  \n",
       "1  Khoqand (city)\n",
       "Kokand  POINT (70.9425 40.528611)  \n",
       "2  Khoqand (city)\n",
       "Kokand  POINT (70.9425 40.528611)  \n",
       "3  Khoqand (city)\n",
       "Kokand  POINT (70.9425 40.528611)  \n",
       "4  Khoqand (city)\n",
       "Kokand  POINT (70.9425 40.528611)  "
      ]
     },
     "execution_count": 12,
     "metadata": {},
     "output_type": "execute_result"
    }
   ],
   "source": [
    "merge.head()"
   ]
  },
  {
   "cell_type": "code",
   "execution_count": 13,
   "metadata": {},
   "outputs": [],
   "source": [
    "gdf = geopandas.GeoDataFrame(merge, geometry='coordinates')"
   ]
  },
  {
   "cell_type": "code",
   "execution_count": 14,
   "metadata": {},
   "outputs": [
    {
     "name": "stdout",
     "output_type": "stream",
     "text": [
      "   trip_id  ind_id  loc_id  att_id loc_name      lat       long  \\\n",
      "0        2       7     6.0     254  Khoqand  70.9425  40.528611   \n",
      "1       36      13     6.0     254  Khoqand  70.9425  40.528611   \n",
      "2       48      37     6.0     254  Khoqand  70.9425  40.528611   \n",
      "3       49      38     6.0     254  Khoqand  70.9425  40.528611   \n",
      "4       62      51     6.0     254  Khoqand  70.9425  40.528611   \n",
      "\n",
      "               long_name                coordinates  \n",
      "0  Khoqand (city)\u000b",
      "Kokand  POINT (70.9425 40.528611)  \n",
      "1  Khoqand (city)\u000b",
      "Kokand  POINT (70.9425 40.528611)  \n",
      "2  Khoqand (city)\u000b",
      "Kokand  POINT (70.9425 40.528611)  \n",
      "3  Khoqand (city)\u000b",
      "Kokand  POINT (70.9425 40.528611)  \n",
      "4  Khoqand (city)\u000b",
      "Kokand  POINT (70.9425 40.528611)  \n"
     ]
    }
   ],
   "source": [
    "print(gdf.head())"
   ]
  },
  {
   "cell_type": "code",
   "execution_count": 15,
   "metadata": {},
   "outputs": [
    {
     "ename": "DriverError",
     "evalue": "../gulshani_gazetteer_project/vector-files/bukhar_protectorate.json.geojson: No such file or directory",
     "output_type": "error",
     "traceback": [
      "\u001b[0;31m---------------------------------------------------------------------------\u001b[0m",
      "\u001b[0;31mCPLE_OpenFailedError\u001b[0m                      Traceback (most recent call last)",
      "\u001b[0;32mfiona/_shim.pyx\u001b[0m in \u001b[0;36mfiona._shim.gdal_open_vector\u001b[0;34m()\u001b[0m\n",
      "\u001b[0;32mfiona/_err.pyx\u001b[0m in \u001b[0;36mfiona._err.exc_wrap_pointer\u001b[0;34m()\u001b[0m\n",
      "\u001b[0;31mCPLE_OpenFailedError\u001b[0m: ../gulshani_gazetteer_project/vector-files/bukhar_protectorate.json.geojson: No such file or directory",
      "\nDuring handling of the above exception, another exception occurred:\n",
      "\u001b[0;31mDriverError\u001b[0m                               Traceback (most recent call last)",
      "\u001b[0;32m<ipython-input-15-802a10e8c568>\u001b[0m in \u001b[0;36m<module>\u001b[0;34m\u001b[0m\n\u001b[0;32m----> 1\u001b[0;31m \u001b[0mworld\u001b[0m \u001b[0;34m=\u001b[0m \u001b[0mgeopandas\u001b[0m\u001b[0;34m.\u001b[0m\u001b[0mread_file\u001b[0m\u001b[0;34m(\u001b[0m\u001b[0;34m\"../gulshani_gazetteer_project/vector-files/bukhar_protectorate.json.geojson\"\u001b[0m\u001b[0;34m)\u001b[0m\u001b[0;34m\u001b[0m\u001b[0;34m\u001b[0m\u001b[0m\n\u001b[0m\u001b[1;32m      2\u001b[0m \u001b[0;34m\u001b[0m\u001b[0m\n\u001b[1;32m      3\u001b[0m \u001b[0;31m# We restrict to South America.\u001b[0m\u001b[0;34m\u001b[0m\u001b[0;34m\u001b[0m\u001b[0;34m\u001b[0m\u001b[0m\n\u001b[1;32m      4\u001b[0m ax = world.plot(\n\u001b[1;32m      5\u001b[0m     color='white', edgecolor='black')\n",
      "\u001b[0;32m~/anaconda3/envs/geo/lib/python3.7/site-packages/geopandas/io/file.py\u001b[0m in \u001b[0;36mread_file\u001b[0;34m(filename, bbox, **kwargs)\u001b[0m\n\u001b[1;32m     63\u001b[0m         \u001b[0mreader\u001b[0m \u001b[0;34m=\u001b[0m \u001b[0mfiona\u001b[0m\u001b[0;34m.\u001b[0m\u001b[0mopen\u001b[0m\u001b[0;34m\u001b[0m\u001b[0;34m\u001b[0m\u001b[0m\n\u001b[1;32m     64\u001b[0m \u001b[0;34m\u001b[0m\u001b[0m\n\u001b[0;32m---> 65\u001b[0;31m     \u001b[0;32mwith\u001b[0m \u001b[0mreader\u001b[0m\u001b[0;34m(\u001b[0m\u001b[0mpath_or_bytes\u001b[0m\u001b[0;34m,\u001b[0m \u001b[0;34m**\u001b[0m\u001b[0mkwargs\u001b[0m\u001b[0;34m)\u001b[0m \u001b[0;32mas\u001b[0m \u001b[0mfeatures\u001b[0m\u001b[0;34m:\u001b[0m\u001b[0;34m\u001b[0m\u001b[0;34m\u001b[0m\u001b[0m\n\u001b[0m\u001b[1;32m     66\u001b[0m         \u001b[0mcrs\u001b[0m \u001b[0;34m=\u001b[0m \u001b[0mfeatures\u001b[0m\u001b[0;34m.\u001b[0m\u001b[0mcrs\u001b[0m\u001b[0;34m\u001b[0m\u001b[0;34m\u001b[0m\u001b[0m\n\u001b[1;32m     67\u001b[0m         \u001b[0;32mif\u001b[0m \u001b[0mbbox\u001b[0m \u001b[0;32mis\u001b[0m \u001b[0;32mnot\u001b[0m \u001b[0;32mNone\u001b[0m\u001b[0;34m:\u001b[0m\u001b[0;34m\u001b[0m\u001b[0;34m\u001b[0m\u001b[0m\n",
      "\u001b[0;32m~/anaconda3/envs/geo/lib/python3.7/site-packages/fiona/env.py\u001b[0m in \u001b[0;36mwrapper\u001b[0;34m(*args, **kwargs)\u001b[0m\n\u001b[1;32m    403\u001b[0m             \u001b[0;32mwith\u001b[0m \u001b[0mEnv\u001b[0m\u001b[0;34m.\u001b[0m\u001b[0mfrom_defaults\u001b[0m\u001b[0;34m(\u001b[0m\u001b[0msession\u001b[0m\u001b[0;34m=\u001b[0m\u001b[0msession\u001b[0m\u001b[0;34m)\u001b[0m\u001b[0;34m:\u001b[0m\u001b[0;34m\u001b[0m\u001b[0;34m\u001b[0m\u001b[0m\n\u001b[1;32m    404\u001b[0m                 \u001b[0mlog\u001b[0m\u001b[0;34m.\u001b[0m\u001b[0mdebug\u001b[0m\u001b[0;34m(\u001b[0m\u001b[0;34m\"Credentialized: {!r}\"\u001b[0m\u001b[0;34m.\u001b[0m\u001b[0mformat\u001b[0m\u001b[0;34m(\u001b[0m\u001b[0mgetenv\u001b[0m\u001b[0;34m(\u001b[0m\u001b[0;34m)\u001b[0m\u001b[0;34m)\u001b[0m\u001b[0;34m)\u001b[0m\u001b[0;34m\u001b[0m\u001b[0;34m\u001b[0m\u001b[0m\n\u001b[0;32m--> 405\u001b[0;31m                 \u001b[0;32mreturn\u001b[0m \u001b[0mf\u001b[0m\u001b[0;34m(\u001b[0m\u001b[0;34m*\u001b[0m\u001b[0margs\u001b[0m\u001b[0;34m,\u001b[0m \u001b[0;34m**\u001b[0m\u001b[0mkwargs\u001b[0m\u001b[0;34m)\u001b[0m\u001b[0;34m\u001b[0m\u001b[0;34m\u001b[0m\u001b[0m\n\u001b[0m\u001b[1;32m    406\u001b[0m     \u001b[0;32mreturn\u001b[0m \u001b[0mwrapper\u001b[0m\u001b[0;34m\u001b[0m\u001b[0;34m\u001b[0m\u001b[0m\n\u001b[1;32m    407\u001b[0m \u001b[0;34m\u001b[0m\u001b[0m\n",
      "\u001b[0;32m~/anaconda3/envs/geo/lib/python3.7/site-packages/fiona/__init__.py\u001b[0m in \u001b[0;36mopen\u001b[0;34m(fp, mode, driver, schema, crs, encoding, layer, vfs, enabled_drivers, crs_wkt, **kwargs)\u001b[0m\n\u001b[1;32m    251\u001b[0m         \u001b[0;32mif\u001b[0m \u001b[0mmode\u001b[0m \u001b[0;32min\u001b[0m \u001b[0;34m(\u001b[0m\u001b[0;34m'a'\u001b[0m\u001b[0;34m,\u001b[0m \u001b[0;34m'r'\u001b[0m\u001b[0;34m)\u001b[0m\u001b[0;34m:\u001b[0m\u001b[0;34m\u001b[0m\u001b[0;34m\u001b[0m\u001b[0m\n\u001b[1;32m    252\u001b[0m             c = Collection(path, mode, driver=driver, encoding=encoding,\n\u001b[0;32m--> 253\u001b[0;31m                            layer=layer, enabled_drivers=enabled_drivers, **kwargs)\n\u001b[0m\u001b[1;32m    254\u001b[0m         \u001b[0;32melif\u001b[0m \u001b[0mmode\u001b[0m \u001b[0;34m==\u001b[0m \u001b[0;34m'w'\u001b[0m\u001b[0;34m:\u001b[0m\u001b[0;34m\u001b[0m\u001b[0;34m\u001b[0m\u001b[0m\n\u001b[1;32m    255\u001b[0m             \u001b[0;32mif\u001b[0m \u001b[0mschema\u001b[0m\u001b[0;34m:\u001b[0m\u001b[0;34m\u001b[0m\u001b[0;34m\u001b[0m\u001b[0m\n",
      "\u001b[0;32m~/anaconda3/envs/geo/lib/python3.7/site-packages/fiona/collection.py\u001b[0m in \u001b[0;36m__init__\u001b[0;34m(self, path, mode, driver, schema, crs, encoding, layer, vsi, archive, enabled_drivers, crs_wkt, ignore_fields, ignore_geometry, **kwargs)\u001b[0m\n\u001b[1;32m    157\u001b[0m             \u001b[0;32mif\u001b[0m \u001b[0mself\u001b[0m\u001b[0;34m.\u001b[0m\u001b[0mmode\u001b[0m \u001b[0;34m==\u001b[0m \u001b[0;34m'r'\u001b[0m\u001b[0;34m:\u001b[0m\u001b[0;34m\u001b[0m\u001b[0;34m\u001b[0m\u001b[0m\n\u001b[1;32m    158\u001b[0m                 \u001b[0mself\u001b[0m\u001b[0;34m.\u001b[0m\u001b[0msession\u001b[0m \u001b[0;34m=\u001b[0m \u001b[0mSession\u001b[0m\u001b[0;34m(\u001b[0m\u001b[0;34m)\u001b[0m\u001b[0;34m\u001b[0m\u001b[0;34m\u001b[0m\u001b[0m\n\u001b[0;32m--> 159\u001b[0;31m                 \u001b[0mself\u001b[0m\u001b[0;34m.\u001b[0m\u001b[0msession\u001b[0m\u001b[0;34m.\u001b[0m\u001b[0mstart\u001b[0m\u001b[0;34m(\u001b[0m\u001b[0mself\u001b[0m\u001b[0;34m,\u001b[0m \u001b[0;34m**\u001b[0m\u001b[0mkwargs\u001b[0m\u001b[0;34m)\u001b[0m\u001b[0;34m\u001b[0m\u001b[0;34m\u001b[0m\u001b[0m\n\u001b[0m\u001b[1;32m    160\u001b[0m             \u001b[0;32melif\u001b[0m \u001b[0mself\u001b[0m\u001b[0;34m.\u001b[0m\u001b[0mmode\u001b[0m \u001b[0;32min\u001b[0m \u001b[0;34m(\u001b[0m\u001b[0;34m'a'\u001b[0m\u001b[0;34m,\u001b[0m \u001b[0;34m'w'\u001b[0m\u001b[0;34m)\u001b[0m\u001b[0;34m:\u001b[0m\u001b[0;34m\u001b[0m\u001b[0;34m\u001b[0m\u001b[0m\n\u001b[1;32m    161\u001b[0m                 \u001b[0mself\u001b[0m\u001b[0;34m.\u001b[0m\u001b[0msession\u001b[0m \u001b[0;34m=\u001b[0m \u001b[0mWritingSession\u001b[0m\u001b[0;34m(\u001b[0m\u001b[0;34m)\u001b[0m\u001b[0;34m\u001b[0m\u001b[0;34m\u001b[0m\u001b[0m\n",
      "\u001b[0;32mfiona/ogrext.pyx\u001b[0m in \u001b[0;36mfiona.ogrext.Session.start\u001b[0;34m()\u001b[0m\n",
      "\u001b[0;32mfiona/_shim.pyx\u001b[0m in \u001b[0;36mfiona._shim.gdal_open_vector\u001b[0;34m()\u001b[0m\n",
      "\u001b[0;31mDriverError\u001b[0m: ../gulshani_gazetteer_project/vector-files/bukhar_protectorate.json.geojson: No such file or directory"
     ]
    }
   ],
   "source": [
    "world = geopandas.read_file(\"../gulshani_gazetteer_project/vector-files/bukhar_protectorate.json.geojson\")\n",
    "\n",
    "# We restrict to South America.\n",
    "ax = world.plot(\n",
    "    color='white', edgecolor='black')\n",
    "\n",
    "# We can now plot our GeoDataFrame.\n",
    "gdf.plot(ax=ax, color='blue')\n",
    "\n",
    "plt.show()"
   ]
  },
  {
   "cell_type": "code",
   "execution_count": null,
   "metadata": {},
   "outputs": [],
   "source": [
    "df_bukh = geopandas.read_file(\"../gulshani_gazetteer_project/vector-files/bukhar_protectorate.json.geojson\")\n",
    "df_bukh.plot(cmap='OrRd')"
   ]
  },
  {
   "cell_type": "code",
   "execution_count": null,
   "metadata": {},
   "outputs": [],
   "source": []
  },
  {
   "cell_type": "code",
   "execution_count": null,
   "metadata": {},
   "outputs": [],
   "source": []
  }
 ],
 "metadata": {
  "kernelspec": {
   "display_name": "Python 3",
   "language": "python",
   "name": "python3"
  },
  "language_info": {
   "codemirror_mode": {
    "name": "ipython",
    "version": 3
   },
   "file_extension": ".py",
   "mimetype": "text/x-python",
   "name": "python",
   "nbconvert_exporter": "python",
   "pygments_lexer": "ipython3",
   "version": "3.7.2"
  }
 },
 "nbformat": 4,
 "nbformat_minor": 2
}
